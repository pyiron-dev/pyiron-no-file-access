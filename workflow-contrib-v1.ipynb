{
 "cells": [
  {
   "cell_type": "code",
   "execution_count": 1,
   "metadata": {},
   "outputs": [],
   "source": [
    "import numpy as np"
   ]
  },
  {
   "cell_type": "code",
   "execution_count": 2,
   "metadata": {},
   "outputs": [],
   "source": [
    "from tqdm import tqdm"
   ]
  },
  {
   "cell_type": "code",
   "execution_count": 3,
   "metadata": {},
   "outputs": [
    {
     "data": {
      "application/vnd.jupyter.widget-view+json": {
       "model_id": "26c27d3ca56b4035a4eea29c552dcd63",
       "version_major": 2,
       "version_minor": 0
      },
      "text/plain": []
     },
     "metadata": {},
     "output_type": "display_data"
    }
   ],
   "source": [
    "import pyiron_contrib"
   ]
  },
  {
   "cell_type": "code",
   "execution_count": 4,
   "metadata": {},
   "outputs": [],
   "source": [
    "from pyiron_base import state"
   ]
  },
  {
   "cell_type": "code",
   "execution_count": 5,
   "metadata": {},
   "outputs": [],
   "source": [
    "from pyiron_atomistics import Project"
   ]
  },
  {
   "cell_type": "code",
   "execution_count": 6,
   "metadata": {},
   "outputs": [],
   "source": [
    "def body_order(n=32, b=5):\n",
    "    if b == 2:\n",
    "        return [[i ,n-i] for i in range(n+1)]\n",
    "    else:\n",
    "        lst = []\n",
    "        for i in range(n+1):\n",
    "            for j in body_order(n=n-i, b=b-1):\n",
    "                lst.append([i] + j)\n",
    "        return lst"
   ]
  },
  {
   "cell_type": "code",
   "execution_count": 7,
   "metadata": {},
   "outputs": [
    {
     "data": {
      "text/plain": [
       "{'user': 'pyiron',\n",
       " 'resource_paths': ['/Users/jan/pyiron/resources',\n",
       "  '/Users/jan/miniforge3/share/pyiron'],\n",
       " 'project_paths': [],\n",
       " 'connection_timeout': 60,\n",
       " 'sql_connection_string': None,\n",
       " 'sql_table_name': 'jobs_pyiron',\n",
       " 'sql_view_connection_string': None,\n",
       " 'sql_view_table_name': None,\n",
       " 'sql_view_user': None,\n",
       " 'sql_view_user_key': None,\n",
       " 'sql_file': '/Users/jan/pyiron.db',\n",
       " 'sql_host': None,\n",
       " 'sql_type': 'SQLite',\n",
       " 'sql_user_key': None,\n",
       " 'sql_database': None,\n",
       " 'project_check_enabled': False,\n",
       " 'disable_database': True,\n",
       " 'credentials_file': None,\n",
       " 'write_work_dir_warnings': True,\n",
       " 'config_file_permissions_warning': True}"
      ]
     },
     "execution_count": 7,
     "metadata": {},
     "output_type": "execute_result"
    }
   ],
   "source": [
    "state.settings.configuration"
   ]
  },
  {
   "cell_type": "code",
   "execution_count": 8,
   "metadata": {},
   "outputs": [],
   "source": [
    "project = Project('workflow')"
   ]
  },
  {
   "cell_type": "code",
   "execution_count": 9,
   "metadata": {},
   "outputs": [],
   "source": [
    "project.remove_jobs(recursive=True, silently=True)"
   ]
  },
  {
   "cell_type": "code",
   "execution_count": 10,
   "metadata": {},
   "outputs": [],
   "source": [
    "structure = project.create.structure.ase.bulk(\"Al\", cubic=True).repeat([2,2,2])"
   ]
  },
  {
   "cell_type": "code",
   "execution_count": 11,
   "metadata": {},
   "outputs": [],
   "source": [
    "element_lst = [\"Fe\", \"Ni\", \"Cr\", \"Co\", \"Cu\"]"
   ]
  },
  {
   "cell_type": "code",
   "execution_count": 12,
   "metadata": {},
   "outputs": [],
   "source": [
    "number_atoms = len(structure)"
   ]
  },
  {
   "cell_type": "code",
   "execution_count": 13,
   "metadata": {},
   "outputs": [],
   "source": [
    "number_species = len(element_lst)"
   ]
  },
  {
   "cell_type": "code",
   "execution_count": 14,
   "metadata": {},
   "outputs": [],
   "source": [
    "cores = 1"
   ]
  },
  {
   "cell_type": "code",
   "execution_count": 15,
   "metadata": {},
   "outputs": [],
   "source": [
    "potential = '2021--Deluigi-O-R--Fe-Ni-Cr-Co-Cu--LAMMPS--ipr1'"
   ]
  },
  {
   "cell_type": "code",
   "execution_count": 16,
   "metadata": {},
   "outputs": [],
   "source": [
    "lst_32 = body_order(n=number_atoms, b=number_species)[:10]"
   ]
  },
  {
   "cell_type": "code",
   "execution_count": 17,
   "metadata": {},
   "outputs": [],
   "source": [
    "structure_collect_lst, elastic_collect_lst = [], []"
   ]
  },
  {
   "cell_type": "code",
   "execution_count": 18,
   "metadata": {},
   "outputs": [
    {
     "name": "stderr",
     "output_type": "stream",
     "text": [
      "  0%|                                                    | 0/10 [00:00<?, ?it/s]"
     ]
    },
    {
     "name": "stdout",
     "output_type": "stream",
     "text": [
      "The job lmp_mini was saved and received the ID: lmp_mini\n"
     ]
    },
    {
     "name": "stderr",
     "output_type": "stream",
     "text": [
      "/Users/jan/PycharmProjects/pyiron_atomistics/pyiron_atomistics/lammps/interactive.py:491: UserWarning: Warning: setting upper trangular matrix might slow down the calculation\n",
      "  warnings.warn(\n",
      "/Users/jan/PycharmProjects/pyiron_atomistics/pyiron_atomistics/lammps/interactive.py:121: UserWarning: Warning: setting upper trangular matrix might slow down the calculation\n",
      "  warnings.warn(\n"
     ]
    },
    {
     "name": "stdout",
     "output_type": "stream",
     "text": [
      "The job elastic was saved and received the ID: elastic\n",
      "The job elastic_lmp_elastic was saved and received the ID: elastic_lmp_elastic\n"
     ]
    },
    {
     "name": "stderr",
     "output_type": "stream",
     "text": [
      "/Users/jan/PycharmProjects/pyiron_atomistics/pyiron_atomistics/lammps/interactive.py:491: UserWarning: Warning: setting upper trangular matrix might slow down the calculation\n",
      "  warnings.warn(\n",
      " 10%|████▍                                       | 1/10 [00:03<00:35,  3.89s/it]"
     ]
    },
    {
     "data": {
      "text/html": [
       "<pre style=\"white-space:pre;overflow-x:auto;line-height:normal;font-family:Menlo,'DejaVu Sans Mono',consolas,'Courier New',monospace\"></pre>\n"
      ],
      "text/plain": []
     },
     "metadata": {},
     "output_type": "display_data"
    },
    {
     "data": {
      "text/html": [
       "<pre style=\"white-space:pre;overflow-x:auto;line-height:normal;font-family:Menlo,'DejaVu Sans Mono',consolas,'Courier New',monospace\"></pre>\n"
      ],
      "text/plain": []
     },
     "metadata": {},
     "output_type": "display_data"
    },
    {
     "name": "stdout",
     "output_type": "stream",
     "text": [
      "The job sqs was saved and received the ID: sqs\n",
      "The job lmp_mini was saved and received the ID: lmp_mini\n"
     ]
    },
    {
     "name": "stderr",
     "output_type": "stream",
     "text": [
      "/Users/jan/PycharmProjects/pyiron_atomistics/pyiron_atomistics/lammps/interactive.py:491: UserWarning: Warning: setting upper trangular matrix might slow down the calculation\n",
      "  warnings.warn(\n",
      "/Users/jan/PycharmProjects/pyiron_atomistics/pyiron_atomistics/lammps/interactive.py:121: UserWarning: Warning: setting upper trangular matrix might slow down the calculation\n",
      "  warnings.warn(\n"
     ]
    },
    {
     "name": "stdout",
     "output_type": "stream",
     "text": [
      "The job elastic was saved and received the ID: elastic\n",
      "The job elastic_lmp_elastic was saved and received the ID: elastic_lmp_elastic\n"
     ]
    },
    {
     "name": "stderr",
     "output_type": "stream",
     "text": [
      "/Users/jan/PycharmProjects/pyiron_atomistics/pyiron_atomistics/lammps/interactive.py:491: UserWarning: Warning: setting upper trangular matrix might slow down the calculation\n",
      "  warnings.warn(\n",
      " 20%|████████▊                                   | 2/10 [00:08<00:32,  4.04s/it]"
     ]
    },
    {
     "name": "stdout",
     "output_type": "stream",
     "text": [
      "The job sqs was saved and received the ID: sqs\n",
      "The job lmp_mini was saved and received the ID: lmp_mini\n"
     ]
    },
    {
     "name": "stderr",
     "output_type": "stream",
     "text": [
      "/Users/jan/PycharmProjects/pyiron_atomistics/pyiron_atomistics/lammps/interactive.py:491: UserWarning: Warning: setting upper trangular matrix might slow down the calculation\n",
      "  warnings.warn(\n",
      "/Users/jan/PycharmProjects/pyiron_atomistics/pyiron_atomistics/lammps/interactive.py:121: UserWarning: Warning: setting upper trangular matrix might slow down the calculation\n",
      "  warnings.warn(\n"
     ]
    },
    {
     "name": "stdout",
     "output_type": "stream",
     "text": [
      "The job elastic was saved and received the ID: elastic\n",
      "The job elastic_lmp_elastic was saved and received the ID: elastic_lmp_elastic\n"
     ]
    },
    {
     "name": "stderr",
     "output_type": "stream",
     "text": [
      "/Users/jan/PycharmProjects/pyiron_atomistics/pyiron_atomistics/lammps/interactive.py:491: UserWarning: Warning: setting upper trangular matrix might slow down the calculation\n",
      "  warnings.warn(\n",
      " 30%|█████████████▏                              | 3/10 [00:12<00:30,  4.38s/it]"
     ]
    },
    {
     "name": "stdout",
     "output_type": "stream",
     "text": [
      "The job sqs was saved and received the ID: sqs\n",
      "The job lmp_mini was saved and received the ID: lmp_mini\n"
     ]
    },
    {
     "name": "stderr",
     "output_type": "stream",
     "text": [
      "/Users/jan/PycharmProjects/pyiron_atomistics/pyiron_atomistics/lammps/interactive.py:491: UserWarning: Warning: setting upper trangular matrix might slow down the calculation\n",
      "  warnings.warn(\n",
      "/Users/jan/PycharmProjects/pyiron_atomistics/pyiron_atomistics/lammps/interactive.py:121: UserWarning: Warning: setting upper trangular matrix might slow down the calculation\n",
      "  warnings.warn(\n"
     ]
    },
    {
     "name": "stdout",
     "output_type": "stream",
     "text": [
      "The job elastic was saved and received the ID: elastic\n",
      "The job elastic_lmp_elastic was saved and received the ID: elastic_lmp_elastic\n"
     ]
    },
    {
     "name": "stderr",
     "output_type": "stream",
     "text": [
      "/Users/jan/PycharmProjects/pyiron_atomistics/pyiron_atomistics/lammps/interactive.py:491: UserWarning: Warning: setting upper trangular matrix might slow down the calculation\n",
      "  warnings.warn(\n",
      " 40%|█████████████████▌                          | 4/10 [00:17<00:27,  4.54s/it]"
     ]
    },
    {
     "name": "stdout",
     "output_type": "stream",
     "text": [
      "The job sqs was saved and received the ID: sqs\n",
      "The job lmp_mini was saved and received the ID: lmp_mini\n"
     ]
    },
    {
     "name": "stderr",
     "output_type": "stream",
     "text": [
      "/Users/jan/PycharmProjects/pyiron_atomistics/pyiron_atomistics/lammps/interactive.py:491: UserWarning: Warning: setting upper trangular matrix might slow down the calculation\n",
      "  warnings.warn(\n",
      "/Users/jan/PycharmProjects/pyiron_atomistics/pyiron_atomistics/lammps/interactive.py:121: UserWarning: Warning: setting upper trangular matrix might slow down the calculation\n",
      "  warnings.warn(\n"
     ]
    },
    {
     "name": "stdout",
     "output_type": "stream",
     "text": [
      "The job elastic was saved and received the ID: elastic\n",
      "The job elastic_lmp_elastic was saved and received the ID: elastic_lmp_elastic\n"
     ]
    },
    {
     "name": "stderr",
     "output_type": "stream",
     "text": [
      "/Users/jan/PycharmProjects/pyiron_atomistics/pyiron_atomistics/lammps/interactive.py:491: UserWarning: Warning: setting upper trangular matrix might slow down the calculation\n",
      "  warnings.warn(\n",
      " 50%|██████████████████████                      | 5/10 [00:23<00:24,  4.94s/it]"
     ]
    },
    {
     "name": "stdout",
     "output_type": "stream",
     "text": [
      "The job sqs was saved and received the ID: sqs\n",
      "The job lmp_mini was saved and received the ID: lmp_mini\n"
     ]
    },
    {
     "name": "stderr",
     "output_type": "stream",
     "text": [
      "/Users/jan/PycharmProjects/pyiron_atomistics/pyiron_atomistics/lammps/interactive.py:491: UserWarning: Warning: setting upper trangular matrix might slow down the calculation\n",
      "  warnings.warn(\n",
      "/Users/jan/PycharmProjects/pyiron_atomistics/pyiron_atomistics/lammps/interactive.py:121: UserWarning: Warning: setting upper trangular matrix might slow down the calculation\n",
      "  warnings.warn(\n"
     ]
    },
    {
     "name": "stdout",
     "output_type": "stream",
     "text": [
      "The job elastic was saved and received the ID: elastic\n",
      "The job elastic_lmp_elastic was saved and received the ID: elastic_lmp_elastic\n"
     ]
    },
    {
     "name": "stderr",
     "output_type": "stream",
     "text": [
      "/Users/jan/PycharmProjects/pyiron_atomistics/pyiron_atomistics/lammps/interactive.py:491: UserWarning: Warning: setting upper trangular matrix might slow down the calculation\n",
      "  warnings.warn(\n",
      " 60%|██████████████████████████▍                 | 6/10 [00:29<00:21,  5.36s/it]"
     ]
    },
    {
     "name": "stdout",
     "output_type": "stream",
     "text": [
      "The job sqs was saved and received the ID: sqs\n",
      "The job lmp_mini was saved and received the ID: lmp_mini\n"
     ]
    },
    {
     "name": "stderr",
     "output_type": "stream",
     "text": [
      "/Users/jan/PycharmProjects/pyiron_atomistics/pyiron_atomistics/lammps/interactive.py:491: UserWarning: Warning: setting upper trangular matrix might slow down the calculation\n",
      "  warnings.warn(\n",
      "/Users/jan/PycharmProjects/pyiron_atomistics/pyiron_atomistics/lammps/interactive.py:121: UserWarning: Warning: setting upper trangular matrix might slow down the calculation\n",
      "  warnings.warn(\n"
     ]
    },
    {
     "name": "stdout",
     "output_type": "stream",
     "text": [
      "The job elastic was saved and received the ID: elastic\n",
      "The job elastic_lmp_elastic was saved and received the ID: elastic_lmp_elastic\n"
     ]
    },
    {
     "name": "stderr",
     "output_type": "stream",
     "text": [
      "/Users/jan/PycharmProjects/pyiron_atomistics/pyiron_atomistics/lammps/interactive.py:491: UserWarning: Warning: setting upper trangular matrix might slow down the calculation\n",
      "  warnings.warn(\n",
      " 70%|██████████████████████████████▊             | 7/10 [00:35<00:16,  5.43s/it]"
     ]
    },
    {
     "name": "stdout",
     "output_type": "stream",
     "text": [
      "The job sqs was saved and received the ID: sqs\n",
      "The job lmp_mini was saved and received the ID: lmp_mini\n"
     ]
    },
    {
     "name": "stderr",
     "output_type": "stream",
     "text": [
      "/Users/jan/PycharmProjects/pyiron_atomistics/pyiron_atomistics/lammps/interactive.py:491: UserWarning: Warning: setting upper trangular matrix might slow down the calculation\n",
      "  warnings.warn(\n",
      "/Users/jan/PycharmProjects/pyiron_atomistics/pyiron_atomistics/lammps/interactive.py:121: UserWarning: Warning: setting upper trangular matrix might slow down the calculation\n",
      "  warnings.warn(\n"
     ]
    },
    {
     "name": "stdout",
     "output_type": "stream",
     "text": [
      "The job elastic was saved and received the ID: elastic\n",
      "The job elastic_lmp_elastic was saved and received the ID: elastic_lmp_elastic\n"
     ]
    },
    {
     "name": "stderr",
     "output_type": "stream",
     "text": [
      "/Users/jan/PycharmProjects/pyiron_atomistics/pyiron_atomistics/lammps/interactive.py:491: UserWarning: Warning: setting upper trangular matrix might slow down the calculation\n",
      "  warnings.warn(\n",
      " 80%|███████████████████████████████████▏        | 8/10 [00:40<00:10,  5.48s/it]"
     ]
    },
    {
     "name": "stdout",
     "output_type": "stream",
     "text": [
      "The job sqs was saved and received the ID: sqs\n",
      "The job lmp_mini was saved and received the ID: lmp_mini\n"
     ]
    },
    {
     "name": "stderr",
     "output_type": "stream",
     "text": [
      "/Users/jan/PycharmProjects/pyiron_atomistics/pyiron_atomistics/lammps/interactive.py:491: UserWarning: Warning: setting upper trangular matrix might slow down the calculation\n",
      "  warnings.warn(\n",
      "/Users/jan/PycharmProjects/pyiron_atomistics/pyiron_atomistics/lammps/interactive.py:121: UserWarning: Warning: setting upper trangular matrix might slow down the calculation\n",
      "  warnings.warn(\n"
     ]
    },
    {
     "name": "stdout",
     "output_type": "stream",
     "text": [
      "The job elastic was saved and received the ID: elastic\n",
      "The job elastic_lmp_elastic was saved and received the ID: elastic_lmp_elastic\n"
     ]
    },
    {
     "name": "stderr",
     "output_type": "stream",
     "text": [
      "/Users/jan/PycharmProjects/pyiron_atomistics/pyiron_atomistics/lammps/interactive.py:491: UserWarning: Warning: setting upper trangular matrix might slow down the calculation\n",
      "  warnings.warn(\n",
      " 90%|███████████████████████████████████████▌    | 9/10 [00:46<00:05,  5.68s/it]"
     ]
    },
    {
     "name": "stdout",
     "output_type": "stream",
     "text": [
      "The job sqs was saved and received the ID: sqs\n",
      "The job lmp_mini was saved and received the ID: lmp_mini\n"
     ]
    },
    {
     "name": "stderr",
     "output_type": "stream",
     "text": [
      "/Users/jan/PycharmProjects/pyiron_atomistics/pyiron_atomistics/lammps/interactive.py:491: UserWarning: Warning: setting upper trangular matrix might slow down the calculation\n",
      "  warnings.warn(\n",
      "/Users/jan/PycharmProjects/pyiron_atomistics/pyiron_atomistics/lammps/interactive.py:121: UserWarning: Warning: setting upper trangular matrix might slow down the calculation\n",
      "  warnings.warn(\n"
     ]
    },
    {
     "name": "stdout",
     "output_type": "stream",
     "text": [
      "The job elastic was saved and received the ID: elastic\n",
      "The job elastic_lmp_elastic was saved and received the ID: elastic_lmp_elastic\n"
     ]
    },
    {
     "name": "stderr",
     "output_type": "stream",
     "text": [
      "/Users/jan/PycharmProjects/pyiron_atomistics/pyiron_atomistics/lammps/interactive.py:491: UserWarning: Warning: setting upper trangular matrix might slow down the calculation\n",
      "  warnings.warn(\n",
      "100%|███████████████████████████████████████████| 10/10 [00:52<00:00,  5.24s/it]\n"
     ]
    }
   ],
   "source": [
    "for conc_lst in tqdm(lst_32):\n",
    "    # Generate structure \n",
    "    if sum(np.array(conc_lst)==0) != 4:\n",
    "        mole_fraction = {\n",
    "            el: conc/number_atoms\n",
    "            for el, conc in zip(element_lst, conc_lst)\n",
    "            if conc > 0\n",
    "        }\n",
    "        job = project.create_job(project.job_type.SQSJobWithoutOutput, \"sqs\")\n",
    "        job._interactive_disable_log_file = True\n",
    "        job.structure = structure\n",
    "        job.input['mole_fractions'] = mole_fraction\n",
    "        job.input['iterations'] = 1e6\n",
    "        job.server.cores = cores\n",
    "        job.run()\n",
    "        structure_next = job._lst_of_struct[-1]\n",
    "    else:\n",
    "        structure_next = structure.copy()\n",
    "        structure_next.symbols[:] = np.array(element_lst)[np.array(conc_lst)!=0][0] \n",
    "    structure_collect_lst.append(structure_next)\n",
    "    \n",
    "    # Minimize strucute \n",
    "    lmp_mini1 = project.create_job(project.job_type.LammpsInteractiveWithoutOutput, \"lmp_mini\", delete_existing_job=True)\n",
    "    lmp_mini1.structure = structure_next\n",
    "    lmp_mini1.potential = potential\n",
    "    lmp_mini1.calc_minimize(pressure=0.0)\n",
    "    lmp_mini1.server.run_mode.interactive = True\n",
    "    lmp_mini1._interactive_disable_log_file = True  # disable lammps.log \n",
    "    lmp_mini1.run()\n",
    "    lmp_mini1.interactive_close()\n",
    "\n",
    "    # Elastic constants \n",
    "    lmp_elastic = project.create_job(project.job_type.LammpsInteractiveWithoutOutput, \"lmp_elastic\", delete_existing_job=True)\n",
    "    lmp_elastic.structure = lmp_mini1.get_structure()\n",
    "    lmp_elastic.potential = potential\n",
    "    lmp_elastic.interactive_enforce_structure_reset = True \n",
    "    lmp_elastic.server.run_mode.interactive = True\n",
    "    lmp_elastic._interactive_disable_log_file = True  # disable lammps.log\n",
    "    elastic = lmp_elastic.create_job(project.job_type.ElasticMatrixJobWithoutFiles, \"elastic\", delete_existing_job=True)\n",
    "    elastic._interactive_disable_log_file = True  # disable lammps.log\n",
    "    elastic.run()\n",
    "    \n",
    "    elastic_collect_lst.append(elastic._data[\"C\"])"
   ]
  },
  {
   "cell_type": "code",
   "execution_count": 19,
   "metadata": {},
   "outputs": [
    {
     "data": {
      "text/plain": [
       "[array([[171.55080699, 116.38765601, 116.38765601,   0.        ,\n",
       "           0.        ,   0.        ],\n",
       "        [116.38765601, 171.55080699, 116.38765601,   0.        ,\n",
       "           0.        ,   0.        ],\n",
       "        [116.38765601, 116.38765601, 171.55080699,   0.        ,\n",
       "           0.        ,   0.        ],\n",
       "        [  0.        ,   0.        ,   0.        ,  76.35007615,\n",
       "           0.        ,   0.        ],\n",
       "        [  0.        ,   0.        ,   0.        ,   0.        ,\n",
       "          76.35007615,   0.        ],\n",
       "        [  0.        ,   0.        ,   0.        ,   0.        ,\n",
       "           0.        ,  76.35007615]]),\n",
       " array([[168.20637662, 117.34259605, 117.34259605,   0.        ,\n",
       "           0.        ,   0.        ],\n",
       "        [117.34259605, 168.20637662, 117.34259605,   0.        ,\n",
       "           0.        ,   0.        ],\n",
       "        [117.34259605, 117.34259605, 168.20637662,   0.        ,\n",
       "           0.        ,   0.        ],\n",
       "        [  0.        ,   0.        ,   0.        ,  78.13518656,\n",
       "           0.        ,   0.        ],\n",
       "        [  0.        ,   0.        ,   0.        ,   0.        ,\n",
       "          78.13518656,   0.        ],\n",
       "        [  0.        ,   0.        ,   0.        ,   0.        ,\n",
       "           0.        ,  78.13518656]]),\n",
       " array([[166.23493388, 118.95527725, 118.95527725,   0.        ,\n",
       "           0.        ,   0.        ],\n",
       "        [118.95527725, 170.33177415, 120.67541428,   0.        ,\n",
       "           0.        ,   0.        ],\n",
       "        [118.95527725, 120.67541428, 170.33177415,   0.        ,\n",
       "           0.        ,   0.        ],\n",
       "        [  0.        ,   0.        ,   0.        ,  79.99922776,\n",
       "           0.        ,   0.        ],\n",
       "        [  0.        ,   0.        ,   0.        ,   0.        ,\n",
       "          79.96932866,   0.        ],\n",
       "        [  0.        ,   0.        ,   0.        ,   0.        ,\n",
       "           0.        ,  79.96932715]]),\n",
       " array([[ 1.70715419e+02,  1.19995795e+02,  1.20099354e+02,\n",
       "          0.00000000e+00,  0.00000000e+00,  5.29244596e-01],\n",
       "        [ 1.19995795e+02,  1.71454932e+02,  2.84847773e+02,\n",
       "          0.00000000e+00,  0.00000000e+00,  4.20808926e-01],\n",
       "        [ 1.20099354e+02,  2.84847773e+02,  1.71454932e+02,\n",
       "          0.00000000e+00,  0.00000000e+00,  2.86655027e-01],\n",
       "        [ 0.00000000e+00,  0.00000000e+00,  0.00000000e+00,\n",
       "          8.18802567e+01, -4.74769617e-02,  0.00000000e+00],\n",
       "        [ 0.00000000e+00,  0.00000000e+00,  0.00000000e+00,\n",
       "         -4.74769617e-02,  8.19113287e+01,  0.00000000e+00],\n",
       "        [ 5.29244596e-01,  4.20808926e-01,  2.86655027e-01,\n",
       "          0.00000000e+00,  0.00000000e+00,  8.19113289e+01]]),\n",
       " array([[ 1.76520281e+02,  1.22159376e+02,  1.22084416e+02,\n",
       "         -1.06446057e-01,  6.06594156e-02,  9.03509341e-02],\n",
       "        [ 1.22159376e+02,  1.74056252e+02,  1.21950598e+02,\n",
       "          6.36679496e-02,  9.26338526e-03,  9.29963345e-02],\n",
       "        [ 1.22084416e+02,  1.21950598e+02,  1.75446023e+02,\n",
       "          6.99985052e-02,  6.95142926e-02, -6.22879578e-02],\n",
       "        [-1.06446057e-01,  6.36679496e-02,  6.99985052e-02,\n",
       "          8.37841998e+01,  2.40777604e-02,  1.26887336e-03],\n",
       "        [ 6.06594156e-02,  9.26338526e-03,  6.95142926e-02,\n",
       "          2.40777604e-02,  8.39975438e+01,  6.20395205e-02],\n",
       "        [ 9.03509341e-02,  9.29963345e-02, -6.22879578e-02,\n",
       "          1.26887336e-03,  6.20395205e-02,  8.38936757e+01]]),\n",
       " array([[ 1.75768789e+02,  1.19753335e+02,  1.19572101e+02,\n",
       "          5.88873537e-02,  4.78443922e-02,  1.20163772e-01],\n",
       "        [ 1.19753335e+02,  1.73667575e+02,  1.19710193e+02,\n",
       "          1.58425981e-01, -2.38876475e-02,  1.22308245e-01],\n",
       "        [ 1.19572101e+02,  1.19710193e+02,  1.74932630e+02,\n",
       "          1.74437778e-01,  5.04635040e-02, -2.89486402e-03],\n",
       "        [ 5.88873537e-02,  1.58425981e-01,  1.74437778e-01,\n",
       "          8.57938408e+01, -1.79625419e-02,  1.88751484e-03],\n",
       "        [ 4.78443922e-02, -2.38876475e-02,  5.04635040e-02,\n",
       "         -1.79625419e-02,  8.57035055e+01,  8.70694619e-04],\n",
       "        [ 1.20163772e-01,  1.22308245e-01, -2.89486402e-03,\n",
       "          1.88751484e-03,  8.70694619e-04,  8.59088900e+01]]),\n",
       " array([[ 1.75865276e+02,  1.18392541e+02,  1.18566251e+02,\n",
       "         -1.78421618e-01,  8.13677642e-02,  6.57156337e-02],\n",
       "        [ 1.18392541e+02,  1.75387807e+02,  1.17842646e+02,\n",
       "         -1.27681048e-01,  3.66576663e-03,  5.55436412e-02],\n",
       "        [ 1.18566251e+02,  1.17842646e+02,  1.75100192e+02,\n",
       "         -1.06637650e-01,  8.18677129e-02,  7.22769693e-02],\n",
       "        [-1.78421618e-01, -1.27681048e-01, -1.06637650e-01,\n",
       "          8.79442390e+01, -8.25975486e-02, -2.89233564e-02],\n",
       "        [ 8.13677642e-02,  3.66576663e-03,  8.18677129e-02,\n",
       "         -8.25975486e-02,  8.80348766e+01,  2.11016792e-02],\n",
       "        [ 6.57156337e-02,  5.55436412e-02,  7.22769693e-02,\n",
       "         -2.89233564e-02,  2.11016792e-02,  8.78439486e+01]]),\n",
       " array([[ 1.82937987e+02,  1.22212012e+02,  1.22381848e+02,\n",
       "         -1.44085560e-01, -6.72220543e-02,  5.43177782e-03],\n",
       "        [ 1.22212012e+02,  1.81679866e+02,  1.22042909e+02,\n",
       "         -1.78554443e-03, -9.32027660e-02,  2.53565164e-03],\n",
       "        [ 1.22381848e+02,  1.22042909e+02,  1.80539825e+02,\n",
       "         -2.37468309e-03, -7.58568526e-02, -4.26047514e-02],\n",
       "        [-1.44085560e-01, -1.78554443e-03, -2.37468309e-03,\n",
       "          8.95043681e+01, -4.27055730e-03, -4.51526076e-02],\n",
       "        [-6.72220543e-02, -9.32027660e-02, -7.58568526e-02,\n",
       "         -4.27055730e-03,  9.01008318e+01, -7.28498549e-04],\n",
       "        [ 5.43177782e-03,  2.53565164e-03, -4.26047514e-02,\n",
       "         -4.51526076e-02, -7.28498549e-04,  8.99165466e+01]]),\n",
       " array([[ 1.89548514e+02,  1.26137153e+02,  1.26585966e+02,\n",
       "          1.38601196e-01, -1.89450432e-02,  5.51815507e-02],\n",
       "        [ 1.26137153e+02,  1.86613414e+02,  1.26206978e+02,\n",
       "          7.64484079e-02,  2.95489088e-01,  4.53103635e-02],\n",
       "        [ 1.26585966e+02,  1.26206978e+02,  1.89632552e+02,\n",
       "          8.94121289e-02, -1.31697699e-02,  7.04680253e-02],\n",
       "        [ 1.38601196e-01,  7.64484079e-02,  8.94121289e-02,\n",
       "          9.22575638e+01,  3.40760902e-02, -6.72828185e-02],\n",
       "        [-1.89450432e-02,  2.95489088e-01, -1.31697699e-02,\n",
       "          3.40760902e-02,  9.19124116e+01,  7.48969232e-03],\n",
       "        [ 5.51815507e-02,  4.53103635e-02,  7.04680253e-02,\n",
       "         -6.72828185e-02,  7.48969232e-03,  9.22659577e+01]]),\n",
       " array([[ 1.81845249e+02,  1.17690716e+02,  1.18427034e+02,\n",
       "         -3.00258539e-02,  3.92234437e-01,  1.96734656e-01],\n",
       "        [ 1.17690716e+02,  1.82873068e+02,  1.18391258e+02,\n",
       "         -1.00096211e-01,  1.34034443e-01,  2.18268459e-01],\n",
       "        [ 1.18427034e+02,  1.18391258e+02,  1.84198646e+02,\n",
       "         -8.09871677e-02,  4.27411146e-01, -3.39163665e-02],\n",
       "        [-3.00258539e-02, -1.00096211e-01, -8.09871677e-02,\n",
       "          9.44009805e+01, -5.35281000e-02, -1.08364872e-01],\n",
       "        [ 3.92234437e-01,  1.34034443e-01,  4.27411146e-01,\n",
       "         -5.35281000e-02,  9.41056318e+01, -3.65248896e-02],\n",
       "        [ 1.96734656e-01,  2.18268459e-01, -3.39163665e-02,\n",
       "         -1.08364872e-01, -3.65248896e-02,  9.43657280e+01]])]"
      ]
     },
     "execution_count": 19,
     "metadata": {},
     "output_type": "execute_result"
    }
   ],
   "source": [
    "elastic_collect_lst"
   ]
  },
  {
   "cell_type": "code",
   "execution_count": 20,
   "metadata": {},
   "outputs": [
    {
     "data": {
      "text/plain": [
       "[32, 32, 32, 32, 32, 32, 32, 32, 32, 32]"
      ]
     },
     "execution_count": 20,
     "metadata": {},
     "output_type": "execute_result"
    }
   ],
   "source": [
    "[len(struct) for struct in structure_collect_lst]"
   ]
  }
 ],
 "metadata": {
  "kernelspec": {
   "display_name": "Python 3 (ipykernel)",
   "language": "python",
   "name": "python3"
  },
  "language_info": {
   "codemirror_mode": {
    "name": "ipython",
    "version": 3
   },
   "file_extension": ".py",
   "mimetype": "text/x-python",
   "name": "python",
   "nbconvert_exporter": "python",
   "pygments_lexer": "ipython3",
   "version": "3.10.9"
  }
 },
 "nbformat": 4,
 "nbformat_minor": 4
}
