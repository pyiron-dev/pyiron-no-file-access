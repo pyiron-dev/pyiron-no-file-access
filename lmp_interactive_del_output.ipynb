{
 "cells": [
  {
   "cell_type": "code",
   "execution_count": 1,
   "id": "1a95d833-0cf7-481c-a8f8-00933322b001",
   "metadata": {},
   "outputs": [
    {
     "data": {
      "application/vnd.jupyter.widget-view+json": {
       "model_id": "883dabd75c1c49ba98c7f56027c17c49",
       "version_major": 2,
       "version_minor": 0
      },
      "text/plain": []
     },
     "metadata": {},
     "output_type": "display_data"
    }
   ],
   "source": [
    "from pyiron import Project\n",
    "import numpy as np"
   ]
  },
  {
   "cell_type": "code",
   "execution_count": 2,
   "id": "f95d7372-3cff-4f87-a3c6-6efb7058ea18",
   "metadata": {},
   "outputs": [],
   "source": [
    "pr = Project('LAMMPS')"
   ]
  },
  {
   "cell_type": "code",
   "execution_count": 3,
   "id": "2368bdec-1319-445c-b37c-1cb7343a97cd",
   "metadata": {},
   "outputs": [],
   "source": [
    "lmp = pr.create.job.Lammps('lmp')"
   ]
  },
  {
   "cell_type": "code",
   "execution_count": 4,
   "id": "998b4757-a22f-49ad-8f06-cd6da32756b9",
   "metadata": {},
   "outputs": [],
   "source": [
    "lmp.structure = pr.create.structure.bulk('Al', cubic=True).repeat(3)"
   ]
  },
  {
   "cell_type": "code",
   "execution_count": 5,
   "id": "01d4317a-6836-481c-8c38-77cb4b4625e2",
   "metadata": {},
   "outputs": [],
   "source": [
    "keys = list(lmp.interactive_output_functions.keys())"
   ]
  },
  {
   "cell_type": "code",
   "execution_count": 6,
   "id": "90065291-2483-4b5f-86c8-49e450c284e8",
   "metadata": {},
   "outputs": [],
   "source": [
    "for k in keys:\n",
    "    if k != 'energy_pot':\n",
    "        del lmp.interactive_output_functions[k]"
   ]
  },
  {
   "cell_type": "code",
   "execution_count": 7,
   "id": "9b09a6f4-17fc-4390-9151-c6da0600360d",
   "metadata": {},
   "outputs": [
    {
     "name": "stderr",
     "output_type": "stream",
     "text": [
      "/u/samsstud/dev_sam/pyiron_atomistics/pyiron_atomistics/lammps/base.py:301: UserWarning: No potential set via job.potential - use default potential, Al_Ca_Mg_MEAM_Jang_HS_2020\n",
      "  warnings.warn(\n"
     ]
    },
    {
     "name": "stdout",
     "output_type": "stream",
     "text": [
      "The job lmp was saved and received the ID: 19007847\n"
     ]
    },
    {
     "name": "stderr",
     "output_type": "stream",
     "text": [
      "/u/samsstud/dev_sam/pyiron_atomistics/pyiron_atomistics/lammps/interactive.py:491: UserWarning: Warning: setting upper trangular matrix might slow down the calculation\n",
      "  warnings.warn(\n"
     ]
    }
   ],
   "source": [
    "with lmp.interactive_open() as ll:\n",
    "    ll.run()"
   ]
  },
  {
   "cell_type": "code",
   "execution_count": 8,
   "id": "e8d3579b-f6f2-47b8-ab59-9c9153e02e3c",
   "metadata": {},
   "outputs": [
    {
     "data": {
      "text/plain": [
       "{'groups': [], 'nodes': ['energy_pot', 'species']}"
      ]
     },
     "execution_count": 8,
     "metadata": {},
     "output_type": "execute_result"
    }
   ],
   "source": [
    "lmp['output/generic']"
   ]
  },
  {
   "cell_type": "code",
   "execution_count": null,
   "id": "f0b3f5f5-5969-4507-80c1-924bccd896fe",
   "metadata": {},
   "outputs": [],
   "source": []
  }
 ],
 "metadata": {
  "kernelspec": {
   "display_name": "Python 3 (ipykernel)",
   "language": "python",
   "name": "python3"
  },
  "language_info": {
   "codemirror_mode": {
    "name": "ipython",
    "version": 3
   },
   "file_extension": ".py",
   "mimetype": "text/x-python",
   "name": "python",
   "nbconvert_exporter": "python",
   "pygments_lexer": "ipython3",
   "version": "3.8.15"
  }
 },
 "nbformat": 4,
 "nbformat_minor": 5
}
