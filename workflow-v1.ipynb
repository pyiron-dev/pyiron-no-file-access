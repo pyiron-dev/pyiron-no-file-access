{
 "cells": [
  {
   "cell_type": "code",
   "execution_count": 1,
   "metadata": {},
   "outputs": [],
   "source": [
    "import os"
   ]
  },
  {
   "cell_type": "code",
   "execution_count": 2,
   "metadata": {},
   "outputs": [],
   "source": [
    "import importlib"
   ]
  },
  {
   "cell_type": "code",
   "execution_count": 3,
   "metadata": {},
   "outputs": [
    {
     "data": {
      "application/vnd.jupyter.widget-view+json": {
       "model_id": "4ce68defcc3542ddac0d868a34f7a6bc",
       "version_major": 2,
       "version_minor": 0
      },
      "text/plain": []
     },
     "metadata": {},
     "output_type": "display_data"
    }
   ],
   "source": [
    "import pyiron_gpl"
   ]
  },
  {
   "cell_type": "code",
   "execution_count": 4,
   "metadata": {},
   "outputs": [],
   "source": [
    "import numpy as np"
   ]
  },
  {
   "cell_type": "code",
   "execution_count": 5,
   "metadata": {},
   "outputs": [],
   "source": [
    "from tqdm import tqdm"
   ]
  },
  {
   "cell_type": "code",
   "execution_count": 6,
   "metadata": {},
   "outputs": [],
   "source": [
    "from pyiron_base import state, GenericMaster"
   ]
  },
  {
   "cell_type": "code",
   "execution_count": 7,
   "metadata": {},
   "outputs": [],
   "source": [
    "from pyiron_atomistics import Project"
   ]
  },
  {
   "cell_type": "code",
   "execution_count": 8,
   "metadata": {},
   "outputs": [],
   "source": [
    "from pyiron_atomistics.lammps.interactive import LammpsInteractive"
   ]
  },
  {
   "cell_type": "code",
   "execution_count": 9,
   "metadata": {},
   "outputs": [],
   "source": [
    "from pyiron_gpl.elastic.elastic import ElasticMatrixJob"
   ]
  },
  {
   "cell_type": "code",
   "execution_count": 10,
   "metadata": {},
   "outputs": [
    {
     "data": {
      "text/html": [
       "<pre style=\"white-space:pre;overflow-x:auto;line-height:normal;font-family:Menlo,'DejaVu Sans Mono',consolas,'Courier New',monospace\"></pre>\n"
      ],
      "text/plain": []
     },
     "metadata": {},
     "output_type": "display_data"
    },
    {
     "data": {
      "text/html": [
       "<pre style=\"white-space:pre;overflow-x:auto;line-height:normal;font-family:Menlo,'DejaVu Sans Mono',consolas,'Courier New',monospace\"></pre>\n"
      ],
      "text/plain": []
     },
     "metadata": {},
     "output_type": "display_data"
    }
   ],
   "source": [
    "from pyiron_atomistics.atomistics.job.sqs import SQSJob, get_sqs_structures"
   ]
  },
  {
   "cell_type": "code",
   "execution_count": 11,
   "metadata": {},
   "outputs": [],
   "source": [
    "class LammpsInteractiveWithoutOutput(LammpsInteractive):\n",
    "    def __init__(self, project, job_name):\n",
    "        super(LammpsInteractiveWithoutOutput, self).__init__(project, job_name)\n",
    "        self._interactive_disable_log_file = False\n",
    "    \n",
    "    def to_hdf(self, hdf=None, group_name=None):\n",
    "        \"\"\"\n",
    "\n",
    "        Args:\n",
    "            hdf:\n",
    "            group_name:\n",
    "\n",
    "        Returns:\n",
    "\n",
    "        \"\"\"\n",
    "        if not self._interactive_disable_log_file:\n",
    "            super(LammpsInteractiveWithoutOutput, self).to_hdf(hdf=hdf, group_name=group_name)\n",
    "    \n",
    "    def interactive_flush(self, path=\"interactive\", include_last_step=False):\n",
    "        if not self._interactive_disable_log_file:\n",
    "            super(LammpsInteractiveWithoutOutput, self).interactive_flush(path=path, include_last_step=include_last_step)\n",
    "\n",
    "    def interactive_initialize_interface(self):\n",
    "        if not self._interactive_disable_log_file:\n",
    "            self._create_working_directory()\n",
    "        if self.server.run_mode.interactive and self.server.cores == 1:\n",
    "            lammps = getattr(importlib.import_module(\"lammps\"), \"lammps\")\n",
    "            if self._log_file is None:\n",
    "                self._log_file = os.path.join(self.working_directory, \"log.lammps\")\n",
    "            if not self._interactive_disable_log_file:\n",
    "                self._interactive_library = lammps(\n",
    "                    cmdargs=[\"-screen\", \"none\", \"-log\", self._log_file]\n",
    "                )\n",
    "            else:\n",
    "                self._interactive_library = lammps(\n",
    "                    cmdargs=[\"-screen\", \"none\", \"-log\", \"none\"]\n",
    "                )\n",
    "        else:\n",
    "            self._interactive_library = LammpsLibrary(\n",
    "                cores=self.server.cores, working_directory=self.working_directory\n",
    "            )\n",
    "        if not all(self.structure.pbc):\n",
    "            self.input.control[\"boundary\"] = \" \".join(\n",
    "                [\"p\" if coord else \"f\" for coord in self.structure.pbc]\n",
    "            )\n",
    "        self._reset_interactive_run_command()\n",
    "        self.interactive_structure_setter(self.structure)\n",
    "        \n",
    "    def interactive_close(self):\n",
    "        if not self._interactive_disable_log_file:\n",
    "            super(LammpsInteractiveWithoutOutput).interactive_close()\n",
    "            \n",
    "    def refresh_job_status(self):\n",
    "        if not self._interactive_disable_log_file:\n",
    "            super(LammpsInteractiveWithoutOutput).refresh_job_status()"
   ]
  },
  {
   "cell_type": "code",
   "execution_count": 12,
   "metadata": {},
   "outputs": [],
   "source": [
    "class SQSJobWithoutOutput(SQSJob):\n",
    "    def __init__(self, project, job_name):\n",
    "        super(SQSJobWithoutOutput, self).__init__(project, job_name)\n",
    "        self._interactive_disable_log_file = False\n",
    "        \n",
    "    def to_hdf(self, hdf=None, group_name=None):\n",
    "        \"\"\"\n",
    "\n",
    "        Args:\n",
    "            hdf:\n",
    "            group_name:\n",
    "\n",
    "        Returns:\n",
    "\n",
    "        \"\"\"\n",
    "        if not self._interactive_disable_log_file:\n",
    "            super(SQSJobWithoutOutput, self).to_hdf(hdf=hdf, group_name=group_name)\n",
    "            \n",
    "    def run_static(self):\n",
    "        if not self._interactive_disable_log_file:\n",
    "            super(SQSJobWithoutOutput, self).run_static()\n",
    "        else:\n",
    "            self._lst_of_struct, decmp, iterations, cycle_time = get_sqs_structures(\n",
    "                structure=self.structure,\n",
    "                mole_fractions={k: v for k, v in self.input.mole_fractions.items()},\n",
    "                weights=self.input.weights,\n",
    "                objective=self.input.objective,\n",
    "                iterations=self.input.iterations,\n",
    "                output_structures=self.input.n_output_structures,\n",
    "                num_threads=self.server.cores,\n",
    "            )\n",
    "            \n",
    "    def refresh_job_status(self):\n",
    "        if not self._interactive_disable_log_file:\n",
    "            super(SQSJobWithoutOutput, self).refresh_job_status()"
   ]
  },
  {
   "cell_type": "code",
   "execution_count": 13,
   "metadata": {},
   "outputs": [],
   "source": [
    "class ElasticMatrixJobWithoutFiles(ElasticMatrixJob):\n",
    "    def __init__(self, project, job_name):\n",
    "        super(ElasticMatrixJobWithoutFiles, self).__init__(project, job_name)\n",
    "        self._interactive_disable_log_file = False\n",
    "        \n",
    "    def to_hdf(self, hdf=None, group_name=None):\n",
    "        \"\"\"\n",
    "\n",
    "        Args:\n",
    "            hdf:\n",
    "            group_name:\n",
    "\n",
    "        Returns:\n",
    "\n",
    "        \"\"\"\n",
    "        if not self._interactive_disable_log_file:\n",
    "            super(ElasticMatrixJobWithoutFiles, self).to_hdf(hdf=hdf, group_name=group_name)\n",
    "    \n",
    "    def refresh_job_status(self):\n",
    "        if not self._interactive_disable_log_file:\n",
    "            super(ElasticMatrixJobWithoutFiles).refresh_job_status()\n",
    "    \n",
    "    def collect_output(self):\n",
    "        if not self._data:\n",
    "            self.from_hdf()\n",
    "        self.create_calculator()\n",
    "\n",
    "        energies = {}\n",
    "        self._data[\"id\"] = []\n",
    "        if self.server.run_mode.interactive and not self._interactive_disable_log_file:\n",
    "            child_id = self.child_ids[0]\n",
    "            self._data[\"id\"].append(child_id)\n",
    "            child_job = self.project_hdf5.inspect(child_id)\n",
    "            energies = {job_name: energy for job_name, energy in zip(self.structure_dict.keys(),\n",
    "                                                                     child_job[\"output/generic/energy_tot\"])}\n",
    "        elif self.server.run_mode.interactive and self._interactive_disable_log_file:\n",
    "            energies = {job_name: energy for job_name, energy in zip(self.structure_dict.keys(),\n",
    "                                                                     self.ref_job.interactive_cache[\"energy_tot\"])} \n",
    "        else:\n",
    "            for job_id in self.child_ids:\n",
    "                ham = self.project_hdf5.inspect(job_id)\n",
    "                en = ham[\"output/generic/energy_tot\"][-1]\n",
    "                energies[ham.job_name] = en\n",
    "                self._data[\"id\"].append(ham.job_id)\n",
    "\n",
    "        self.property_calculator.analyse_structures(energies)\n",
    "        self._data.update(self.property_calculator._data)\n",
    "        if not self._interactive_disable_log_file:\n",
    "            self.to_hdf()\n",
    "    \n",
    "    def append(self, job):\n",
    "        \"\"\"\n",
    "        Append a job to the GenericMaster - just like you would append an element to a list.\n",
    "\n",
    "        Args:\n",
    "            job (GenericJob): job to append\n",
    "        \"\"\"\n",
    "        if self.status.initialized and not job.status.initialized:\n",
    "            raise ValueError(\n",
    "                \"GenericMaster requires reference jobs to have status initialized, rather than \",\n",
    "                job.status.string,\n",
    "            )\n",
    "        if job.server.cores >= self.server.cores:\n",
    "            self.server.cores = job.server.cores\n",
    "        if job.job_name not in self._job_name_lst:\n",
    "            self._job_name_lst.append(job.job_name)\n",
    "            if not self._interactive_disable_log_file:\n",
    "                self._child_job_update_hdf(parent_job=self, child_job=job)\n",
    "    \n",
    "    def pop(self, i=-1):\n",
    "        \"\"\"\n",
    "        Pop a job from the GenericMaster - just like you would pop an element from a list\n",
    "\n",
    "        Args:\n",
    "            i (int): position of the job. (Default is last element, -1.)\n",
    "\n",
    "        Returns:\n",
    "            GenericJob: job\n",
    "        \"\"\"\n",
    "        job_name_to_return = self._job_name_lst[i]\n",
    "        job_to_return = self._load_all_child_jobs(\n",
    "            self._load_job_from_cache(job_name_to_return)\n",
    "        )\n",
    "        del self._job_name_lst[i]\n",
    "        if not self._interactive_disable_log_file:\n",
    "            with self.project_hdf5.open(\"input\") as hdf5_input:\n",
    "                hdf5_input[\"job_list\"] = self._job_name_lst\n",
    "            job_to_return.relocate_hdf5()\n",
    "        if isinstance(job_to_return, GenericMaster):\n",
    "            for sub_job in job_to_return._job_object_dict.values():\n",
    "                self._child_job_update_hdf(parent_job=job_to_return, child_job=sub_job)\n",
    "        job_to_return.status.initialized = True\n",
    "        return job_to_return\n",
    "    \n",
    "    def _run_if_collect(self):\n",
    "        \"\"\"\n",
    "        Internal helper function the run if collect function is called when the job status is 'collect'. It collects\n",
    "        the simulation output using the standardized functions collect_output() and collect_logfiles(). Afterwards the\n",
    "        status is set to 'finished'.\n",
    "        \"\"\"\n",
    "\n",
    "\n",
    "        if not self._interactive_disable_log_file:\n",
    "            super(ElasticMatrixJobWithoutFiles)._run_if_collect()\n",
    "        else: \n",
    "            self._logger.info(\n",
    "                \"{}, status: {}, finished\".format(self.job_info_str, self.status)\n",
    "            )\n",
    "            self.collect_output()\n",
    "            self._logger.info(\n",
    "                \"{}, status: {}, parallel master\".format(self.job_info_str, self.status)\n",
    "            )\n",
    "            self.update_master()\n",
    "            # self.send_to_database()"
   ]
  },
  {
   "cell_type": "code",
   "execution_count": 14,
   "metadata": {},
   "outputs": [],
   "source": [
    "def body_order(n=32, b=5):\n",
    "    if b == 2:\n",
    "        return [[i ,n-i] for i in range(n+1)]\n",
    "    else:\n",
    "        lst = []\n",
    "        for i in range(n+1):\n",
    "            for j in body_order(n=n-i, b=b-1):\n",
    "                lst.append([i] + j)\n",
    "        return lst"
   ]
  },
  {
   "cell_type": "code",
   "execution_count": 15,
   "metadata": {},
   "outputs": [
    {
     "data": {
      "text/plain": [
       "{'user': 'pyiron',\n",
       " 'resource_paths': ['/Users/jan/pyiron/resources',\n",
       "  '/Users/jan/miniforge3/share/pyiron'],\n",
       " 'project_paths': [],\n",
       " 'connection_timeout': 60,\n",
       " 'sql_connection_string': None,\n",
       " 'sql_table_name': 'jobs_pyiron',\n",
       " 'sql_view_connection_string': None,\n",
       " 'sql_view_table_name': None,\n",
       " 'sql_view_user': None,\n",
       " 'sql_view_user_key': None,\n",
       " 'sql_file': '/Users/jan/pyiron.db',\n",
       " 'sql_host': None,\n",
       " 'sql_type': 'SQLite',\n",
       " 'sql_user_key': None,\n",
       " 'sql_database': None,\n",
       " 'project_check_enabled': False,\n",
       " 'disable_database': True,\n",
       " 'credentials_file': None,\n",
       " 'write_work_dir_warnings': True,\n",
       " 'config_file_permissions_warning': True}"
      ]
     },
     "execution_count": 15,
     "metadata": {},
     "output_type": "execute_result"
    }
   ],
   "source": [
    "state.settings.configuration"
   ]
  },
  {
   "cell_type": "code",
   "execution_count": 16,
   "metadata": {},
   "outputs": [],
   "source": [
    "project = Project('workflow')"
   ]
  },
  {
   "cell_type": "code",
   "execution_count": 17,
   "metadata": {},
   "outputs": [],
   "source": [
    "project.remove_jobs(recursive=True, silently=True)"
   ]
  },
  {
   "cell_type": "code",
   "execution_count": 18,
   "metadata": {},
   "outputs": [],
   "source": [
    "structure = project.create.structure.ase.bulk(\"Al\", cubic=True).repeat([2,2,2])"
   ]
  },
  {
   "cell_type": "code",
   "execution_count": 19,
   "metadata": {},
   "outputs": [],
   "source": [
    "element_lst = [\"Fe\", \"Ni\", \"Cr\", \"Co\", \"Cu\"]"
   ]
  },
  {
   "cell_type": "code",
   "execution_count": 20,
   "metadata": {},
   "outputs": [],
   "source": [
    "number_atoms = len(structure)"
   ]
  },
  {
   "cell_type": "code",
   "execution_count": 21,
   "metadata": {},
   "outputs": [],
   "source": [
    "number_species = len(element_lst)"
   ]
  },
  {
   "cell_type": "code",
   "execution_count": 22,
   "metadata": {},
   "outputs": [],
   "source": [
    "cores = 1"
   ]
  },
  {
   "cell_type": "code",
   "execution_count": 23,
   "metadata": {},
   "outputs": [],
   "source": [
    "potential = '2021--Deluigi-O-R--Fe-Ni-Cr-Co-Cu--LAMMPS--ipr1'"
   ]
  },
  {
   "cell_type": "code",
   "execution_count": 24,
   "metadata": {},
   "outputs": [],
   "source": [
    "lst_32 = body_order(n=number_atoms, b=number_species)[:10]"
   ]
  },
  {
   "cell_type": "code",
   "execution_count": 25,
   "metadata": {},
   "outputs": [],
   "source": [
    "structure_collect_lst, elastic_collect_lst = [], []"
   ]
  },
  {
   "cell_type": "code",
   "execution_count": 26,
   "metadata": {},
   "outputs": [
    {
     "name": "stderr",
     "output_type": "stream",
     "text": [
      "\r",
      "  0%|                                                    | 0/10 [00:00<?, ?it/s]"
     ]
    },
    {
     "name": "stdout",
     "output_type": "stream",
     "text": [
      "The job lmp_mini was saved and received the ID: lmp_mini\n"
     ]
    },
    {
     "name": "stderr",
     "output_type": "stream",
     "text": [
      "/Users/jan/PycharmProjects/pyiron_atomistics/pyiron_atomistics/lammps/interactive.py:491: UserWarning: Warning: setting upper trangular matrix might slow down the calculation\n",
      "  warnings.warn(\n",
      "/Users/jan/PycharmProjects/pyiron_atomistics/pyiron_atomistics/lammps/interactive.py:121: UserWarning: Warning: setting upper trangular matrix might slow down the calculation\n",
      "  warnings.warn(\n"
     ]
    },
    {
     "name": "stdout",
     "output_type": "stream",
     "text": [
      "The job elastic was saved and received the ID: elastic\n",
      "The job elastic_lmp_elastic was saved and received the ID: elastic_lmp_elastic\n"
     ]
    },
    {
     "name": "stderr",
     "output_type": "stream",
     "text": [
      "/Users/jan/PycharmProjects/pyiron_atomistics/pyiron_atomistics/lammps/interactive.py:491: UserWarning: Warning: setting upper trangular matrix might slow down the calculation\n",
      "  warnings.warn(\n",
      " 10%|████▍                                       | 1/10 [00:03<00:31,  3.52s/it]"
     ]
    },
    {
     "name": "stdout",
     "output_type": "stream",
     "text": [
      "The job sqs was saved and received the ID: sqs\n",
      "The job lmp_mini was saved and received the ID: lmp_mini\n"
     ]
    },
    {
     "name": "stderr",
     "output_type": "stream",
     "text": [
      "/Users/jan/PycharmProjects/pyiron_atomistics/pyiron_atomistics/lammps/interactive.py:491: UserWarning: Warning: setting upper trangular matrix might slow down the calculation\n",
      "  warnings.warn(\n",
      "/Users/jan/PycharmProjects/pyiron_atomistics/pyiron_atomistics/lammps/interactive.py:121: UserWarning: Warning: setting upper trangular matrix might slow down the calculation\n",
      "  warnings.warn(\n"
     ]
    },
    {
     "name": "stdout",
     "output_type": "stream",
     "text": [
      "The job elastic was saved and received the ID: elastic\n",
      "The job elastic_lmp_elastic was saved and received the ID: elastic_lmp_elastic\n"
     ]
    },
    {
     "name": "stderr",
     "output_type": "stream",
     "text": [
      "/Users/jan/PycharmProjects/pyiron_atomistics/pyiron_atomistics/lammps/interactive.py:491: UserWarning: Warning: setting upper trangular matrix might slow down the calculation\n",
      "  warnings.warn(\n",
      " 20%|████████▊                                   | 2/10 [00:06<00:25,  3.16s/it]"
     ]
    },
    {
     "name": "stdout",
     "output_type": "stream",
     "text": [
      "The job sqs was saved and received the ID: sqs\n",
      "The job lmp_mini was saved and received the ID: lmp_mini\n"
     ]
    },
    {
     "name": "stderr",
     "output_type": "stream",
     "text": [
      "/Users/jan/PycharmProjects/pyiron_atomistics/pyiron_atomistics/lammps/interactive.py:491: UserWarning: Warning: setting upper trangular matrix might slow down the calculation\n",
      "  warnings.warn(\n",
      "/Users/jan/PycharmProjects/pyiron_atomistics/pyiron_atomistics/lammps/interactive.py:121: UserWarning: Warning: setting upper trangular matrix might slow down the calculation\n",
      "  warnings.warn(\n"
     ]
    },
    {
     "name": "stdout",
     "output_type": "stream",
     "text": [
      "The job elastic was saved and received the ID: elastic\n",
      "The job elastic_lmp_elastic was saved and received the ID: elastic_lmp_elastic\n"
     ]
    },
    {
     "name": "stderr",
     "output_type": "stream",
     "text": [
      "/Users/jan/PycharmProjects/pyiron_atomistics/pyiron_atomistics/lammps/interactive.py:491: UserWarning: Warning: setting upper trangular matrix might slow down the calculation\n",
      "  warnings.warn(\n",
      " 30%|█████████████▏                              | 3/10 [00:10<00:24,  3.45s/it]"
     ]
    },
    {
     "name": "stdout",
     "output_type": "stream",
     "text": [
      "The job sqs was saved and received the ID: sqs\n",
      "The job lmp_mini was saved and received the ID: lmp_mini\n"
     ]
    },
    {
     "name": "stderr",
     "output_type": "stream",
     "text": [
      "/Users/jan/PycharmProjects/pyiron_atomistics/pyiron_atomistics/lammps/interactive.py:491: UserWarning: Warning: setting upper trangular matrix might slow down the calculation\n",
      "  warnings.warn(\n",
      "/Users/jan/PycharmProjects/pyiron_atomistics/pyiron_atomistics/lammps/interactive.py:121: UserWarning: Warning: setting upper trangular matrix might slow down the calculation\n",
      "  warnings.warn(\n"
     ]
    },
    {
     "name": "stdout",
     "output_type": "stream",
     "text": [
      "The job elastic was saved and received the ID: elastic\n",
      "The job elastic_lmp_elastic was saved and received the ID: elastic_lmp_elastic\n"
     ]
    },
    {
     "name": "stderr",
     "output_type": "stream",
     "text": [
      "/Users/jan/PycharmProjects/pyiron_atomistics/pyiron_atomistics/lammps/interactive.py:491: UserWarning: Warning: setting upper trangular matrix might slow down the calculation\n",
      "  warnings.warn(\n",
      " 40%|█████████████████▌                          | 4/10 [00:14<00:23,  3.90s/it]"
     ]
    },
    {
     "name": "stdout",
     "output_type": "stream",
     "text": [
      "The job sqs was saved and received the ID: sqs\n",
      "The job lmp_mini was saved and received the ID: lmp_mini\n"
     ]
    },
    {
     "name": "stderr",
     "output_type": "stream",
     "text": [
      "/Users/jan/PycharmProjects/pyiron_atomistics/pyiron_atomistics/lammps/interactive.py:491: UserWarning: Warning: setting upper trangular matrix might slow down the calculation\n",
      "  warnings.warn(\n",
      "/Users/jan/PycharmProjects/pyiron_atomistics/pyiron_atomistics/lammps/interactive.py:121: UserWarning: Warning: setting upper trangular matrix might slow down the calculation\n",
      "  warnings.warn(\n"
     ]
    },
    {
     "name": "stdout",
     "output_type": "stream",
     "text": [
      "The job elastic was saved and received the ID: elastic\n",
      "The job elastic_lmp_elastic was saved and received the ID: elastic_lmp_elastic\n"
     ]
    },
    {
     "name": "stderr",
     "output_type": "stream",
     "text": [
      "/Users/jan/PycharmProjects/pyiron_atomistics/pyiron_atomistics/lammps/interactive.py:491: UserWarning: Warning: setting upper trangular matrix might slow down the calculation\n",
      "  warnings.warn(\n",
      " 50%|██████████████████████                      | 5/10 [00:21<00:23,  4.76s/it]"
     ]
    },
    {
     "name": "stdout",
     "output_type": "stream",
     "text": [
      "The job sqs was saved and received the ID: sqs\n",
      "The job lmp_mini was saved and received the ID: lmp_mini\n"
     ]
    },
    {
     "name": "stderr",
     "output_type": "stream",
     "text": [
      "/Users/jan/PycharmProjects/pyiron_atomistics/pyiron_atomistics/lammps/interactive.py:491: UserWarning: Warning: setting upper trangular matrix might slow down the calculation\n",
      "  warnings.warn(\n",
      "/Users/jan/PycharmProjects/pyiron_atomistics/pyiron_atomistics/lammps/interactive.py:121: UserWarning: Warning: setting upper trangular matrix might slow down the calculation\n",
      "  warnings.warn(\n"
     ]
    },
    {
     "name": "stdout",
     "output_type": "stream",
     "text": [
      "The job elastic was saved and received the ID: elastic\n",
      "The job elastic_lmp_elastic was saved and received the ID: elastic_lmp_elastic\n"
     ]
    },
    {
     "name": "stderr",
     "output_type": "stream",
     "text": [
      "/Users/jan/PycharmProjects/pyiron_atomistics/pyiron_atomistics/lammps/interactive.py:491: UserWarning: Warning: setting upper trangular matrix might slow down the calculation\n",
      "  warnings.warn(\n",
      " 60%|██████████████████████████▍                 | 6/10 [00:28<00:22,  5.69s/it]"
     ]
    },
    {
     "name": "stdout",
     "output_type": "stream",
     "text": [
      "The job sqs was saved and received the ID: sqs\n",
      "The job lmp_mini was saved and received the ID: lmp_mini\n"
     ]
    },
    {
     "name": "stderr",
     "output_type": "stream",
     "text": [
      "/Users/jan/PycharmProjects/pyiron_atomistics/pyiron_atomistics/lammps/interactive.py:491: UserWarning: Warning: setting upper trangular matrix might slow down the calculation\n",
      "  warnings.warn(\n",
      "/Users/jan/PycharmProjects/pyiron_atomistics/pyiron_atomistics/lammps/interactive.py:121: UserWarning: Warning: setting upper trangular matrix might slow down the calculation\n",
      "  warnings.warn(\n"
     ]
    },
    {
     "name": "stdout",
     "output_type": "stream",
     "text": [
      "The job elastic was saved and received the ID: elastic\n",
      "The job elastic_lmp_elastic was saved and received the ID: elastic_lmp_elastic\n"
     ]
    },
    {
     "name": "stderr",
     "output_type": "stream",
     "text": [
      "/Users/jan/PycharmProjects/pyiron_atomistics/pyiron_atomistics/lammps/interactive.py:491: UserWarning: Warning: setting upper trangular matrix might slow down the calculation\n",
      "  warnings.warn(\n",
      " 70%|██████████████████████████████▊             | 7/10 [00:35<00:18,  6.08s/it]"
     ]
    },
    {
     "name": "stdout",
     "output_type": "stream",
     "text": [
      "The job sqs was saved and received the ID: sqs\n",
      "The job lmp_mini was saved and received the ID: lmp_mini\n"
     ]
    },
    {
     "name": "stderr",
     "output_type": "stream",
     "text": [
      "/Users/jan/PycharmProjects/pyiron_atomistics/pyiron_atomistics/lammps/interactive.py:491: UserWarning: Warning: setting upper trangular matrix might slow down the calculation\n",
      "  warnings.warn(\n",
      "/Users/jan/PycharmProjects/pyiron_atomistics/pyiron_atomistics/lammps/interactive.py:121: UserWarning: Warning: setting upper trangular matrix might slow down the calculation\n",
      "  warnings.warn(\n"
     ]
    },
    {
     "name": "stdout",
     "output_type": "stream",
     "text": [
      "The job elastic was saved and received the ID: elastic\n",
      "The job elastic_lmp_elastic was saved and received the ID: elastic_lmp_elastic\n"
     ]
    },
    {
     "name": "stderr",
     "output_type": "stream",
     "text": [
      "/Users/jan/PycharmProjects/pyiron_atomistics/pyiron_atomistics/lammps/interactive.py:491: UserWarning: Warning: setting upper trangular matrix might slow down the calculation\n",
      "  warnings.warn(\n",
      " 80%|███████████████████████████████████▏        | 8/10 [00:42<00:12,  6.44s/it]"
     ]
    },
    {
     "name": "stdout",
     "output_type": "stream",
     "text": [
      "The job sqs was saved and received the ID: sqs\n",
      "The job lmp_mini was saved and received the ID: lmp_mini\n"
     ]
    },
    {
     "name": "stderr",
     "output_type": "stream",
     "text": [
      "/Users/jan/PycharmProjects/pyiron_atomistics/pyiron_atomistics/lammps/interactive.py:491: UserWarning: Warning: setting upper trangular matrix might slow down the calculation\n",
      "  warnings.warn(\n",
      "/Users/jan/PycharmProjects/pyiron_atomistics/pyiron_atomistics/lammps/interactive.py:121: UserWarning: Warning: setting upper trangular matrix might slow down the calculation\n",
      "  warnings.warn(\n"
     ]
    },
    {
     "name": "stdout",
     "output_type": "stream",
     "text": [
      "The job elastic was saved and received the ID: elastic\n",
      "The job elastic_lmp_elastic was saved and received the ID: elastic_lmp_elastic\n"
     ]
    },
    {
     "name": "stderr",
     "output_type": "stream",
     "text": [
      "/Users/jan/PycharmProjects/pyiron_atomistics/pyiron_atomistics/lammps/interactive.py:491: UserWarning: Warning: setting upper trangular matrix might slow down the calculation\n",
      "  warnings.warn(\n",
      " 90%|███████████████████████████████████████▌    | 9/10 [00:48<00:06,  6.24s/it]"
     ]
    },
    {
     "name": "stdout",
     "output_type": "stream",
     "text": [
      "The job sqs was saved and received the ID: sqs\n",
      "The job lmp_mini was saved and received the ID: lmp_mini\n"
     ]
    },
    {
     "name": "stderr",
     "output_type": "stream",
     "text": [
      "/Users/jan/PycharmProjects/pyiron_atomistics/pyiron_atomistics/lammps/interactive.py:491: UserWarning: Warning: setting upper trangular matrix might slow down the calculation\n",
      "  warnings.warn(\n",
      "/Users/jan/PycharmProjects/pyiron_atomistics/pyiron_atomistics/lammps/interactive.py:121: UserWarning: Warning: setting upper trangular matrix might slow down the calculation\n",
      "  warnings.warn(\n"
     ]
    },
    {
     "name": "stdout",
     "output_type": "stream",
     "text": [
      "The job elastic was saved and received the ID: elastic\n",
      "The job elastic_lmp_elastic was saved and received the ID: elastic_lmp_elastic\n"
     ]
    },
    {
     "name": "stderr",
     "output_type": "stream",
     "text": [
      "/Users/jan/PycharmProjects/pyiron_atomistics/pyiron_atomistics/lammps/interactive.py:491: UserWarning: Warning: setting upper trangular matrix might slow down the calculation\n",
      "  warnings.warn(\n",
      "100%|███████████████████████████████████████████| 10/10 [00:54<00:00,  5.49s/it]\n"
     ]
    }
   ],
   "source": [
    "for conc_lst in tqdm(lst_32):\n",
    "    # Generate structure \n",
    "    if sum(np.array(conc_lst)==0) != 4:\n",
    "        mole_fraction = {\n",
    "            el: conc/number_atoms\n",
    "            for el, conc in zip(element_lst, conc_lst)\n",
    "            if conc > 0\n",
    "        }\n",
    "        job = project.create_job(SQSJobWithoutOutput, \"sqs\")\n",
    "        job._interactive_disable_log_file = True\n",
    "        job.structure = structure\n",
    "        job.input['mole_fractions'] = mole_fraction\n",
    "        job.input['iterations'] = 1e6\n",
    "        job.server.cores = cores\n",
    "        job.run()\n",
    "        structure_next = job._lst_of_struct[-1]\n",
    "    else:\n",
    "        structure_next = structure.copy()\n",
    "        structure_next.symbols[:] = np.array(element_lst)[np.array(conc_lst)!=0][0] \n",
    "    structure_collect_lst.append(structure_next)\n",
    "    \n",
    "    # Minimize strucute \n",
    "    lmp_mini1 = project.create_job(LammpsInteractiveWithoutOutput, \"lmp_mini\", delete_existing_job=True)\n",
    "    lmp_mini1.structure = structure_next\n",
    "    lmp_mini1.potential = potential\n",
    "    lmp_mini1.calc_minimize(pressure=0.0)\n",
    "    lmp_mini1.server.run_mode.interactive = True\n",
    "    lmp_mini1._interactive_disable_log_file = True  # disable lammps.log \n",
    "    lmp_mini1.run()\n",
    "    lmp_mini1.interactive_close()\n",
    "\n",
    "    # Elastic constants \n",
    "    lmp_elastic = project.create_job(LammpsInteractiveWithoutOutput, \"lmp_elastic\", delete_existing_job=True)\n",
    "    lmp_elastic.structure = lmp_mini1.get_structure()\n",
    "    lmp_elastic.potential = potential\n",
    "    lmp_elastic.interactive_enforce_structure_reset = True \n",
    "    lmp_elastic.server.run_mode.interactive = True\n",
    "    lmp_elastic._interactive_disable_log_file = True  # disable lammps.log\n",
    "    elastic = lmp_elastic.create_job(ElasticMatrixJobWithoutFiles, \"elastic\", delete_existing_job=True)\n",
    "    elastic._interactive_disable_log_file = True  # disable lammps.log\n",
    "    elastic.run()\n",
    "    \n",
    "    elastic_collect_lst.append(elastic._data[\"C\"])"
   ]
  },
  {
   "cell_type": "code",
   "execution_count": 27,
   "metadata": {},
   "outputs": [
    {
     "data": {
      "text/plain": [
       "[array([[171.55080699, 116.38765601, 116.38765601,   0.        ,\n",
       "           0.        ,   0.        ],\n",
       "        [116.38765601, 171.55080699, 116.38765601,   0.        ,\n",
       "           0.        ,   0.        ],\n",
       "        [116.38765601, 116.38765601, 171.55080699,   0.        ,\n",
       "           0.        ,   0.        ],\n",
       "        [  0.        ,   0.        ,   0.        ,  76.35007615,\n",
       "           0.        ,   0.        ],\n",
       "        [  0.        ,   0.        ,   0.        ,   0.        ,\n",
       "          76.35007615,   0.        ],\n",
       "        [  0.        ,   0.        ,   0.        ,   0.        ,\n",
       "           0.        ,  76.35007615]]),\n",
       " array([[168.20637661, 117.34259605, 117.34259605,   0.        ,\n",
       "           0.        ,   0.        ],\n",
       "        [117.34259605, 168.20637661, 117.34259605,   0.        ,\n",
       "           0.        ,   0.        ],\n",
       "        [117.34259605, 117.34259605, 168.20637661,   0.        ,\n",
       "           0.        ,   0.        ],\n",
       "        [  0.        ,   0.        ,   0.        ,  78.13518615,\n",
       "           0.        ,   0.        ],\n",
       "        [  0.        ,   0.        ,   0.        ,   0.        ,\n",
       "          78.13518615,   0.        ],\n",
       "        [  0.        ,   0.        ,   0.        ,   0.        ,\n",
       "           0.        ,  78.13518615]]),\n",
       " array([[166.96359512, 118.95527725, 118.96465138,   0.        ,\n",
       "           0.        ,   0.        ],\n",
       "        [118.95527725, 169.60311292, 120.66604015,   0.        ,\n",
       "           0.        ,   0.        ],\n",
       "        [118.96465138, 120.66604015, 170.33177415,   0.        ,\n",
       "           0.        ,   0.        ],\n",
       "        [  0.        ,   0.        ,   0.        ,  79.96932898,\n",
       "           0.        ,   0.        ],\n",
       "        [  0.        ,   0.        ,   0.        ,   0.        ,\n",
       "          79.99922682,   0.        ],\n",
       "        [  0.        ,   0.        ,   0.        ,   0.        ,\n",
       "           0.        ,  79.96932885]]),\n",
       " array([[1.69825220e+02, 1.19995795e+02, 1.20210260e+02, 0.00000000e+00,\n",
       "         0.00000000e+00, 4.49295388e-01],\n",
       "        [1.19995795e+02, 1.72345130e+02, 2.84736870e+02, 0.00000000e+00,\n",
       "         0.00000000e+00, 3.40859798e-01],\n",
       "        [1.20210260e+02, 2.84736870e+02, 1.71454932e+02, 0.00000000e+00,\n",
       "         0.00000000e+00, 1.38314728e-01],\n",
       "        [0.00000000e+00, 0.00000000e+00, 0.00000000e+00, 8.19113287e+01,\n",
       "         4.53974995e-02, 0.00000000e+00],\n",
       "        [0.00000000e+00, 0.00000000e+00, 0.00000000e+00, 4.53974995e-02,\n",
       "         8.18802579e+01, 0.00000000e+00],\n",
       "        [4.49295388e-01, 3.40859798e-01, 1.38314728e-01, 0.00000000e+00,\n",
       "         0.00000000e+00, 8.19113303e+01]]),\n",
       " array([[ 1.73234817e+02,  1.21383430e+02,  1.21174009e+02,\n",
       "          0.00000000e+00,  0.00000000e+00,  6.78356855e-01],\n",
       "        [ 1.21383430e+02,  1.76305495e+02,  2.90787991e+02,\n",
       "          0.00000000e+00,  0.00000000e+00,  5.82477562e-01],\n",
       "        [ 1.21174009e+02,  2.90787991e+02,  1.73825051e+02,\n",
       "          0.00000000e+00,  0.00000000e+00,  4.31424343e-01],\n",
       "        [ 0.00000000e+00,  0.00000000e+00,  0.00000000e+00,\n",
       "          8.39069341e+01, -8.66401291e-04,  0.00000000e+00],\n",
       "        [ 0.00000000e+00,  0.00000000e+00,  0.00000000e+00,\n",
       "         -8.66401291e-04,  8.37939555e+01,  0.00000000e+00],\n",
       "        [ 6.78356855e-01,  5.82477562e-01,  4.31424343e-01,\n",
       "          0.00000000e+00,  0.00000000e+00,  8.40005853e+01]]),\n",
       " array([[ 1.74664260e+02,  1.20622296e+02,  1.20701135e+02,\n",
       "         -1.74903016e-01,  1.66672443e-01,  6.23228850e-02],\n",
       "        [ 1.20622296e+02,  1.77101622e+02,  1.20702635e+02,\n",
       "          1.85997444e-02,  5.66540423e-02,  7.07361181e-02],\n",
       "        [ 1.20701135e+02,  1.20702635e+02,  1.76087274e+02,\n",
       "          1.42837436e-02,  1.61522515e-01,  2.55692981e-02],\n",
       "        [-1.74903016e-01,  1.85997444e-02,  1.42837436e-02,\n",
       "          8.58302269e+01, -9.57758654e-03, -7.24249873e-02],\n",
       "        [ 1.66672443e-01,  5.66540423e-02,  1.61522515e-01,\n",
       "         -9.57758654e-03,  8.58787708e+01,  7.93557264e-02],\n",
       "        [ 6.23228850e-02,  7.07361181e-02,  2.55692981e-02,\n",
       "         -7.24249873e-02,  7.93557264e-02,  8.60262803e+01]]),\n",
       " array([[ 1.76871781e+02,  1.18937193e+02,  1.18985473e+02,\n",
       "         -4.04175718e-02,  7.55509781e-02,  2.91997394e-02],\n",
       "        [ 1.18937193e+02,  1.74848589e+02,  1.18946111e+02,\n",
       "          4.24480566e-02,  1.38515977e-01,  2.54962671e-02],\n",
       "        [ 1.18985473e+02,  1.18946111e+02,  1.77002410e+02,\n",
       "          4.05290007e-02,  8.13982951e-02, -6.82516464e-02],\n",
       "        [-4.04175718e-02,  4.24480566e-02,  4.05290007e-02,\n",
       "          8.78981138e+01, -3.56079317e-02, -8.41064403e-02],\n",
       "        [ 7.55509781e-02,  1.38515977e-01,  8.13982951e-02,\n",
       "         -3.56079317e-02,  8.75817957e+01,  2.55955829e-02],\n",
       "        [ 2.91997394e-02,  2.54962671e-02, -6.82516464e-02,\n",
       "         -8.41064403e-02,  2.55955829e-02,  8.79373123e+01]]),\n",
       " array([[ 1.80484478e+02,  1.20893544e+02,  1.21493359e+02,\n",
       "         -9.71671187e-02,  1.64849941e-02,  4.14873082e-02],\n",
       "        [ 1.20893544e+02,  1.79926530e+02,  1.21664557e+02,\n",
       "         -6.80106319e-02, -2.75092573e-02,  5.82892018e-02],\n",
       "        [ 1.21493359e+02,  1.21664557e+02,  1.82190202e+02,\n",
       "         -5.50417218e-02,  2.85433886e-02, -1.11764631e-01],\n",
       "        [-9.71671187e-02, -6.80106319e-02, -5.50417218e-02,\n",
       "          9.01319083e+01,  1.20483823e-01, -1.27242881e-02],\n",
       "        [ 1.64849941e-02, -2.75092573e-02,  2.85433886e-02,\n",
       "          1.20483823e-01,  9.02107615e+01, -4.02873231e-02],\n",
       "        [ 4.14873082e-02,  5.82892018e-02, -1.11764631e-01,\n",
       "         -1.27242881e-02, -4.02873231e-02,  8.92685578e+01]]),\n",
       " array([[ 1.79057434e+02,  1.18467106e+02,  1.18383913e+02,\n",
       "          0.00000000e+00,  0.00000000e+00,  3.30984636e-01],\n",
       "        [ 1.18467106e+02,  1.81364186e+02,  3.03542954e+02,\n",
       "          0.00000000e+00,  0.00000000e+00,  3.29014659e-01],\n",
       "        [ 1.18383913e+02,  3.03542954e+02,  1.80485783e+02,\n",
       "          0.00000000e+00,  0.00000000e+00,  4.92464056e-01],\n",
       "        [ 0.00000000e+00,  0.00000000e+00,  0.00000000e+00,\n",
       "          9.21851593e+01, -1.03750859e-01,  0.00000000e+00],\n",
       "        [ 0.00000000e+00,  0.00000000e+00,  0.00000000e+00,\n",
       "         -1.03750859e-01,  9.22266024e+01,  0.00000000e+00],\n",
       "        [ 3.30984636e-01,  3.29014659e-01,  4.92464056e-01,\n",
       "          0.00000000e+00,  0.00000000e+00,  9.21851600e+01]]),\n",
       " array([[ 1.86587481e+02,  1.20824045e+02,  1.20605777e+02,\n",
       "         -7.25568232e-02,  1.00517885e-01, -3.90823079e-02],\n",
       "        [ 1.20824045e+02,  1.84849543e+02,  1.20542481e+02,\n",
       "         -1.20840194e-01,  3.80199907e-02, -2.93245220e-02],\n",
       "        [ 1.20605777e+02,  1.20542481e+02,  1.84423555e+02,\n",
       "         -1.49743181e-01,  1.00298667e-01, -3.24977783e-01],\n",
       "        [-7.25568232e-02, -1.20840194e-01, -1.49743181e-01,\n",
       "          9.42576482e+01,  1.26223292e-01, -8.81855211e-02],\n",
       "        [ 1.00517885e-01,  3.80199907e-02,  1.00298667e-01,\n",
       "          1.26223292e-01,  9.47248003e+01,  7.78269375e-02],\n",
       "        [-3.90823079e-02, -2.93245220e-02, -3.24977783e-01,\n",
       "         -8.81855211e-02,  7.78269375e-02,  9.41007753e+01]])]"
      ]
     },
     "execution_count": 27,
     "metadata": {},
     "output_type": "execute_result"
    }
   ],
   "source": [
    "elastic_collect_lst"
   ]
  },
  {
   "cell_type": "code",
   "execution_count": 28,
   "metadata": {},
   "outputs": [
    {
     "data": {
      "text/plain": [
       "[32, 32, 32, 32, 32, 32, 32, 32, 32, 32]"
      ]
     },
     "execution_count": 28,
     "metadata": {},
     "output_type": "execute_result"
    }
   ],
   "source": [
    "[len(struct) for struct in structure_collect_lst]"
   ]
  }
 ],
 "metadata": {
  "kernelspec": {
   "display_name": "Python 3 (ipykernel)",
   "language": "python",
   "name": "python3"
  },
  "language_info": {
   "codemirror_mode": {
    "name": "ipython",
    "version": 3
   },
   "file_extension": ".py",
   "mimetype": "text/x-python",
   "name": "python",
   "nbconvert_exporter": "python",
   "pygments_lexer": "ipython3",
   "version": "3.10.9"
  }
 },
 "nbformat": 4,
 "nbformat_minor": 4
}
