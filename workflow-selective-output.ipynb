{
 "cells": [
  {
   "cell_type": "code",
   "execution_count": 1,
   "metadata": {},
   "outputs": [],
   "source": [
    "import numpy as np"
   ]
  },
  {
   "cell_type": "code",
   "execution_count": 2,
   "metadata": {},
   "outputs": [],
   "source": [
    "from tqdm import tqdm"
   ]
  },
  {
   "cell_type": "code",
   "execution_count": 3,
   "metadata": {},
   "outputs": [
    {
     "data": {
      "application/vnd.jupyter.widget-view+json": {
       "model_id": "443d18b6ba864c95bb40058b12071b49",
       "version_major": 2,
       "version_minor": 0
      },
      "text/plain": []
     },
     "metadata": {},
     "output_type": "display_data"
    }
   ],
   "source": [
    "import pyiron_contrib"
   ]
  },
  {
   "cell_type": "code",
   "execution_count": 4,
   "metadata": {},
   "outputs": [],
   "source": [
    "from pyiron_base import state"
   ]
  },
  {
   "cell_type": "code",
   "execution_count": 5,
   "metadata": {},
   "outputs": [],
   "source": [
    "from pyiron_atomistics import Project"
   ]
  },
  {
   "cell_type": "code",
   "execution_count": 6,
   "metadata": {},
   "outputs": [],
   "source": [
    "def body_order(n=32, b=5):\n",
    "    if b == 2:\n",
    "        return [[i ,n-i] for i in range(n+1)]\n",
    "    else:\n",
    "        lst = []\n",
    "        for i in range(n+1):\n",
    "            for j in body_order(n=n-i, b=b-1):\n",
    "                lst.append([i] + j)\n",
    "        return lst"
   ]
  },
  {
   "cell_type": "code",
   "execution_count": 7,
   "metadata": {},
   "outputs": [
    {
     "data": {
      "text/plain": [
       "{'user': 'pyiron',\n",
       " 'resource_paths': ['/Users/jan/pyiron/resources',\n",
       "  '/Users/jan/miniforge3/share/pyiron'],\n",
       " 'project_paths': [],\n",
       " 'connection_timeout': 60,\n",
       " 'sql_connection_string': None,\n",
       " 'sql_table_name': 'jobs_pyiron',\n",
       " 'sql_view_connection_string': None,\n",
       " 'sql_view_table_name': None,\n",
       " 'sql_view_user': None,\n",
       " 'sql_view_user_key': None,\n",
       " 'sql_file': '/Users/jan/pyiron.db',\n",
       " 'sql_host': None,\n",
       " 'sql_type': 'SQLite',\n",
       " 'sql_user_key': None,\n",
       " 'sql_database': None,\n",
       " 'project_check_enabled': False,\n",
       " 'disable_database': True,\n",
       " 'credentials_file': None,\n",
       " 'write_work_dir_warnings': True,\n",
       " 'config_file_permissions_warning': True}"
      ]
     },
     "execution_count": 7,
     "metadata": {},
     "output_type": "execute_result"
    }
   ],
   "source": [
    "state.settings.configuration"
   ]
  },
  {
   "cell_type": "code",
   "execution_count": 8,
   "metadata": {},
   "outputs": [],
   "source": [
    "project = Project('workflow')"
   ]
  },
  {
   "cell_type": "code",
   "execution_count": 9,
   "metadata": {},
   "outputs": [],
   "source": [
    "project.remove_jobs(recursive=True, silently=True)"
   ]
  },
  {
   "cell_type": "code",
   "execution_count": 10,
   "metadata": {},
   "outputs": [],
   "source": [
    "structure = project.create.structure.ase.bulk(\"Al\", cubic=True).repeat([2,2,2])"
   ]
  },
  {
   "cell_type": "code",
   "execution_count": 11,
   "metadata": {},
   "outputs": [],
   "source": [
    "element_lst = [\"Fe\", \"Ni\", \"Cr\", \"Co\", \"Cu\"]"
   ]
  },
  {
   "cell_type": "code",
   "execution_count": 12,
   "metadata": {},
   "outputs": [],
   "source": [
    "number_atoms = len(structure)"
   ]
  },
  {
   "cell_type": "code",
   "execution_count": 13,
   "metadata": {},
   "outputs": [],
   "source": [
    "number_species = len(element_lst)"
   ]
  },
  {
   "cell_type": "code",
   "execution_count": 14,
   "metadata": {},
   "outputs": [],
   "source": [
    "cores = 1"
   ]
  },
  {
   "cell_type": "code",
   "execution_count": 15,
   "metadata": {},
   "outputs": [],
   "source": [
    "potential = '2021--Deluigi-O-R--Fe-Ni-Cr-Co-Cu--LAMMPS--ipr1'"
   ]
  },
  {
   "cell_type": "code",
   "execution_count": 16,
   "metadata": {},
   "outputs": [],
   "source": [
    "lst_32 = body_order(n=number_atoms, b=number_species)[:10]"
   ]
  },
  {
   "cell_type": "code",
   "execution_count": 17,
   "metadata": {},
   "outputs": [],
   "source": [
    "structure_collect_lst, elastic_collect_lst = [], []"
   ]
  },
  {
   "cell_type": "code",
   "execution_count": 18,
   "metadata": {},
   "outputs": [
    {
     "name": "stderr",
     "output_type": "stream",
     "text": [
      "  0%|                                                    | 0/10 [00:00<?, ?it/s]"
     ]
    },
    {
     "name": "stdout",
     "output_type": "stream",
     "text": [
      "The job lmp_mini was saved and received the ID: lmp_mini\n"
     ]
    },
    {
     "name": "stderr",
     "output_type": "stream",
     "text": [
      "/Users/jan/PycharmProjects/pyiron_atomistics/pyiron_atomistics/lammps/interactive.py:491: UserWarning: Warning: setting upper trangular matrix might slow down the calculation\n",
      "  warnings.warn(\n",
      "/Users/jan/PycharmProjects/pyiron_atomistics/pyiron_atomistics/lammps/interactive.py:121: UserWarning: Warning: setting upper trangular matrix might slow down the calculation\n",
      "  warnings.warn(\n"
     ]
    },
    {
     "name": "stdout",
     "output_type": "stream",
     "text": [
      "The job elastic was saved and received the ID: elastic\n",
      "The job elastic_lmp_elastic was saved and received the ID: elastic_lmp_elastic\n"
     ]
    },
    {
     "name": "stderr",
     "output_type": "stream",
     "text": [
      "/Users/jan/PycharmProjects/pyiron_atomistics/pyiron_atomistics/lammps/interactive.py:491: UserWarning: Warning: setting upper trangular matrix might slow down the calculation\n",
      "  warnings.warn(\n",
      " 10%|████▍                                       | 1/10 [00:02<00:22,  2.53s/it]"
     ]
    },
    {
     "data": {
      "text/html": [
       "<pre style=\"white-space:pre;overflow-x:auto;line-height:normal;font-family:Menlo,'DejaVu Sans Mono',consolas,'Courier New',monospace\"></pre>\n"
      ],
      "text/plain": []
     },
     "metadata": {},
     "output_type": "display_data"
    },
    {
     "data": {
      "text/html": [
       "<pre style=\"white-space:pre;overflow-x:auto;line-height:normal;font-family:Menlo,'DejaVu Sans Mono',consolas,'Courier New',monospace\"></pre>\n"
      ],
      "text/plain": []
     },
     "metadata": {},
     "output_type": "display_data"
    },
    {
     "name": "stdout",
     "output_type": "stream",
     "text": [
      "The job sqs was saved and received the ID: sqs\n",
      "The job lmp_mini was saved and received the ID: lmp_mini\n"
     ]
    },
    {
     "name": "stderr",
     "output_type": "stream",
     "text": [
      "/Users/jan/PycharmProjects/pyiron_atomistics/pyiron_atomistics/lammps/interactive.py:491: UserWarning: Warning: setting upper trangular matrix might slow down the calculation\n",
      "  warnings.warn(\n",
      "/Users/jan/PycharmProjects/pyiron_atomistics/pyiron_atomistics/lammps/interactive.py:121: UserWarning: Warning: setting upper trangular matrix might slow down the calculation\n",
      "  warnings.warn(\n"
     ]
    },
    {
     "name": "stdout",
     "output_type": "stream",
     "text": [
      "The job elastic was saved and received the ID: elastic\n",
      "The job elastic_lmp_elastic was saved and received the ID: elastic_lmp_elastic\n"
     ]
    },
    {
     "name": "stderr",
     "output_type": "stream",
     "text": [
      "/Users/jan/PycharmProjects/pyiron_atomistics/pyiron_atomistics/lammps/interactive.py:491: UserWarning: Warning: setting upper trangular matrix might slow down the calculation\n",
      "  warnings.warn(\n",
      " 20%|████████▊                                   | 2/10 [00:05<00:23,  2.91s/it]"
     ]
    },
    {
     "name": "stdout",
     "output_type": "stream",
     "text": [
      "The job sqs was saved and received the ID: sqs\n",
      "The job lmp_mini was saved and received the ID: lmp_mini\n"
     ]
    },
    {
     "name": "stderr",
     "output_type": "stream",
     "text": [
      "/Users/jan/PycharmProjects/pyiron_atomistics/pyiron_atomistics/lammps/interactive.py:491: UserWarning: Warning: setting upper trangular matrix might slow down the calculation\n",
      "  warnings.warn(\n",
      "/Users/jan/PycharmProjects/pyiron_atomistics/pyiron_atomistics/lammps/interactive.py:121: UserWarning: Warning: setting upper trangular matrix might slow down the calculation\n",
      "  warnings.warn(\n"
     ]
    },
    {
     "name": "stdout",
     "output_type": "stream",
     "text": [
      "The job elastic was saved and received the ID: elastic\n",
      "The job elastic_lmp_elastic was saved and received the ID: elastic_lmp_elastic\n"
     ]
    },
    {
     "name": "stderr",
     "output_type": "stream",
     "text": [
      "/Users/jan/PycharmProjects/pyiron_atomistics/pyiron_atomistics/lammps/interactive.py:491: UserWarning: Warning: setting upper trangular matrix might slow down the calculation\n",
      "  warnings.warn(\n",
      " 30%|█████████████▏                              | 3/10 [00:09<00:21,  3.13s/it]"
     ]
    },
    {
     "name": "stdout",
     "output_type": "stream",
     "text": [
      "The job sqs was saved and received the ID: sqs\n",
      "The job lmp_mini was saved and received the ID: lmp_mini\n"
     ]
    },
    {
     "name": "stderr",
     "output_type": "stream",
     "text": [
      "/Users/jan/PycharmProjects/pyiron_atomistics/pyiron_atomistics/lammps/interactive.py:491: UserWarning: Warning: setting upper trangular matrix might slow down the calculation\n",
      "  warnings.warn(\n",
      "/Users/jan/PycharmProjects/pyiron_atomistics/pyiron_atomistics/lammps/interactive.py:121: UserWarning: Warning: setting upper trangular matrix might slow down the calculation\n",
      "  warnings.warn(\n"
     ]
    },
    {
     "name": "stdout",
     "output_type": "stream",
     "text": [
      "The job elastic was saved and received the ID: elastic\n",
      "The job elastic_lmp_elastic was saved and received the ID: elastic_lmp_elastic\n"
     ]
    },
    {
     "name": "stderr",
     "output_type": "stream",
     "text": [
      "/Users/jan/PycharmProjects/pyiron_atomistics/pyiron_atomistics/lammps/interactive.py:491: UserWarning: Warning: setting upper trangular matrix might slow down the calculation\n",
      "  warnings.warn(\n",
      " 40%|█████████████████▌                          | 4/10 [00:12<00:20,  3.42s/it]"
     ]
    },
    {
     "name": "stdout",
     "output_type": "stream",
     "text": [
      "The job sqs was saved and received the ID: sqs\n",
      "The job lmp_mini was saved and received the ID: lmp_mini\n"
     ]
    },
    {
     "name": "stderr",
     "output_type": "stream",
     "text": [
      "/Users/jan/PycharmProjects/pyiron_atomistics/pyiron_atomistics/lammps/interactive.py:491: UserWarning: Warning: setting upper trangular matrix might slow down the calculation\n",
      "  warnings.warn(\n",
      "/Users/jan/PycharmProjects/pyiron_atomistics/pyiron_atomistics/lammps/interactive.py:121: UserWarning: Warning: setting upper trangular matrix might slow down the calculation\n",
      "  warnings.warn(\n"
     ]
    },
    {
     "name": "stdout",
     "output_type": "stream",
     "text": [
      "The job elastic was saved and received the ID: elastic\n",
      "The job elastic_lmp_elastic was saved and received the ID: elastic_lmp_elastic\n"
     ]
    },
    {
     "name": "stderr",
     "output_type": "stream",
     "text": [
      "/Users/jan/PycharmProjects/pyiron_atomistics/pyiron_atomistics/lammps/interactive.py:491: UserWarning: Warning: setting upper trangular matrix might slow down the calculation\n",
      "  warnings.warn(\n",
      " 50%|██████████████████████                      | 5/10 [00:17<00:18,  3.67s/it]"
     ]
    },
    {
     "name": "stdout",
     "output_type": "stream",
     "text": [
      "The job sqs was saved and received the ID: sqs\n",
      "The job lmp_mini was saved and received the ID: lmp_mini\n"
     ]
    },
    {
     "name": "stderr",
     "output_type": "stream",
     "text": [
      "/Users/jan/PycharmProjects/pyiron_atomistics/pyiron_atomistics/lammps/interactive.py:491: UserWarning: Warning: setting upper trangular matrix might slow down the calculation\n",
      "  warnings.warn(\n",
      "/Users/jan/PycharmProjects/pyiron_atomistics/pyiron_atomistics/lammps/interactive.py:121: UserWarning: Warning: setting upper trangular matrix might slow down the calculation\n",
      "  warnings.warn(\n"
     ]
    },
    {
     "name": "stdout",
     "output_type": "stream",
     "text": [
      "The job elastic was saved and received the ID: elastic\n",
      "The job elastic_lmp_elastic was saved and received the ID: elastic_lmp_elastic\n"
     ]
    },
    {
     "name": "stderr",
     "output_type": "stream",
     "text": [
      "/Users/jan/PycharmProjects/pyiron_atomistics/pyiron_atomistics/lammps/interactive.py:491: UserWarning: Warning: setting upper trangular matrix might slow down the calculation\n",
      "  warnings.warn(\n",
      " 60%|██████████████████████████▍                 | 6/10 [00:22<00:16,  4.12s/it]"
     ]
    },
    {
     "name": "stdout",
     "output_type": "stream",
     "text": [
      "The job sqs was saved and received the ID: sqs\n",
      "The job lmp_mini was saved and received the ID: lmp_mini\n"
     ]
    },
    {
     "name": "stderr",
     "output_type": "stream",
     "text": [
      "/Users/jan/PycharmProjects/pyiron_atomistics/pyiron_atomistics/lammps/interactive.py:491: UserWarning: Warning: setting upper trangular matrix might slow down the calculation\n",
      "  warnings.warn(\n",
      "/Users/jan/PycharmProjects/pyiron_atomistics/pyiron_atomistics/lammps/interactive.py:121: UserWarning: Warning: setting upper trangular matrix might slow down the calculation\n",
      "  warnings.warn(\n"
     ]
    },
    {
     "name": "stdout",
     "output_type": "stream",
     "text": [
      "The job elastic was saved and received the ID: elastic\n",
      "The job elastic_lmp_elastic was saved and received the ID: elastic_lmp_elastic\n"
     ]
    },
    {
     "name": "stderr",
     "output_type": "stream",
     "text": [
      "/Users/jan/PycharmProjects/pyiron_atomistics/pyiron_atomistics/lammps/interactive.py:491: UserWarning: Warning: setting upper trangular matrix might slow down the calculation\n",
      "  warnings.warn(\n",
      " 70%|██████████████████████████████▊             | 7/10 [00:27<00:13,  4.66s/it]"
     ]
    },
    {
     "name": "stdout",
     "output_type": "stream",
     "text": [
      "The job sqs was saved and received the ID: sqs\n",
      "The job lmp_mini was saved and received the ID: lmp_mini\n"
     ]
    },
    {
     "name": "stderr",
     "output_type": "stream",
     "text": [
      "/Users/jan/PycharmProjects/pyiron_atomistics/pyiron_atomistics/lammps/interactive.py:491: UserWarning: Warning: setting upper trangular matrix might slow down the calculation\n",
      "  warnings.warn(\n",
      "/Users/jan/PycharmProjects/pyiron_atomistics/pyiron_atomistics/lammps/interactive.py:121: UserWarning: Warning: setting upper trangular matrix might slow down the calculation\n",
      "  warnings.warn(\n"
     ]
    },
    {
     "name": "stdout",
     "output_type": "stream",
     "text": [
      "The job elastic was saved and received the ID: elastic\n",
      "The job elastic_lmp_elastic was saved and received the ID: elastic_lmp_elastic\n"
     ]
    },
    {
     "name": "stderr",
     "output_type": "stream",
     "text": [
      "/Users/jan/PycharmProjects/pyiron_atomistics/pyiron_atomistics/lammps/interactive.py:491: UserWarning: Warning: setting upper trangular matrix might slow down the calculation\n",
      "  warnings.warn(\n",
      " 80%|███████████████████████████████████▏        | 8/10 [00:33<00:09,  4.84s/it]"
     ]
    },
    {
     "name": "stdout",
     "output_type": "stream",
     "text": [
      "The job sqs was saved and received the ID: sqs\n",
      "The job lmp_mini was saved and received the ID: lmp_mini\n"
     ]
    },
    {
     "name": "stderr",
     "output_type": "stream",
     "text": [
      "/Users/jan/PycharmProjects/pyiron_atomistics/pyiron_atomistics/lammps/interactive.py:491: UserWarning: Warning: setting upper trangular matrix might slow down the calculation\n",
      "  warnings.warn(\n",
      "/Users/jan/PycharmProjects/pyiron_atomistics/pyiron_atomistics/lammps/interactive.py:121: UserWarning: Warning: setting upper trangular matrix might slow down the calculation\n",
      "  warnings.warn(\n"
     ]
    },
    {
     "name": "stdout",
     "output_type": "stream",
     "text": [
      "The job elastic was saved and received the ID: elastic\n",
      "The job elastic_lmp_elastic was saved and received the ID: elastic_lmp_elastic\n"
     ]
    },
    {
     "name": "stderr",
     "output_type": "stream",
     "text": [
      "/Users/jan/PycharmProjects/pyiron_atomistics/pyiron_atomistics/lammps/interactive.py:491: UserWarning: Warning: setting upper trangular matrix might slow down the calculation\n",
      "  warnings.warn(\n",
      " 90%|███████████████████████████████████████▌    | 9/10 [00:38<00:04,  4.99s/it]"
     ]
    },
    {
     "name": "stdout",
     "output_type": "stream",
     "text": [
      "The job sqs was saved and received the ID: sqs\n",
      "The job lmp_mini was saved and received the ID: lmp_mini\n"
     ]
    },
    {
     "name": "stderr",
     "output_type": "stream",
     "text": [
      "/Users/jan/PycharmProjects/pyiron_atomistics/pyiron_atomistics/lammps/interactive.py:491: UserWarning: Warning: setting upper trangular matrix might slow down the calculation\n",
      "  warnings.warn(\n",
      "/Users/jan/PycharmProjects/pyiron_atomistics/pyiron_atomistics/lammps/interactive.py:121: UserWarning: Warning: setting upper trangular matrix might slow down the calculation\n",
      "  warnings.warn(\n"
     ]
    },
    {
     "name": "stdout",
     "output_type": "stream",
     "text": [
      "The job elastic was saved and received the ID: elastic\n",
      "The job elastic_lmp_elastic was saved and received the ID: elastic_lmp_elastic\n"
     ]
    },
    {
     "name": "stderr",
     "output_type": "stream",
     "text": [
      "/Users/jan/PycharmProjects/pyiron_atomistics/pyiron_atomistics/lammps/interactive.py:491: UserWarning: Warning: setting upper trangular matrix might slow down the calculation\n",
      "  warnings.warn(\n",
      "100%|███████████████████████████████████████████| 10/10 [00:44<00:00,  4.43s/it]\n"
     ]
    }
   ],
   "source": [
    "for conc_lst in tqdm(lst_32):\n",
    "    # Generate structure \n",
    "    if sum(np.array(conc_lst)==0) != 4:\n",
    "        mole_fraction = {\n",
    "            el: conc/number_atoms\n",
    "            for el, conc in zip(element_lst, conc_lst)\n",
    "            if conc > 0\n",
    "        }\n",
    "        job = project.create_job(project.job_type.SQSJobWithoutOutput, \"sqs\")\n",
    "        job._interactive_disable_log_file = True\n",
    "        job.structure = structure\n",
    "        job.input['mole_fractions'] = mole_fraction\n",
    "        job.input['iterations'] = 1e6\n",
    "        job.server.cores = cores\n",
    "        job.run()\n",
    "        structure_next = job._lst_of_struct[-1]\n",
    "    else:\n",
    "        structure_next = structure.copy()\n",
    "        structure_next.symbols[:] = np.array(element_lst)[np.array(conc_lst)!=0][0] \n",
    "    structure_collect_lst.append(structure_next)\n",
    "    \n",
    "    # Minimize strucute \n",
    "    lmp_mini1 = project.create_job(project.job_type.LammpsInteractiveWithoutOutput, \"lmp_mini\", delete_existing_job=True)\n",
    "    lmp_mini1.structure = structure_next\n",
    "    lmp_mini1.potential = potential\n",
    "    lmp_mini1.calc_minimize(pressure=0.0)\n",
    "    lmp_mini1.server.run_mode.interactive = True\n",
    "    lmp_mini1._interactive_disable_log_file = True  # disable lammps.log \n",
    "    keys = list(lmp_mini1.interactive_output_functions.keys())\n",
    "    for k in keys:\n",
    "        if k not in ['cells', 'positions', 'indices']:\n",
    "            del lmp_mini1.interactive_output_functions[k]\n",
    "    lmp_mini1.run()\n",
    "    lmp_mini1.interactive_close()\n",
    "\n",
    "    # Elastic constants \n",
    "    lmp_elastic = project.create_job(project.job_type.LammpsInteractiveWithoutOutput, \"lmp_elastic\", delete_existing_job=True)\n",
    "    lmp_elastic.structure = lmp_mini1.get_structure()\n",
    "    lmp_elastic.potential = potential\n",
    "    lmp_elastic.interactive_enforce_structure_reset = True \n",
    "    lmp_elastic.server.run_mode.interactive = True\n",
    "    lmp_elastic._interactive_disable_log_file = True  # disable lammps.log\n",
    "    keys = list(lmp_elastic.interactive_output_functions.keys())\n",
    "    for k in keys:\n",
    "        if k not in ['energy_tot']:\n",
    "            del lmp_elastic.interactive_output_functions[k]\n",
    "    elastic = lmp_elastic.create_job(project.job_type.ElasticMatrixJobWithoutFiles, \"elastic\", delete_existing_job=True)\n",
    "    elastic._interactive_disable_log_file = True  # disable lammps.log\n",
    "    elastic.run()\n",
    "    \n",
    "    elastic_collect_lst.append(elastic._data[\"C\"])"
   ]
  },
  {
   "cell_type": "code",
   "execution_count": 19,
   "metadata": {},
   "outputs": [
    {
     "data": {
      "text/plain": [
       "[array([[171.55080699, 116.38765601, 116.38765601,   0.        ,\n",
       "           0.        ,   0.        ],\n",
       "        [116.38765601, 171.55080699, 116.38765601,   0.        ,\n",
       "           0.        ,   0.        ],\n",
       "        [116.38765601, 116.38765601, 171.55080699,   0.        ,\n",
       "           0.        ,   0.        ],\n",
       "        [  0.        ,   0.        ,   0.        ,  76.35007615,\n",
       "           0.        ,   0.        ],\n",
       "        [  0.        ,   0.        ,   0.        ,   0.        ,\n",
       "          76.35007615,   0.        ],\n",
       "        [  0.        ,   0.        ,   0.        ,   0.        ,\n",
       "           0.        ,  76.35007615]]),\n",
       " array([[168.20637662, 117.34259605, 117.34259605,   0.        ,\n",
       "           0.        ,   0.        ],\n",
       "        [117.34259605, 168.20637662, 117.34259605,   0.        ,\n",
       "           0.        ,   0.        ],\n",
       "        [117.34259605, 117.34259605, 168.20637662,   0.        ,\n",
       "           0.        ,   0.        ],\n",
       "        [  0.        ,   0.        ,   0.        ,  78.13518569,\n",
       "           0.        ,   0.        ],\n",
       "        [  0.        ,   0.        ,   0.        ,   0.        ,\n",
       "          78.13518569,   0.        ],\n",
       "        [  0.        ,   0.        ,   0.        ,   0.        ,\n",
       "           0.        ,  78.13518569]]),\n",
       " array([[166.9644919 , 118.964203  , 118.95482887,   0.        ,\n",
       "           0.        ,   0.        ],\n",
       "        [118.964203  , 170.33177414, 120.66648853,   0.        ,\n",
       "           0.        ,   0.        ],\n",
       "        [118.95482887, 120.66648853, 169.60311291,   0.        ,\n",
       "           0.        ,   0.        ],\n",
       "        [  0.        ,   0.        ,   0.        ,  79.96932717,\n",
       "           0.        ,   0.        ],\n",
       "        [  0.        ,   0.        ,   0.        ,   0.        ,\n",
       "          79.96932717,   0.        ],\n",
       "        [  0.        ,   0.        ,   0.        ,   0.        ,\n",
       "           0.        ,  79.99922553]]),\n",
       " array([[1.69825220e+02, 1.19995795e+02, 1.20210260e+02, 0.00000000e+00,\n",
       "         0.00000000e+00, 4.49295769e-01],\n",
       "        [1.19995795e+02, 1.72345130e+02, 2.84736865e+02, 0.00000000e+00,\n",
       "         0.00000000e+00, 3.40860052e-01],\n",
       "        [1.20210260e+02, 2.84736865e+02, 1.71454932e+02, 0.00000000e+00,\n",
       "         0.00000000e+00, 1.38313954e-01],\n",
       "        [0.00000000e+00, 0.00000000e+00, 0.00000000e+00, 8.19113301e+01,\n",
       "         4.53959079e-02, 0.00000000e+00],\n",
       "        [0.00000000e+00, 0.00000000e+00, 0.00000000e+00, 4.53959079e-02,\n",
       "         8.18802590e+01, 0.00000000e+00],\n",
       "        [4.49295769e-01, 3.40860052e-01, 1.38313954e-01, 0.00000000e+00,\n",
       "         0.00000000e+00, 8.19113277e+01]]),\n",
       " array([[ 1.73238186e+02,  1.21068864e+02,  1.21490260e+02,\n",
       "          0.00000000e+00,  0.00000000e+00,  6.66332669e-01],\n",
       "        [ 1.21068864e+02,  1.73825051e+02,  2.90371361e+02,\n",
       "          0.00000000e+00,  0.00000000e+00,  5.73541468e-01],\n",
       "        [ 1.21490260e+02,  2.90371361e+02,  1.76305495e+02,\n",
       "          0.00000000e+00,  0.00000000e+00,  4.50031225e-01],\n",
       "        [ 0.00000000e+00,  0.00000000e+00,  0.00000000e+00,\n",
       "          8.39069334e+01, -4.69957725e-02,  0.00000000e+00],\n",
       "        [ 0.00000000e+00,  0.00000000e+00,  0.00000000e+00,\n",
       "         -4.69957725e-02,  8.40005853e+01,  0.00000000e+00],\n",
       "        [ 6.66332669e-01,  5.73541468e-01,  4.50031225e-01,\n",
       "          0.00000000e+00,  0.00000000e+00,  8.37939542e+01]]),\n",
       " array([[ 1.73667575e+02,  1.19753335e+02,  1.19710193e+02,\n",
       "         -2.38875665e-02,  1.58426142e-01,  1.22308403e-01],\n",
       "        [ 1.19753335e+02,  1.75768789e+02,  1.19572101e+02,\n",
       "          4.78444719e-02,  5.88872343e-02,  1.20163947e-01],\n",
       "        [ 1.19710193e+02,  1.19572101e+02,  1.74932630e+02,\n",
       "          5.04635437e-02,  1.74437722e-01, -2.89479269e-03],\n",
       "        [-2.38875665e-02,  4.78444719e-02,  5.04635437e-02,\n",
       "          8.57035051e+01, -1.79621915e-02,  8.71187292e-04],\n",
       "        [ 1.58426142e-01,  5.88872343e-02,  1.74437722e-01,\n",
       "         -1.79621915e-02,  8.57938405e+01,  1.88883121e-03],\n",
       "        [ 1.22308403e-01,  1.20163947e-01, -2.89479269e-03,\n",
       "          8.71187292e-04,  1.88883121e-03,  8.59088895e+01]]),\n",
       " array([[ 1.76871781e+02,  1.18937193e+02,  1.18985473e+02,\n",
       "          5.71890181e-03, -3.81050651e-03,  2.91997309e-02],\n",
       "        [ 1.18937193e+02,  1.74848589e+02,  1.18946111e+02,\n",
       "          6.18953086e-02, -1.58887085e-01,  2.54962607e-02],\n",
       "        [ 1.18985473e+02,  1.18946111e+02,  1.77002410e+02,\n",
       "          7.15159345e-02, -7.86895519e-03, -6.82516555e-02],\n",
       "        [ 5.71890181e-03,  6.18953086e-02,  7.15159345e-02,\n",
       "          8.78981138e+01, -3.56079382e-02,  8.23924613e-02],\n",
       "        [-3.81050651e-03, -1.58887085e-01, -7.86895519e-03,\n",
       "         -3.56079382e-02,  8.75817957e+01, -2.78231679e-02],\n",
       "        [ 2.91997309e-02,  2.54962607e-02, -6.82516555e-02,\n",
       "          8.23924613e-02, -2.78231679e-02,  8.79373122e+01]]),\n",
       " array([[ 1.82489229e+02,  1.23972240e+02,  1.23404846e+02,\n",
       "         -3.94500396e-02,  9.34757270e-02,  2.36784194e-01],\n",
       "        [ 1.23972240e+02,  1.83919279e+02,  1.24076369e+02,\n",
       "         -1.47446388e-02, -6.30269417e-03,  2.95610822e-01],\n",
       "        [ 1.23404846e+02,  1.24076369e+02,  1.83773498e+02,\n",
       "         -1.44284820e-02,  1.05113990e-01,  1.41826600e-01],\n",
       "        [-3.94500396e-02, -1.47446388e-02, -1.44284820e-02,\n",
       "          8.98855647e+01, -9.05617674e-02,  3.41426167e-02],\n",
       "        [ 9.34757270e-02, -6.30269417e-03,  1.05113990e-01,\n",
       "         -9.05617674e-02,  8.97869207e+01, -8.55513250e-03],\n",
       "        [ 2.36784194e-01,  2.95610822e-01,  1.41826600e-01,\n",
       "          3.41426167e-02, -8.55513250e-03,  8.99417575e+01]]),\n",
       " array([[ 1.85187446e+02,  1.23321540e+02,  1.23933837e+02,\n",
       "          8.25905754e-02, -4.22378372e-04,  4.32509503e-02],\n",
       "        [ 1.23321540e+02,  1.85580887e+02,  1.24023177e+02,\n",
       "          8.64273818e-02, -2.53634884e-02,  4.73597244e-02],\n",
       "        [ 1.23933837e+02,  1.24023177e+02,  1.86482076e+02,\n",
       "          6.22209642e-02, -3.01682148e-02, -5.05938384e-03],\n",
       "        [ 8.25905754e-02,  8.64273818e-02,  6.22209642e-02,\n",
       "          9.20469601e+01,  3.90174282e-02,  7.67231635e-02],\n",
       "        [-4.22378372e-04, -2.53634884e-02, -3.01682148e-02,\n",
       "          3.90174282e-02,  9.21995433e+01,  3.44847570e-02],\n",
       "        [ 4.32509503e-02,  4.73597244e-02, -5.05938384e-03,\n",
       "          7.67231635e-02,  3.44847570e-02,  9.15030518e+01]]),\n",
       " array([[ 1.80799221e+02,  1.15267419e+02,  1.16651549e+02,\n",
       "          1.57624721e-01,  1.93890211e-01,  1.50780104e-01],\n",
       "        [ 1.15267419e+02,  1.78491547e+02,  1.16120791e+02,\n",
       "         -4.88179222e-02,  1.40878258e-01,  1.64093413e-01],\n",
       "        [ 1.16651549e+02,  1.16120791e+02,  1.81992313e+02,\n",
       "         -4.42532393e-02,  1.64909726e-01,  4.07651852e-02],\n",
       "        [ 1.57624721e-01, -4.88179222e-02, -4.42532393e-02,\n",
       "          9.42496759e+01, -2.05802784e-02, -3.26461566e-02],\n",
       "        [ 1.93890211e-01,  1.40878258e-01,  1.64909726e-01,\n",
       "         -2.05802784e-02,  9.41990057e+01,  4.83050359e-02],\n",
       "        [ 1.50780104e-01,  1.64093413e-01,  4.07651852e-02,\n",
       "         -3.26461566e-02,  4.83050359e-02,  9.44161220e+01]])]"
      ]
     },
     "execution_count": 19,
     "metadata": {},
     "output_type": "execute_result"
    }
   ],
   "source": [
    "elastic_collect_lst"
   ]
  },
  {
   "cell_type": "code",
   "execution_count": 20,
   "metadata": {},
   "outputs": [
    {
     "data": {
      "text/plain": [
       "[32, 32, 32, 32, 32, 32, 32, 32, 32, 32]"
      ]
     },
     "execution_count": 20,
     "metadata": {},
     "output_type": "execute_result"
    }
   ],
   "source": [
    "[len(struct) for struct in structure_collect_lst]"
   ]
  }
 ],
 "metadata": {
  "kernelspec": {
   "display_name": "Python 3 (ipykernel)",
   "language": "python",
   "name": "python3"
  },
  "language_info": {
   "codemirror_mode": {
    "name": "ipython",
    "version": 3
   },
   "file_extension": ".py",
   "mimetype": "text/x-python",
   "name": "python",
   "nbconvert_exporter": "python",
   "pygments_lexer": "ipython3",
   "version": "3.11.0"
  }
 },
 "nbformat": 4,
 "nbformat_minor": 4
}
