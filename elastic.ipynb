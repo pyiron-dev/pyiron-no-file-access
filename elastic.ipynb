{
 "cells": [
  {
   "cell_type": "code",
   "execution_count": 1,
   "id": "34704424",
   "metadata": {},
   "outputs": [],
   "source": [
    "import os"
   ]
  },
  {
   "cell_type": "code",
   "execution_count": 2,
   "id": "a39230ae",
   "metadata": {},
   "outputs": [],
   "source": [
    "import importlib"
   ]
  },
  {
   "cell_type": "code",
   "execution_count": 3,
   "id": "6f6bebaf",
   "metadata": {},
   "outputs": [],
   "source": [
    "import h5py"
   ]
  },
  {
   "cell_type": "code",
   "execution_count": 4,
   "id": "d5306f49",
   "metadata": {},
   "outputs": [
    {
     "data": {
      "application/vnd.jupyter.widget-view+json": {
       "model_id": "d3feda50d13744e6979358ba0f7945d0",
       "version_major": 2,
       "version_minor": 0
      },
      "text/plain": []
     },
     "metadata": {},
     "output_type": "display_data"
    }
   ],
   "source": [
    "import pyiron_gpl"
   ]
  },
  {
   "cell_type": "code",
   "execution_count": 5,
   "id": "b47c64ea",
   "metadata": {},
   "outputs": [],
   "source": [
    "from pyiron_base import state, GenericMaster"
   ]
  },
  {
   "cell_type": "code",
   "execution_count": 6,
   "id": "a92ca3b4",
   "metadata": {},
   "outputs": [],
   "source": [
    "from pyiron_atomistics import Project"
   ]
  },
  {
   "cell_type": "code",
   "execution_count": 7,
   "id": "fab3666f",
   "metadata": {},
   "outputs": [],
   "source": [
    "from pyiron_atomistics.lammps.interactive import LammpsInteractive"
   ]
  },
  {
   "cell_type": "code",
   "execution_count": 8,
   "id": "aa951543",
   "metadata": {},
   "outputs": [],
   "source": [
    "from pyiron_gpl.elastic.elastic import ElasticMatrixJob"
   ]
  },
  {
   "cell_type": "code",
   "execution_count": 9,
   "id": "48e3c3e1",
   "metadata": {},
   "outputs": [],
   "source": [
    "class LammpsInteractiveWithoutOutput(LammpsInteractive):\n",
    "    def __init__(self, project, job_name):\n",
    "        super(LammpsInteractiveWithoutOutput, self).__init__(project, job_name)\n",
    "        self._interactive_disable_log_file = False\n",
    "    \n",
    "    def to_hdf(self, hdf=None, group_name=None):\n",
    "        \"\"\"\n",
    "\n",
    "        Args:\n",
    "            hdf:\n",
    "            group_name:\n",
    "\n",
    "        Returns:\n",
    "\n",
    "        \"\"\"\n",
    "        if not self._interactive_disable_log_file:\n",
    "            super(LammpsInteractiveWithoutOutput, self).to_hdf(hdf=hdf, group_name=group_name)\n",
    "    \n",
    "    def interactive_flush(self, path=\"interactive\", include_last_step=False):\n",
    "        if not self._interactive_disable_log_file:\n",
    "            super(LammpsInteractiveWithoutOutput, self).interactive_flush(path=path, include_last_step=include_last_step)\n",
    "\n",
    "    def interactive_initialize_interface(self):\n",
    "        if not self._interactive_disable_log_file:\n",
    "            self._create_working_directory()\n",
    "        if self.server.run_mode.interactive and self.server.cores == 1:\n",
    "            lammps = getattr(importlib.import_module(\"lammps\"), \"lammps\")\n",
    "            if self._log_file is None:\n",
    "                self._log_file = os.path.join(self.working_directory, \"log.lammps\")\n",
    "            if not self._interactive_disable_log_file:\n",
    "                self._interactive_library = lammps(\n",
    "                    cmdargs=[\"-screen\", \"none\", \"-log\", self._log_file]\n",
    "                )\n",
    "            else:\n",
    "                self._interactive_library = lammps(\n",
    "                    cmdargs=[\"-screen\", \"none\", \"-log\", \"none\"]\n",
    "                )\n",
    "        else:\n",
    "            self._interactive_library = LammpsLibrary(\n",
    "                cores=self.server.cores, working_directory=self.working_directory\n",
    "            )\n",
    "        if not all(self.structure.pbc):\n",
    "            self.input.control[\"boundary\"] = \" \".join(\n",
    "                [\"p\" if coord else \"f\" for coord in self.structure.pbc]\n",
    "            )\n",
    "        self._reset_interactive_run_command()\n",
    "        self.interactive_structure_setter(self.structure)\n",
    "        \n",
    "    def interactive_close(self):\n",
    "        if not self._interactive_disable_log_file:\n",
    "            super(LammpsInteractiveWithoutOutput).interactive_close()\n",
    "            \n",
    "    def refresh_job_status(self):\n",
    "        if not self._interactive_disable_log_file:\n",
    "            super(LammpsInteractiveWithoutOutput).refresh_job_status()"
   ]
  },
  {
   "cell_type": "code",
   "execution_count": 10,
   "id": "20e1ad41",
   "metadata": {},
   "outputs": [],
   "source": [
    "class ElasticMatrixJobWithoutFiles(ElasticMatrixJob):\n",
    "    def __init__(self, project, job_name):\n",
    "        super(ElasticMatrixJobWithoutFiles, self).__init__(project, job_name)\n",
    "        self._interactive_disable_log_file = False\n",
    "        \n",
    "    def to_hdf(self, hdf=None, group_name=None):\n",
    "        \"\"\"\n",
    "\n",
    "        Args:\n",
    "            hdf:\n",
    "            group_name:\n",
    "\n",
    "        Returns:\n",
    "\n",
    "        \"\"\"\n",
    "        if not self._interactive_disable_log_file:\n",
    "            super(ElasticMatrixJobWithoutFiles, self).to_hdf(hdf=hdf, group_name=group_name)\n",
    "    \n",
    "    def refresh_job_status(self):\n",
    "        if not self._interactive_disable_log_file:\n",
    "            super(ElasticMatrixJobWithoutFiles).refresh_job_status()\n",
    "    \n",
    "    def collect_output(self):\n",
    "        if not self._data:\n",
    "            self.from_hdf()\n",
    "        self.create_calculator()\n",
    "\n",
    "        energies = {}\n",
    "        self._data[\"id\"] = []\n",
    "        if self.server.run_mode.interactive and not self._interactive_disable_log_file:\n",
    "            child_id = self.child_ids[0]\n",
    "            self._data[\"id\"].append(child_id)\n",
    "            child_job = self.project_hdf5.inspect(child_id)\n",
    "            energies = {job_name: energy for job_name, energy in zip(self.structure_dict.keys(),\n",
    "                                                                     child_job[\"output/generic/energy_tot\"])}\n",
    "        elif self.server.run_mode.interactive and self._interactive_disable_log_file:\n",
    "            energies = {job_name: energy for job_name, energy in zip(self.structure_dict.keys(),\n",
    "                                                                     self.ref_job.interactive_cache[\"energy_tot\"])} \n",
    "        else:\n",
    "            for job_id in self.child_ids:\n",
    "                ham = self.project_hdf5.inspect(job_id)\n",
    "                en = ham[\"output/generic/energy_tot\"][-1]\n",
    "                energies[ham.job_name] = en\n",
    "                self._data[\"id\"].append(ham.job_id)\n",
    "\n",
    "        self.property_calculator.analyse_structures(energies)\n",
    "        self._data.update(self.property_calculator._data)\n",
    "        if not self._interactive_disable_log_file:\n",
    "            self.to_hdf()\n",
    "    \n",
    "    def append(self, job):\n",
    "        \"\"\"\n",
    "        Append a job to the GenericMaster - just like you would append an element to a list.\n",
    "\n",
    "        Args:\n",
    "            job (GenericJob): job to append\n",
    "        \"\"\"\n",
    "        if self.status.initialized and not job.status.initialized:\n",
    "            raise ValueError(\n",
    "                \"GenericMaster requires reference jobs to have status initialized, rather than \",\n",
    "                job.status.string,\n",
    "            )\n",
    "        if job.server.cores >= self.server.cores:\n",
    "            self.server.cores = job.server.cores\n",
    "        if job.job_name not in self._job_name_lst:\n",
    "            self._job_name_lst.append(job.job_name)\n",
    "            if not self._interactive_disable_log_file:\n",
    "                self._child_job_update_hdf(parent_job=self, child_job=job)\n",
    "    \n",
    "    def pop(self, i=-1):\n",
    "        \"\"\"\n",
    "        Pop a job from the GenericMaster - just like you would pop an element from a list\n",
    "\n",
    "        Args:\n",
    "            i (int): position of the job. (Default is last element, -1.)\n",
    "\n",
    "        Returns:\n",
    "            GenericJob: job\n",
    "        \"\"\"\n",
    "        job_name_to_return = self._job_name_lst[i]\n",
    "        job_to_return = self._load_all_child_jobs(\n",
    "            self._load_job_from_cache(job_name_to_return)\n",
    "        )\n",
    "        del self._job_name_lst[i]\n",
    "        if not self._interactive_disable_log_file:\n",
    "            with self.project_hdf5.open(\"input\") as hdf5_input:\n",
    "                hdf5_input[\"job_list\"] = self._job_name_lst\n",
    "            job_to_return.relocate_hdf5()\n",
    "        if isinstance(job_to_return, GenericMaster):\n",
    "            for sub_job in job_to_return._job_object_dict.values():\n",
    "                self._child_job_update_hdf(parent_job=job_to_return, child_job=sub_job)\n",
    "        job_to_return.status.initialized = True\n",
    "        return job_to_return\n",
    "    \n",
    "    def _run_if_collect(self):\n",
    "        \"\"\"\n",
    "        Internal helper function the run if collect function is called when the job status is 'collect'. It collects\n",
    "        the simulation output using the standardized functions collect_output() and collect_logfiles(). Afterwards the\n",
    "        status is set to 'finished'.\n",
    "        \"\"\"\n",
    "\n",
    "\n",
    "        if not self._interactive_disable_log_file:\n",
    "            super(ElasticMatrixJobWithoutFiles)._run_if_collect()\n",
    "        else: \n",
    "            self._logger.info(\n",
    "                \"{}, status: {}, finished\".format(self.job_info_str, self.status)\n",
    "            )\n",
    "            self.collect_output()\n",
    "            self._logger.info(\n",
    "                \"{}, status: {}, parallel master\".format(self.job_info_str, self.status)\n",
    "            )\n",
    "            self.update_master()\n",
    "            # self.send_to_database()"
   ]
  },
  {
   "cell_type": "code",
   "execution_count": 11,
   "id": "9d678dc6",
   "metadata": {},
   "outputs": [
    {
     "data": {
      "text/plain": [
       "{'user': 'pyiron',\n",
       " 'resource_paths': ['/Users/janssen/pyiron/resources',\n",
       "  '/Users/janssen/mambaforge/share/pyiron'],\n",
       " 'project_paths': [],\n",
       " 'connection_timeout': 60,\n",
       " 'sql_connection_string': None,\n",
       " 'sql_table_name': 'jobs_pyiron',\n",
       " 'sql_view_connection_string': None,\n",
       " 'sql_view_table_name': None,\n",
       " 'sql_view_user': None,\n",
       " 'sql_view_user_key': None,\n",
       " 'sql_file': '/Users/janssen/pyiron.db',\n",
       " 'sql_host': None,\n",
       " 'sql_type': 'SQLite',\n",
       " 'sql_user_key': None,\n",
       " 'sql_database': None,\n",
       " 'project_check_enabled': False,\n",
       " 'disable_database': True,\n",
       " 'credentials_file': None,\n",
       " 'write_work_dir_warnings': True,\n",
       " 'config_file_permissions_warning': True}"
      ]
     },
     "execution_count": 11,
     "metadata": {},
     "output_type": "execute_result"
    }
   ],
   "source": [
    "state.settings.configuration"
   ]
  },
  {
   "cell_type": "code",
   "execution_count": 12,
   "id": "3823609f",
   "metadata": {},
   "outputs": [],
   "source": [
    "project = Project(\"elastic\")"
   ]
  },
  {
   "cell_type": "code",
   "execution_count": 13,
   "id": "72a1bb2a",
   "metadata": {},
   "outputs": [],
   "source": [
    "project.remove_jobs(recursive=True, silently=True)"
   ]
  },
  {
   "cell_type": "code",
   "execution_count": 14,
   "id": "895334aa",
   "metadata": {},
   "outputs": [],
   "source": [
    "potential = '2021--Deluigi-O-R--Fe-Ni-Cr-Co-Cu--LAMMPS--ipr1'"
   ]
  },
  {
   "cell_type": "code",
   "execution_count": 15,
   "id": "8d5786ba",
   "metadata": {},
   "outputs": [
    {
     "data": {
      "text/plain": [
       "Fe: [0. 0. 0.]\n",
       "Fe: [1.435 1.435 1.435]\n",
       "pbc: [ True  True  True]\n",
       "cell: \n",
       "Cell([2.87, 2.87, 2.87])"
      ]
     },
     "execution_count": 15,
     "metadata": {},
     "output_type": "execute_result"
    }
   ],
   "source": [
    "structure = project.create.structure.ase.bulk(\"Fe\", cubic=True)\n",
    "structure"
   ]
  },
  {
   "cell_type": "code",
   "execution_count": 16,
   "id": "9ca328b4",
   "metadata": {},
   "outputs": [
    {
     "name": "stdout",
     "output_type": "stream",
     "text": [
      "The job lmp_mini was saved and received the ID: lmp_mini\n"
     ]
    },
    {
     "name": "stderr",
     "output_type": "stream",
     "text": [
      "/Users/janssen/PycharmProjects/pyiron_atomistics/pyiron_atomistics/lammps/interactive.py:491: UserWarning: Warning: setting upper trangular matrix might slow down the calculation\n",
      "  warnings.warn(\n",
      "/Users/janssen/PycharmProjects/pyiron_atomistics/pyiron_atomistics/lammps/interactive.py:121: UserWarning: Warning: setting upper trangular matrix might slow down the calculation\n",
      "  warnings.warn(\n"
     ]
    }
   ],
   "source": [
    "lmp_mini1 = project.create_job(LammpsInteractiveWithoutOutput, \"lmp_mini\", delete_existing_job=True)\n",
    "lmp_mini1.structure = structure\n",
    "lmp_mini1.potential = potential\n",
    "lmp_mini1.calc_minimize(pressure=0.0)\n",
    "lmp_mini1.server.run_mode.interactive = True\n",
    "lmp_mini1._interactive_disable_log_file = True  # disable lammps.log \n",
    "lmp_mini1.run()\n",
    "lmp_mini1.interactive_close()"
   ]
  },
  {
   "cell_type": "code",
   "execution_count": 17,
   "id": "77458f11",
   "metadata": {},
   "outputs": [
    {
     "data": {
      "text/plain": [
       "Fe: [0.00482899 0.00482899 0.00482899]\n",
       "Fe: [1.435 1.435 1.435]\n",
       "pbc: [ True  True  True]\n",
       "cell: \n",
       "Cell([[2.8603420110170252, 1.7514543441293517e-16, 1.7514543441293517e-16], [0.0, 2.8603420110170252, 1.7514543441293512e-16], [0.0, 0.0, 2.8603420110170252]])"
      ]
     },
     "execution_count": 17,
     "metadata": {},
     "output_type": "execute_result"
    }
   ],
   "source": [
    "lmp_mini1.get_structure()"
   ]
  },
  {
   "cell_type": "code",
   "execution_count": 18,
   "id": "ecf22063",
   "metadata": {},
   "outputs": [
    {
     "name": "stderr",
     "output_type": "stream",
     "text": [
      "/Users/janssen/PycharmProjects/pyiron_atomistics/pyiron_atomistics/lammps/interactive.py:491: UserWarning: Warning: setting upper trangular matrix might slow down the calculation\n",
      "  warnings.warn(\n"
     ]
    },
    {
     "name": "stdout",
     "output_type": "stream",
     "text": [
      "The job elastic was saved and received the ID: elastic\n",
      "The job elastic_lmp_elastic was saved and received the ID: elastic_lmp_elastic\n"
     ]
    }
   ],
   "source": [
    "lmp_elastic = project.create_job(LammpsInteractiveWithoutOutput, \"lmp_elastic\", delete_existing_job=True)\n",
    "lmp_elastic.structure = lmp_mini1.get_structure()\n",
    "lmp_elastic.potential = potential\n",
    "lmp_elastic.interactive_enforce_structure_reset = True \n",
    "lmp_elastic.server.run_mode.interactive = True\n",
    "lmp_elastic._interactive_disable_log_file = True  # disable lammps.log\n",
    "elastic = lmp_elastic.create_job(ElasticMatrixJobWithoutFiles, \"elastic\", delete_existing_job=True)\n",
    "elastic._interactive_disable_log_file = True  # disable lammps.log\n",
    "elastic.run()"
   ]
  },
  {
   "cell_type": "code",
   "execution_count": 19,
   "id": "f8b937ad",
   "metadata": {},
   "outputs": [],
   "source": [
    "def printname(name):\n",
    "    print(name)"
   ]
  },
  {
   "cell_type": "code",
   "execution_count": 20,
   "id": "cc5d32d3",
   "metadata": {},
   "outputs": [],
   "source": [
    "# with h5py.File(project.path + elastic.job_name + \".h5\", \"r\") as f:\n",
    "#     f.visit(printname)"
   ]
  },
  {
   "cell_type": "code",
   "execution_count": 21,
   "id": "525d4b6e",
   "metadata": {},
   "outputs": [
    {
     "data": {
      "text/plain": [
       "array([[184.4207967 , 186.5940429 , 186.5940429 ,   0.        ,\n",
       "          0.        ,   0.        ],\n",
       "       [186.5940429 , 184.4207967 , 186.5940429 ,   0.        ,\n",
       "          0.        ,   0.        ],\n",
       "       [186.5940429 , 186.5940429 , 184.4207967 ,   0.        ,\n",
       "          0.        ,   0.        ],\n",
       "       [  0.        ,   0.        ,   0.        , 165.36013199,\n",
       "          0.        ,   0.        ],\n",
       "       [  0.        ,   0.        ,   0.        ,   0.        ,\n",
       "        165.36013199,   0.        ],\n",
       "       [  0.        ,   0.        ,   0.        ,   0.        ,\n",
       "          0.        , 165.36013199]])"
      ]
     },
     "execution_count": 21,
     "metadata": {},
     "output_type": "execute_result"
    }
   ],
   "source": [
    "elastic._data[\"C\"]"
   ]
  },
  {
   "cell_type": "code",
   "execution_count": null,
   "id": "59494559",
   "metadata": {},
   "outputs": [],
   "source": []
  }
 ],
 "metadata": {
  "kernelspec": {
   "display_name": "Python 3 (ipykernel)",
   "language": "python",
   "name": "python3"
  },
  "language_info": {
   "codemirror_mode": {
    "name": "ipython",
    "version": 3
   },
   "file_extension": ".py",
   "mimetype": "text/x-python",
   "name": "python",
   "nbconvert_exporter": "python",
   "pygments_lexer": "ipython3",
   "version": "3.10.8"
  }
 },
 "nbformat": 4,
 "nbformat_minor": 5
}
