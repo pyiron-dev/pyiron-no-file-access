{
 "cells": [
  {
   "cell_type": "code",
   "execution_count": 1,
   "metadata": {},
   "outputs": [],
   "source": [
    "import h5py"
   ]
  },
  {
   "cell_type": "code",
   "execution_count": 2,
   "metadata": {},
   "outputs": [
    {
     "data": {
      "application/vnd.jupyter.widget-view+json": {
       "model_id": "2862727449b045cc906c5e8f4cfb7c59",
       "version_major": 2,
       "version_minor": 0
      },
      "text/plain": []
     },
     "metadata": {},
     "output_type": "display_data"
    }
   ],
   "source": [
    "from pyiron_atomistics import Project"
   ]
  },
  {
   "cell_type": "code",
   "execution_count": 3,
   "metadata": {},
   "outputs": [
    {
     "data": {
      "text/html": [
       "<pre style=\"white-space:pre;overflow-x:auto;line-height:normal;font-family:Menlo,'DejaVu Sans Mono',consolas,'Courier New',monospace\"></pre>\n"
      ],
      "text/plain": []
     },
     "metadata": {},
     "output_type": "display_data"
    },
    {
     "data": {
      "text/html": [
       "<pre style=\"white-space:pre;overflow-x:auto;line-height:normal;font-family:Menlo,'DejaVu Sans Mono',consolas,'Courier New',monospace\"></pre>\n"
      ],
      "text/plain": []
     },
     "metadata": {},
     "output_type": "display_data"
    }
   ],
   "source": [
    "from pyiron_atomistics.atomistics.job.sqs import SQSJob, get_sqs_structures"
   ]
  },
  {
   "cell_type": "code",
   "execution_count": 4,
   "metadata": {},
   "outputs": [],
   "source": [
    "class SQSJobWithoutOutput(SQSJob):\n",
    "    def __init__(self, project, job_name):\n",
    "        super(SQSJobWithoutOutput, self).__init__(project, job_name)\n",
    "        self._interactive_disable_log_file = False\n",
    "        \n",
    "    def to_hdf(self, hdf=None, group_name=None):\n",
    "        \"\"\"\n",
    "\n",
    "        Args:\n",
    "            hdf:\n",
    "            group_name:\n",
    "\n",
    "        Returns:\n",
    "\n",
    "        \"\"\"\n",
    "        if not self._interactive_disable_log_file:\n",
    "            super(SQSJobWithoutOutput, self).to_hdf(hdf=hdf, group_name=group_name)\n",
    "            \n",
    "    def run_static(self):\n",
    "        if not self._interactive_disable_log_file:\n",
    "            super(SQSJobWithoutOutput, self).run_static()\n",
    "        else:\n",
    "            self._lst_of_struct, decmp, iterations, cycle_time = get_sqs_structures(\n",
    "                structure=self.structure,\n",
    "                mole_fractions={k: v for k, v in self.input.mole_fractions.items()},\n",
    "                weights=self.input.weights,\n",
    "                objective=self.input.objective,\n",
    "                iterations=self.input.iterations,\n",
    "                output_structures=self.input.n_output_structures,\n",
    "                num_threads=self.server.cores,\n",
    "            )\n",
    "            \n",
    "    def refresh_job_status(self):\n",
    "        if not self._interactive_disable_log_file:\n",
    "            super(SQSJobWithoutOutput, self).refresh_job_status()"
   ]
  },
  {
   "cell_type": "code",
   "execution_count": 5,
   "metadata": {},
   "outputs": [],
   "source": [
    "pr = Project('sqs')"
   ]
  },
  {
   "cell_type": "code",
   "execution_count": 6,
   "metadata": {},
   "outputs": [],
   "source": [
    "pr.remove_jobs(recursive=True, silently=True)"
   ]
  },
  {
   "cell_type": "code",
   "execution_count": 7,
   "metadata": {},
   "outputs": [
    {
     "name": "stderr",
     "output_type": "stream",
     "text": [
      "/var/folders/z7/3vhrmssx60v240x_ndq448h80000gn/T/ipykernel_66935/39614455.py:1: DeprecationWarning: pyiron_atomistics.project.create_ase_bulk is deprecated: Use create.struture.bulk instead.\n",
      "  ni_fcc = pr.create_ase_bulk(\"Ni\", cubic=True)\n"
     ]
    }
   ],
   "source": [
    "ni_fcc = pr.create_ase_bulk(\"Ni\", cubic=True)\n",
    "ni_fcc.set_repeat([2,2,2])"
   ]
  },
  {
   "cell_type": "code",
   "execution_count": 8,
   "metadata": {},
   "outputs": [
    {
     "name": "stdout",
     "output_type": "stream",
     "text": [
      "The job ni_cr_fcc_sqs was saved and received the ID: ni_cr_fcc_sqs\n"
     ]
    },
    {
     "name": "stderr",
     "output_type": "stream",
     "text": [
      "/Users/jan/PycharmProjects/pyiron_atomistics/pyiron_atomistics/atomistics/job/sqs.py:95: UserWarning: The current mole-fraction specification cannot be applied to 32 atoms, as it would lead to fractional occupation. Hence, I have changed it from \"{'Ni': 0.8, 'Cr': 0.2}\" -> \"{'Ni': 0.8125, 'Cr': 0.1875}\"\n",
      "  warnings.warn(\n"
     ]
    }
   ],
   "source": [
    "job = pr.create_job(SQSJobWithoutOutput, \"ni_cr_fcc_sqs\")\n",
    "job._interactive_disable_log_file = True\n",
    "job.structure = ni_fcc\n",
    "job.input['mole_fractions'] = {\"Ni\": 0.8, 'Cr': 0.2}\n",
    "job.input['iterations'] = 1e6\n",
    "job.server.cores = 2\n",
    "job.run()"
   ]
  },
  {
   "cell_type": "code",
   "execution_count": 9,
   "metadata": {},
   "outputs": [],
   "source": [
    "def printname(name):\n",
    "    print(name)"
   ]
  },
  {
   "cell_type": "code",
   "execution_count": 10,
   "metadata": {},
   "outputs": [],
   "source": [
    "# with h5py.File(pr.path + job.job_name + \".h5\", \"r\") as f:\n",
    "#     f.visit(printname)"
   ]
  },
  {
   "cell_type": "code",
   "execution_count": 11,
   "metadata": {},
   "outputs": [
    {
     "data": {
      "text/plain": [
       "Ni: [0. 0. 0.]\n",
       "Ni: [0.   1.76 1.76]\n",
       "Ni: [1.76 0.   1.76]\n",
       "Cr: [1.76 1.76 0.  ]\n",
       "Ni: [0.   3.52 0.  ]\n",
       "Ni: [0.   5.28 1.76]\n",
       "Ni: [1.76 3.52 1.76]\n",
       "Ni: [1.76 5.28 0.  ]\n",
       "Ni: [3.52 0.   0.  ]\n",
       "Ni: [3.52 1.76 1.76]\n",
       "Cr: [5.28 0.   1.76]\n",
       "Ni: [5.28 1.76 0.  ]\n",
       "Ni: [3.52 3.52 0.  ]\n",
       "Ni: [3.52 5.28 1.76]\n",
       "Ni: [5.28 3.52 1.76]\n",
       "Ni: [5.28 5.28 0.  ]\n",
       "Ni: [0.   0.   3.52]\n",
       "Cr: [0.   1.76 5.28]\n",
       "Cr: [1.76 0.   5.28]\n",
       "Ni: [1.76 1.76 3.52]\n",
       "Ni: [0.   3.52 3.52]\n",
       "Ni: [0.   5.28 5.28]\n",
       "Ni: [1.76 3.52 5.28]\n",
       "Ni: [1.76 5.28 3.52]\n",
       "Ni: [3.52 0.   3.52]\n",
       "Ni: [3.52 1.76 5.28]\n",
       "Cr: [5.28 0.   5.28]\n",
       "Cr: [5.28 1.76 3.52]\n",
       "Ni: [3.52 3.52 3.52]\n",
       "Ni: [3.52 5.28 5.28]\n",
       "Ni: [5.28 3.52 5.28]\n",
       "Ni: [5.28 5.28 3.52]\n",
       "pbc: [ True  True  True]\n",
       "cell: \n",
       "Cell([7.04, 7.04, 7.04])"
      ]
     },
     "execution_count": 11,
     "metadata": {},
     "output_type": "execute_result"
    }
   ],
   "source": [
    "job._lst_of_struct[-1]"
   ]
  }
 ],
 "metadata": {
  "kernelspec": {
   "display_name": "Python 3 (ipykernel)",
   "language": "python",
   "name": "python3"
  },
  "language_info": {
   "codemirror_mode": {
    "name": "ipython",
    "version": 3
   },
   "file_extension": ".py",
   "mimetype": "text/x-python",
   "name": "python",
   "nbconvert_exporter": "python",
   "pygments_lexer": "ipython3",
   "version": "3.10.9"
  }
 },
 "nbformat": 4,
 "nbformat_minor": 4
}
