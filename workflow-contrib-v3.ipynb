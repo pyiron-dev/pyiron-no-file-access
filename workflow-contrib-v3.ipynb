{
 "cells": [
  {
   "cell_type": "code",
   "execution_count": 1,
   "metadata": {},
   "outputs": [],
   "source": [
    "import numpy as np"
   ]
  },
  {
   "cell_type": "code",
   "execution_count": 2,
   "metadata": {},
   "outputs": [],
   "source": [
    "from tqdm import tqdm"
   ]
  },
  {
   "cell_type": "code",
   "execution_count": 3,
   "metadata": {},
   "outputs": [],
   "source": [
    "import pandas"
   ]
  },
  {
   "cell_type": "code",
   "execution_count": 4,
   "metadata": {},
   "outputs": [
    {
     "data": {
      "application/vnd.jupyter.widget-view+json": {
       "model_id": "98df57cbb1ec42888d33e06a6488b332",
       "version_major": 2,
       "version_minor": 0
      },
      "text/plain": []
     },
     "metadata": {},
     "output_type": "display_data"
    }
   ],
   "source": [
    "import pyiron_contrib"
   ]
  },
  {
   "cell_type": "code",
   "execution_count": 5,
   "metadata": {},
   "outputs": [],
   "source": [
    "from pyiron_base import state"
   ]
  },
  {
   "cell_type": "code",
   "execution_count": 6,
   "metadata": {},
   "outputs": [],
   "source": [
    "from pyiron_atomistics import Project"
   ]
  },
  {
   "cell_type": "code",
   "execution_count": 7,
   "metadata": {},
   "outputs": [],
   "source": [
    "def body_order(n=32, b=5):\n",
    "    if b == 2:\n",
    "        return [[i ,n-i] for i in range(n+1)]\n",
    "    else:\n",
    "        lst = []\n",
    "        for i in range(n+1):\n",
    "            for j in body_order(n=n-i, b=b-1):\n",
    "                lst.append([i] + j)\n",
    "        return lst"
   ]
  },
  {
   "cell_type": "code",
   "execution_count": 8,
   "metadata": {},
   "outputs": [],
   "source": [
    "def get_elastic_constants(conc_lst, number_atoms, element_lst, potential, structure):\n",
    "    # create project \n",
    "    project = Project('workflow')\n",
    "    \n",
    "    # Generate structure \n",
    "    if sum(np.array(conc_lst)==0) != 4:\n",
    "        mole_fraction = {\n",
    "            el: conc/number_atoms\n",
    "            for el, conc in zip(element_lst, conc_lst)\n",
    "            if conc > 0\n",
    "        }\n",
    "        job = project.create_job(project.job_type.SQSJobWithoutOutput, \"sqs\")\n",
    "        job._interactive_disable_log_file = True\n",
    "        job.structure = structure\n",
    "        job.input['mole_fractions'] = mole_fraction\n",
    "        job.input['iterations'] = 1e6\n",
    "        job.server.cores = 1\n",
    "        job.run()\n",
    "        structure_next = job._lst_of_struct[-1]\n",
    "    else:\n",
    "        structure_next = structure.copy()\n",
    "        structure_next.symbols[:] = np.array(element_lst)[np.array(conc_lst)!=0][0] \n",
    "    \n",
    "    # Minimize strucute \n",
    "    lmp_mini1 = project.create_job(project.job_type.LammpsInteractiveWithoutOutput, \"lmp_mini\", delete_existing_job=True)\n",
    "    lmp_mini1.structure = structure_next\n",
    "    lmp_mini1.potential = potential\n",
    "    lmp_mini1.calc_minimize(pressure=0.0)\n",
    "    lmp_mini1.server.run_mode.interactive = True\n",
    "    lmp_mini1._interactive_disable_log_file = True  # disable lammps.log \n",
    "    lmp_mini1.run()\n",
    "    lmp_mini1.interactive_close()\n",
    "\n",
    "    # Elastic constants \n",
    "    lmp_elastic = project.create_job(project.job_type.LammpsInteractiveWithoutOutput, \"lmp_elastic\", delete_existing_job=True)\n",
    "    lmp_elastic.structure = lmp_mini1.get_structure()\n",
    "    lmp_elastic.potential = potential\n",
    "    lmp_elastic.interactive_enforce_structure_reset = True \n",
    "    lmp_elastic.server.run_mode.interactive = True\n",
    "    lmp_elastic._interactive_disable_log_file = True  # disable lammps.log\n",
    "    elastic = lmp_elastic.create_job(project.job_type.ElasticMatrixJobWithoutFiles, \"elastic\", delete_existing_job=True)\n",
    "    elastic._interactive_disable_log_file = True  # disable lammps.log\n",
    "    elastic.run()\n",
    "    \n",
    "    elastic_constants_lst = [\n",
    "        elastic._data[\"C\"][0][0],\n",
    "        elastic._data[\"C\"][0][1],\n",
    "        elastic._data[\"C\"][0][2],\n",
    "        elastic._data[\"C\"][0][3],\n",
    "        elastic._data[\"C\"][0][4],\n",
    "        elastic._data[\"C\"][0][5],\n",
    "        elastic._data[\"C\"][1][1],\n",
    "        elastic._data[\"C\"][1][2],\n",
    "        elastic._data[\"C\"][1][3],\n",
    "        elastic._data[\"C\"][1][4],\n",
    "        elastic._data[\"C\"][1][5],\n",
    "        elastic._data[\"C\"][2][2],\n",
    "        elastic._data[\"C\"][2][3],\n",
    "        elastic._data[\"C\"][2][4],\n",
    "        elastic._data[\"C\"][2][5],\n",
    "        elastic._data[\"C\"][3][3],\n",
    "        elastic._data[\"C\"][3][4],\n",
    "        elastic._data[\"C\"][3][5],\n",
    "        elastic._data[\"C\"][4][4],\n",
    "        elastic._data[\"C\"][4][5],\n",
    "        elastic._data[\"C\"][5][5],\n",
    "    ]\n",
    "\n",
    "    if \"Fe\" in elastic.ref_job.structure.get_species_symbols():\n",
    "        conc_Fe = sum(elastic.ref_job.structure.indices==elastic.ref_job.structure.get_species_symbols().tolist().index(\"Fe\")) / len(elastic.ref_job.structure.indices)\n",
    "    else:\n",
    "        conc_Fe = 0.0\n",
    "    if \"Ni\" in elastic.ref_job.structure.get_species_symbols():\n",
    "        conc_Ni = sum(elastic.ref_job.structure.indices==elastic.ref_job.structure.get_species_symbols().tolist().index(\"Ni\")) / len(elastic.ref_job.structure.indices)\n",
    "    else:\n",
    "        conc_Ni = 0.0\n",
    "    if \"Cr\" in elastic.ref_job.structure.get_species_symbols():\n",
    "        conc_Cr = sum(elastic.ref_job.structure.indices==elastic.ref_job.structure.get_species_symbols().tolist().index(\"Cr\")) / len(elastic.ref_job.structure.indices)\n",
    "    else:\n",
    "        conc_Cr = 0.0\n",
    "    if \"Co\" in elastic.ref_job.structure.get_species_symbols():\n",
    "        conc_Co = sum(elastic.ref_job.structure.indices==elastic.ref_job.structure.get_species_symbols().tolist().index(\"Co\")) / len(elastic.ref_job.structure.indices)\n",
    "    else:\n",
    "        conc_Co = 0.0\n",
    "    if \"Cu\" in elastic.ref_job.structure.get_species_symbols():\n",
    "        conc_Cu = sum(elastic.ref_job.structure.indices==elastic.ref_job.structure.get_species_symbols().tolist().index(\"Cu\")) / len(elastic.ref_job.structure.indices)\n",
    "    else:\n",
    "        conc_Cu = 0.0\n",
    "        \n",
    "    conc_lst = [conc_Fe, conc_Ni, conc_Cr, conc_Co, conc_Cu]\n",
    "    \n",
    "    return elastic_constants_lst + conc_lst"
   ]
  },
  {
   "cell_type": "code",
   "execution_count": 9,
   "metadata": {},
   "outputs": [
    {
     "data": {
      "text/plain": [
       "{'user': 'pyiron',\n",
       " 'resource_paths': ['/Users/janssen/pyiron/resources',\n",
       "  '/Users/janssen/mambaforge/share/pyiron'],\n",
       " 'project_paths': [],\n",
       " 'connection_timeout': 60,\n",
       " 'sql_connection_string': None,\n",
       " 'sql_table_name': 'jobs_pyiron',\n",
       " 'sql_view_connection_string': None,\n",
       " 'sql_view_table_name': None,\n",
       " 'sql_view_user': None,\n",
       " 'sql_view_user_key': None,\n",
       " 'sql_file': '/Users/janssen/pyiron.db',\n",
       " 'sql_host': None,\n",
       " 'sql_type': 'SQLite',\n",
       " 'sql_user_key': None,\n",
       " 'sql_database': None,\n",
       " 'project_check_enabled': False,\n",
       " 'disable_database': True,\n",
       " 'credentials_file': None,\n",
       " 'write_work_dir_warnings': True,\n",
       " 'config_file_permissions_warning': True}"
      ]
     },
     "execution_count": 9,
     "metadata": {},
     "output_type": "execute_result"
    }
   ],
   "source": [
    "state.settings.configuration"
   ]
  },
  {
   "cell_type": "code",
   "execution_count": 10,
   "metadata": {},
   "outputs": [],
   "source": [
    "structure = Project('.').create.structure.ase.bulk(\"Al\", cubic=True).repeat([2,2,2])"
   ]
  },
  {
   "cell_type": "code",
   "execution_count": 11,
   "metadata": {},
   "outputs": [],
   "source": [
    "element_lst = [\"Fe\", \"Ni\", \"Cr\", \"Co\", \"Cu\"]"
   ]
  },
  {
   "cell_type": "code",
   "execution_count": 12,
   "metadata": {},
   "outputs": [],
   "source": [
    "number_atoms = len(structure)"
   ]
  },
  {
   "cell_type": "code",
   "execution_count": 13,
   "metadata": {},
   "outputs": [],
   "source": [
    "number_species = len(element_lst)"
   ]
  },
  {
   "cell_type": "code",
   "execution_count": 14,
   "metadata": {},
   "outputs": [],
   "source": [
    "potential = '2021--Deluigi-O-R--Fe-Ni-Cr-Co-Cu--LAMMPS--ipr1'"
   ]
  },
  {
   "cell_type": "code",
   "execution_count": 15,
   "metadata": {},
   "outputs": [],
   "source": [
    "lst_32 = body_order(n=number_atoms, b=number_species)[:10]"
   ]
  },
  {
   "cell_type": "code",
   "execution_count": 16,
   "metadata": {},
   "outputs": [],
   "source": [
    "c11_lst, c12_lst, c13_lst, c14_lst, c15_lst, c16_lst, c22_lst, c23_lst, c24_lst, c25_lst, c26_lst, c33_lst, c34_lst, c35_lst, c36_lst, c44_lst, c45_lst, c46_lst, c55_lst, c56_lst, c66_lst = [], [], [], [], [], [], [], [], [], [], [], [], [], [], [], [], [], [], [], [], []  "
   ]
  },
  {
   "cell_type": "code",
   "execution_count": 17,
   "metadata": {},
   "outputs": [],
   "source": [
    "conc_Fe_lst, conc_Ni_lst, conc_Cr_lst, conc_Co_lst, conc_Cu_lst = [], [], [], [], []"
   ]
  },
  {
   "cell_type": "code",
   "execution_count": 18,
   "metadata": {},
   "outputs": [
    {
     "name": "stderr",
     "output_type": "stream",
     "text": [
      "  0%|                                                    | 0/10 [00:00<?, ?it/s]"
     ]
    },
    {
     "name": "stdout",
     "output_type": "stream",
     "text": [
      "The job lmp_mini was saved and received the ID: lmp_mini\n"
     ]
    },
    {
     "name": "stderr",
     "output_type": "stream",
     "text": [
      "/Users/janssen/PycharmProjects/pyiron_atomistics/pyiron_atomistics/lammps/interactive.py:491: UserWarning: Warning: setting upper trangular matrix might slow down the calculation\n",
      "  warnings.warn(\n",
      "/Users/janssen/PycharmProjects/pyiron_atomistics/pyiron_atomistics/lammps/interactive.py:121: UserWarning: Warning: setting upper trangular matrix might slow down the calculation\n",
      "  warnings.warn(\n"
     ]
    },
    {
     "name": "stdout",
     "output_type": "stream",
     "text": [
      "The job elastic was saved and received the ID: elastic\n",
      "The job elastic_lmp_elastic was saved and received the ID: elastic_lmp_elastic\n"
     ]
    },
    {
     "name": "stderr",
     "output_type": "stream",
     "text": [
      "/Users/janssen/PycharmProjects/pyiron_atomistics/pyiron_atomistics/lammps/interactive.py:491: UserWarning: Warning: setting upper trangular matrix might slow down the calculation\n",
      "  warnings.warn(\n",
      " 10%|████▍                                       | 1/10 [00:02<00:19,  2.22s/it]"
     ]
    },
    {
     "data": {
      "text/html": [
       "<pre style=\"white-space:pre;overflow-x:auto;line-height:normal;font-family:Menlo,'DejaVu Sans Mono',consolas,'Courier New',monospace\"></pre>\n"
      ],
      "text/plain": []
     },
     "metadata": {},
     "output_type": "display_data"
    },
    {
     "data": {
      "text/html": [
       "<pre style=\"white-space:pre;overflow-x:auto;line-height:normal;font-family:Menlo,'DejaVu Sans Mono',consolas,'Courier New',monospace\"></pre>\n"
      ],
      "text/plain": []
     },
     "metadata": {},
     "output_type": "display_data"
    },
    {
     "name": "stdout",
     "output_type": "stream",
     "text": [
      "The job sqs was saved and received the ID: sqs\n",
      "The job lmp_mini was saved and received the ID: lmp_mini\n"
     ]
    },
    {
     "name": "stderr",
     "output_type": "stream",
     "text": [
      "/Users/janssen/PycharmProjects/pyiron_atomistics/pyiron_atomistics/lammps/interactive.py:491: UserWarning: Warning: setting upper trangular matrix might slow down the calculation\n",
      "  warnings.warn(\n",
      "/Users/janssen/PycharmProjects/pyiron_atomistics/pyiron_atomistics/lammps/interactive.py:121: UserWarning: Warning: setting upper trangular matrix might slow down the calculation\n",
      "  warnings.warn(\n"
     ]
    },
    {
     "name": "stdout",
     "output_type": "stream",
     "text": [
      "The job elastic was saved and received the ID: elastic\n",
      "The job elastic_lmp_elastic was saved and received the ID: elastic_lmp_elastic\n"
     ]
    },
    {
     "name": "stderr",
     "output_type": "stream",
     "text": [
      "/Users/janssen/PycharmProjects/pyiron_atomistics/pyiron_atomistics/lammps/interactive.py:491: UserWarning: Warning: setting upper trangular matrix might slow down the calculation\n",
      "  warnings.warn(\n",
      " 20%|████████▊                                   | 2/10 [00:04<00:19,  2.42s/it]"
     ]
    },
    {
     "name": "stdout",
     "output_type": "stream",
     "text": [
      "The job sqs was saved and received the ID: sqs\n",
      "The job lmp_mini was saved and received the ID: lmp_mini\n",
      "The job elastic was saved and received the ID: elastic\n"
     ]
    },
    {
     "name": "stderr",
     "output_type": "stream",
     "text": [
      "/Users/janssen/PycharmProjects/pyiron_atomistics/pyiron_atomistics/lammps/interactive.py:491: UserWarning: Warning: setting upper trangular matrix might slow down the calculation\n",
      "  warnings.warn(\n",
      "/Users/janssen/PycharmProjects/pyiron_atomistics/pyiron_atomistics/lammps/interactive.py:121: UserWarning: Warning: setting upper trangular matrix might slow down the calculation\n",
      "  warnings.warn(\n"
     ]
    },
    {
     "name": "stdout",
     "output_type": "stream",
     "text": [
      "The job elastic_lmp_elastic was saved and received the ID: elastic_lmp_elastic\n"
     ]
    },
    {
     "name": "stderr",
     "output_type": "stream",
     "text": [
      "/Users/janssen/PycharmProjects/pyiron_atomistics/pyiron_atomistics/lammps/interactive.py:491: UserWarning: Warning: setting upper trangular matrix might slow down the calculation\n",
      "  warnings.warn(\n",
      " 30%|█████████████▏                              | 3/10 [00:07<00:17,  2.50s/it]"
     ]
    },
    {
     "name": "stdout",
     "output_type": "stream",
     "text": [
      "The job sqs was saved and received the ID: sqs\n",
      "The job lmp_mini was saved and received the ID: lmp_mini\n",
      "The job elastic was saved and received the ID: elastic\n"
     ]
    },
    {
     "name": "stderr",
     "output_type": "stream",
     "text": [
      "/Users/janssen/PycharmProjects/pyiron_atomistics/pyiron_atomistics/lammps/interactive.py:491: UserWarning: Warning: setting upper trangular matrix might slow down the calculation\n",
      "  warnings.warn(\n",
      "/Users/janssen/PycharmProjects/pyiron_atomistics/pyiron_atomistics/lammps/interactive.py:121: UserWarning: Warning: setting upper trangular matrix might slow down the calculation\n",
      "  warnings.warn(\n"
     ]
    },
    {
     "name": "stdout",
     "output_type": "stream",
     "text": [
      "The job elastic_lmp_elastic was saved and received the ID: elastic_lmp_elastic\n"
     ]
    },
    {
     "name": "stderr",
     "output_type": "stream",
     "text": [
      "/Users/janssen/PycharmProjects/pyiron_atomistics/pyiron_atomistics/lammps/interactive.py:491: UserWarning: Warning: setting upper trangular matrix might slow down the calculation\n",
      "  warnings.warn(\n",
      " 40%|█████████████████▌                          | 4/10 [00:10<00:17,  2.87s/it]"
     ]
    },
    {
     "name": "stdout",
     "output_type": "stream",
     "text": [
      "The job sqs was saved and received the ID: sqs\n",
      "The job lmp_mini was saved and received the ID: lmp_mini\n"
     ]
    },
    {
     "name": "stderr",
     "output_type": "stream",
     "text": [
      "/Users/janssen/PycharmProjects/pyiron_atomistics/pyiron_atomistics/lammps/interactive.py:491: UserWarning: Warning: setting upper trangular matrix might slow down the calculation\n",
      "  warnings.warn(\n",
      "/Users/janssen/PycharmProjects/pyiron_atomistics/pyiron_atomistics/lammps/interactive.py:121: UserWarning: Warning: setting upper trangular matrix might slow down the calculation\n",
      "  warnings.warn(\n"
     ]
    },
    {
     "name": "stdout",
     "output_type": "stream",
     "text": [
      "The job elastic was saved and received the ID: elastic\n",
      "The job elastic_lmp_elastic was saved and received the ID: elastic_lmp_elastic\n"
     ]
    },
    {
     "name": "stderr",
     "output_type": "stream",
     "text": [
      "/Users/janssen/PycharmProjects/pyiron_atomistics/pyiron_atomistics/lammps/interactive.py:491: UserWarning: Warning: setting upper trangular matrix might slow down the calculation\n",
      "  warnings.warn(\n",
      " 50%|██████████████████████                      | 5/10 [00:15<00:16,  3.38s/it]"
     ]
    },
    {
     "name": "stdout",
     "output_type": "stream",
     "text": [
      "The job sqs was saved and received the ID: sqs\n",
      "The job lmp_mini was saved and received the ID: lmp_mini\n"
     ]
    },
    {
     "name": "stderr",
     "output_type": "stream",
     "text": [
      "/Users/janssen/PycharmProjects/pyiron_atomistics/pyiron_atomistics/lammps/interactive.py:491: UserWarning: Warning: setting upper trangular matrix might slow down the calculation\n",
      "  warnings.warn(\n",
      "/Users/janssen/PycharmProjects/pyiron_atomistics/pyiron_atomistics/lammps/interactive.py:121: UserWarning: Warning: setting upper trangular matrix might slow down the calculation\n",
      "  warnings.warn(\n"
     ]
    },
    {
     "name": "stdout",
     "output_type": "stream",
     "text": [
      "The job elastic was saved and received the ID: elastic\n",
      "The job elastic_lmp_elastic was saved and received the ID: elastic_lmp_elastic\n"
     ]
    },
    {
     "name": "stderr",
     "output_type": "stream",
     "text": [
      "/Users/janssen/PycharmProjects/pyiron_atomistics/pyiron_atomistics/lammps/interactive.py:491: UserWarning: Warning: setting upper trangular matrix might slow down the calculation\n",
      "  warnings.warn(\n",
      " 60%|██████████████████████████▍                 | 6/10 [00:18<00:13,  3.45s/it]"
     ]
    },
    {
     "name": "stdout",
     "output_type": "stream",
     "text": [
      "The job sqs was saved and received the ID: sqs\n",
      "The job lmp_mini was saved and received the ID: lmp_mini\n"
     ]
    },
    {
     "name": "stderr",
     "output_type": "stream",
     "text": [
      "/Users/janssen/PycharmProjects/pyiron_atomistics/pyiron_atomistics/lammps/interactive.py:491: UserWarning: Warning: setting upper trangular matrix might slow down the calculation\n",
      "  warnings.warn(\n",
      "/Users/janssen/PycharmProjects/pyiron_atomistics/pyiron_atomistics/lammps/interactive.py:121: UserWarning: Warning: setting upper trangular matrix might slow down the calculation\n",
      "  warnings.warn(\n"
     ]
    },
    {
     "name": "stdout",
     "output_type": "stream",
     "text": [
      "The job elastic was saved and received the ID: elastic\n",
      "The job elastic_lmp_elastic was saved and received the ID: elastic_lmp_elastic\n"
     ]
    },
    {
     "name": "stderr",
     "output_type": "stream",
     "text": [
      "/Users/janssen/PycharmProjects/pyiron_atomistics/pyiron_atomistics/lammps/interactive.py:491: UserWarning: Warning: setting upper trangular matrix might slow down the calculation\n",
      "  warnings.warn(\n",
      " 70%|██████████████████████████████▊             | 7/10 [00:23<00:11,  3.88s/it]"
     ]
    },
    {
     "name": "stdout",
     "output_type": "stream",
     "text": [
      "The job sqs was saved and received the ID: sqs\n",
      "The job lmp_mini was saved and received the ID: lmp_mini\n",
      "The job elastic was saved and received the ID: elastic\n"
     ]
    },
    {
     "name": "stderr",
     "output_type": "stream",
     "text": [
      "/Users/janssen/PycharmProjects/pyiron_atomistics/pyiron_atomistics/lammps/interactive.py:491: UserWarning: Warning: setting upper trangular matrix might slow down the calculation\n",
      "  warnings.warn(\n",
      "/Users/janssen/PycharmProjects/pyiron_atomistics/pyiron_atomistics/lammps/interactive.py:121: UserWarning: Warning: setting upper trangular matrix might slow down the calculation\n",
      "  warnings.warn(\n"
     ]
    },
    {
     "name": "stdout",
     "output_type": "stream",
     "text": [
      "The job elastic_lmp_elastic was saved and received the ID: elastic_lmp_elastic\n"
     ]
    },
    {
     "name": "stderr",
     "output_type": "stream",
     "text": [
      "/Users/janssen/PycharmProjects/pyiron_atomistics/pyiron_atomistics/lammps/interactive.py:491: UserWarning: Warning: setting upper trangular matrix might slow down the calculation\n",
      "  warnings.warn(\n",
      " 80%|███████████████████████████████████▏        | 8/10 [00:28<00:08,  4.16s/it]"
     ]
    },
    {
     "name": "stdout",
     "output_type": "stream",
     "text": [
      "The job sqs was saved and received the ID: sqs\n",
      "The job lmp_mini was saved and received the ID: lmp_mini\n"
     ]
    },
    {
     "name": "stderr",
     "output_type": "stream",
     "text": [
      "/Users/janssen/PycharmProjects/pyiron_atomistics/pyiron_atomistics/lammps/interactive.py:491: UserWarning: Warning: setting upper trangular matrix might slow down the calculation\n",
      "  warnings.warn(\n",
      "/Users/janssen/PycharmProjects/pyiron_atomistics/pyiron_atomistics/lammps/interactive.py:121: UserWarning: Warning: setting upper trangular matrix might slow down the calculation\n",
      "  warnings.warn(\n"
     ]
    },
    {
     "name": "stdout",
     "output_type": "stream",
     "text": [
      "The job elastic was saved and received the ID: elastic\n",
      "The job elastic_lmp_elastic was saved and received the ID: elastic_lmp_elastic\n"
     ]
    },
    {
     "name": "stderr",
     "output_type": "stream",
     "text": [
      "/Users/janssen/PycharmProjects/pyiron_atomistics/pyiron_atomistics/lammps/interactive.py:491: UserWarning: Warning: setting upper trangular matrix might slow down the calculation\n",
      "  warnings.warn(\n",
      " 90%|███████████████████████████████████████▌    | 9/10 [00:33<00:04,  4.37s/it]"
     ]
    },
    {
     "name": "stdout",
     "output_type": "stream",
     "text": [
      "The job sqs was saved and received the ID: sqs\n",
      "The job lmp_mini was saved and received the ID: lmp_mini\n"
     ]
    },
    {
     "name": "stderr",
     "output_type": "stream",
     "text": [
      "/Users/janssen/PycharmProjects/pyiron_atomistics/pyiron_atomistics/lammps/interactive.py:491: UserWarning: Warning: setting upper trangular matrix might slow down the calculation\n",
      "  warnings.warn(\n",
      "/Users/janssen/PycharmProjects/pyiron_atomistics/pyiron_atomistics/lammps/interactive.py:121: UserWarning: Warning: setting upper trangular matrix might slow down the calculation\n",
      "  warnings.warn(\n"
     ]
    },
    {
     "name": "stdout",
     "output_type": "stream",
     "text": [
      "The job elastic was saved and received the ID: elastic\n",
      "The job elastic_lmp_elastic was saved and received the ID: elastic_lmp_elastic\n"
     ]
    },
    {
     "name": "stderr",
     "output_type": "stream",
     "text": [
      "/Users/janssen/PycharmProjects/pyiron_atomistics/pyiron_atomistics/lammps/interactive.py:491: UserWarning: Warning: setting upper trangular matrix might slow down the calculation\n",
      "  warnings.warn(\n",
      "100%|███████████████████████████████████████████| 10/10 [00:37<00:00,  3.78s/it]\n"
     ]
    }
   ],
   "source": [
    "for conc_lst in tqdm(lst_32):\n",
    "    c11, c12, c13, c14, c15, c16, c22, c23, c24, c25, c26, c33, c34, c35, c36, c44, c45, c46, c55, c56, c66, conc_Fe, conc_Ni, conc_Cr, conc_Co, conc_Cu = get_elastic_constants(\n",
    "        conc_lst=conc_lst, \n",
    "        number_atoms=number_atoms, \n",
    "        element_lst=element_lst, \n",
    "        potential=potential, \n",
    "        structure=structure\n",
    "    )\n",
    "    \n",
    "    c11_lst.append(c11)\n",
    "    c12_lst.append(c12)\n",
    "    c13_lst.append(c13) \n",
    "    c14_lst.append(c14)\n",
    "    c15_lst.append(c15)\n",
    "    c16_lst.append(c16)\n",
    "    c22_lst.append(c22) \n",
    "    c23_lst.append(c23) \n",
    "    c24_lst.append(c24) \n",
    "    c25_lst.append(c25) \n",
    "    c26_lst.append(c26) \n",
    "    c33_lst.append(c33) \n",
    "    c34_lst.append(c34)\n",
    "    c35_lst.append(c35)\n",
    "    c36_lst.append(c36)\n",
    "    c44_lst.append(c44)\n",
    "    c45_lst.append(c45)\n",
    "    c46_lst.append(c46)\n",
    "    c55_lst.append(c55)\n",
    "    c56_lst.append(c56)\n",
    "    c66_lst.append(c66)\n",
    "    \n",
    "    conc_Fe_lst.append(conc_Fe)\n",
    "    conc_Ni_lst.append(conc_Ni)\n",
    "    conc_Cr_lst.append(conc_Cr)\n",
    "    conc_Co_lst.append(conc_Co)\n",
    "    conc_Cu_lst.append(conc_Cu)"
   ]
  },
  {
   "cell_type": "code",
   "execution_count": 19,
   "metadata": {},
   "outputs": [],
   "source": [
    "df = pandas.DataFrame({\n",
    "    \"conc_Fe\": conc_Fe_lst, \n",
    "    \"conc_Ni\": conc_Ni_lst, \n",
    "    \"conc_Cr\": conc_Cr_lst, \n",
    "    \"conc_Co\": conc_Co_lst, \n",
    "    \"conc_Cu\": conc_Cu_lst,\n",
    "    \"C11\": c11_lst, \n",
    "    \"C12\": c12_lst, \n",
    "    \"C13\": c13_lst,\n",
    "    \"C14\": c14_lst, \n",
    "    \"C15\": c15_lst, \n",
    "    \"C16\": c16_lst, \n",
    "    \"C22\": c22_lst, \n",
    "    \"C23\": c23_lst, \n",
    "    \"C24\": c24_lst, \n",
    "    \"C25\": c25_lst, \n",
    "    \"C26\": c26_lst, \n",
    "    \"C33\": c33_lst, \n",
    "    \"C34\": c34_lst, \n",
    "    \"C35\": c35_lst, \n",
    "    \"C36\": c36_lst, \n",
    "    \"C44\": c44_lst, \n",
    "    \"C45\": c45_lst, \n",
    "    \"C46\": c46_lst, \n",
    "    \"C55\": c55_lst, \n",
    "    \"C56\": c56_lst, \n",
    "    \"C66\": c66_lst\n",
    "})"
   ]
  },
  {
   "cell_type": "code",
   "execution_count": 20,
   "metadata": {},
   "outputs": [
    {
     "data": {
      "text/html": [
       "<div>\n",
       "<style scoped>\n",
       "    .dataframe tbody tr th:only-of-type {\n",
       "        vertical-align: middle;\n",
       "    }\n",
       "\n",
       "    .dataframe tbody tr th {\n",
       "        vertical-align: top;\n",
       "    }\n",
       "\n",
       "    .dataframe thead th {\n",
       "        text-align: right;\n",
       "    }\n",
       "</style>\n",
       "<table border=\"1\" class=\"dataframe\">\n",
       "  <thead>\n",
       "    <tr style=\"text-align: right;\">\n",
       "      <th></th>\n",
       "      <th>conc_Fe</th>\n",
       "      <th>conc_Ni</th>\n",
       "      <th>conc_Cr</th>\n",
       "      <th>conc_Co</th>\n",
       "      <th>conc_Cu</th>\n",
       "      <th>C11</th>\n",
       "      <th>C12</th>\n",
       "      <th>C13</th>\n",
       "      <th>C14</th>\n",
       "      <th>C15</th>\n",
       "      <th>...</th>\n",
       "      <th>C33</th>\n",
       "      <th>C34</th>\n",
       "      <th>C35</th>\n",
       "      <th>C36</th>\n",
       "      <th>C44</th>\n",
       "      <th>C45</th>\n",
       "      <th>C46</th>\n",
       "      <th>C55</th>\n",
       "      <th>C56</th>\n",
       "      <th>C66</th>\n",
       "    </tr>\n",
       "  </thead>\n",
       "  <tbody>\n",
       "    <tr>\n",
       "      <th>0</th>\n",
       "      <td>0.0</td>\n",
       "      <td>0.0</td>\n",
       "      <td>0.0</td>\n",
       "      <td>0.00000</td>\n",
       "      <td>1.00000</td>\n",
       "      <td>171.550807</td>\n",
       "      <td>116.387656</td>\n",
       "      <td>116.387656</td>\n",
       "      <td>0.000000</td>\n",
       "      <td>0.000000</td>\n",
       "      <td>...</td>\n",
       "      <td>171.550807</td>\n",
       "      <td>0.000000</td>\n",
       "      <td>0.000000</td>\n",
       "      <td>0.000000</td>\n",
       "      <td>76.350076</td>\n",
       "      <td>0.000000</td>\n",
       "      <td>0.000000</td>\n",
       "      <td>76.350076</td>\n",
       "      <td>0.000000</td>\n",
       "      <td>76.350076</td>\n",
       "    </tr>\n",
       "    <tr>\n",
       "      <th>1</th>\n",
       "      <td>0.0</td>\n",
       "      <td>0.0</td>\n",
       "      <td>0.0</td>\n",
       "      <td>0.96875</td>\n",
       "      <td>0.03125</td>\n",
       "      <td>168.206377</td>\n",
       "      <td>117.342596</td>\n",
       "      <td>117.342596</td>\n",
       "      <td>0.000000</td>\n",
       "      <td>0.000000</td>\n",
       "      <td>...</td>\n",
       "      <td>168.206377</td>\n",
       "      <td>0.000000</td>\n",
       "      <td>0.000000</td>\n",
       "      <td>0.000000</td>\n",
       "      <td>78.135186</td>\n",
       "      <td>0.000000</td>\n",
       "      <td>0.000000</td>\n",
       "      <td>78.135186</td>\n",
       "      <td>0.000000</td>\n",
       "      <td>78.135186</td>\n",
       "    </tr>\n",
       "    <tr>\n",
       "      <th>2</th>\n",
       "      <td>0.0</td>\n",
       "      <td>0.0</td>\n",
       "      <td>0.0</td>\n",
       "      <td>0.93750</td>\n",
       "      <td>0.06250</td>\n",
       "      <td>166.234934</td>\n",
       "      <td>118.955277</td>\n",
       "      <td>118.955277</td>\n",
       "      <td>0.000000</td>\n",
       "      <td>0.000000</td>\n",
       "      <td>...</td>\n",
       "      <td>170.331774</td>\n",
       "      <td>0.000000</td>\n",
       "      <td>0.000000</td>\n",
       "      <td>0.000000</td>\n",
       "      <td>79.999227</td>\n",
       "      <td>0.000000</td>\n",
       "      <td>0.000000</td>\n",
       "      <td>79.969331</td>\n",
       "      <td>0.000000</td>\n",
       "      <td>79.969330</td>\n",
       "    </tr>\n",
       "    <tr>\n",
       "      <th>3</th>\n",
       "      <td>0.0</td>\n",
       "      <td>0.0</td>\n",
       "      <td>0.0</td>\n",
       "      <td>0.90625</td>\n",
       "      <td>0.09375</td>\n",
       "      <td>169.830494</td>\n",
       "      <td>120.111975</td>\n",
       "      <td>120.096717</td>\n",
       "      <td>0.000000</td>\n",
       "      <td>0.000000</td>\n",
       "      <td>...</td>\n",
       "      <td>172.345130</td>\n",
       "      <td>0.000000</td>\n",
       "      <td>0.000000</td>\n",
       "      <td>0.143809</td>\n",
       "      <td>81.911329</td>\n",
       "      <td>0.020541</td>\n",
       "      <td>0.000000</td>\n",
       "      <td>81.911328</td>\n",
       "      <td>0.000000</td>\n",
       "      <td>81.880256</td>\n",
       "    </tr>\n",
       "    <tr>\n",
       "      <th>4</th>\n",
       "      <td>0.0</td>\n",
       "      <td>0.0</td>\n",
       "      <td>0.0</td>\n",
       "      <td>0.87500</td>\n",
       "      <td>0.12500</td>\n",
       "      <td>174.056252</td>\n",
       "      <td>122.159376</td>\n",
       "      <td>121.950598</td>\n",
       "      <td>-0.041975</td>\n",
       "      <td>0.063666</td>\n",
       "      <td>...</td>\n",
       "      <td>175.446023</td>\n",
       "      <td>0.066813</td>\n",
       "      <td>0.069999</td>\n",
       "      <td>0.031596</td>\n",
       "      <td>83.997544</td>\n",
       "      <td>-0.026272</td>\n",
       "      <td>0.062038</td>\n",
       "      <td>83.784203</td>\n",
       "      <td>-0.003053</td>\n",
       "      <td>83.893679</td>\n",
       "    </tr>\n",
       "    <tr>\n",
       "      <th>5</th>\n",
       "      <td>0.0</td>\n",
       "      <td>0.0</td>\n",
       "      <td>0.0</td>\n",
       "      <td>0.84375</td>\n",
       "      <td>0.15625</td>\n",
       "      <td>173.195113</td>\n",
       "      <td>119.169463</td>\n",
       "      <td>119.283620</td>\n",
       "      <td>0.000000</td>\n",
       "      <td>0.000000</td>\n",
       "      <td>...</td>\n",
       "      <td>173.498799</td>\n",
       "      <td>0.000000</td>\n",
       "      <td>0.000000</td>\n",
       "      <td>0.196381</td>\n",
       "      <td>86.033710</td>\n",
       "      <td>-0.000852</td>\n",
       "      <td>0.000000</td>\n",
       "      <td>85.816518</td>\n",
       "      <td>0.000000</td>\n",
       "      <td>85.782744</td>\n",
       "    </tr>\n",
       "    <tr>\n",
       "      <th>6</th>\n",
       "      <td>0.0</td>\n",
       "      <td>0.0</td>\n",
       "      <td>0.0</td>\n",
       "      <td>0.81250</td>\n",
       "      <td>0.18750</td>\n",
       "      <td>173.773891</td>\n",
       "      <td>118.746816</td>\n",
       "      <td>118.670301</td>\n",
       "      <td>-0.116886</td>\n",
       "      <td>0.143338</td>\n",
       "      <td>...</td>\n",
       "      <td>176.919928</td>\n",
       "      <td>0.018437</td>\n",
       "      <td>0.141167</td>\n",
       "      <td>0.097407</td>\n",
       "      <td>87.694192</td>\n",
       "      <td>0.033029</td>\n",
       "      <td>-0.013658</td>\n",
       "      <td>87.852351</td>\n",
       "      <td>0.034397</td>\n",
       "      <td>87.941296</td>\n",
       "    </tr>\n",
       "    <tr>\n",
       "      <th>7</th>\n",
       "      <td>0.0</td>\n",
       "      <td>0.0</td>\n",
       "      <td>0.0</td>\n",
       "      <td>0.21875</td>\n",
       "      <td>0.78125</td>\n",
       "      <td>179.926530</td>\n",
       "      <td>121.664557</td>\n",
       "      <td>120.893544</td>\n",
       "      <td>-0.027509</td>\n",
       "      <td>0.080308</td>\n",
       "      <td>...</td>\n",
       "      <td>180.484478</td>\n",
       "      <td>0.016485</td>\n",
       "      <td>0.102654</td>\n",
       "      <td>0.064639</td>\n",
       "      <td>90.210761</td>\n",
       "      <td>0.038960</td>\n",
       "      <td>-0.121167</td>\n",
       "      <td>89.268558</td>\n",
       "      <td>-0.012724</td>\n",
       "      <td>90.131909</td>\n",
       "    </tr>\n",
       "    <tr>\n",
       "      <th>8</th>\n",
       "      <td>0.0</td>\n",
       "      <td>0.0</td>\n",
       "      <td>0.0</td>\n",
       "      <td>0.75000</td>\n",
       "      <td>0.25000</td>\n",
       "      <td>185.043314</td>\n",
       "      <td>122.506874</td>\n",
       "      <td>122.279133</td>\n",
       "      <td>-0.043876</td>\n",
       "      <td>-0.149721</td>\n",
       "      <td>...</td>\n",
       "      <td>184.883812</td>\n",
       "      <td>-0.003535</td>\n",
       "      <td>-0.158749</td>\n",
       "      <td>0.039594</td>\n",
       "      <td>91.908759</td>\n",
       "      <td>0.041296</td>\n",
       "      <td>-0.019674</td>\n",
       "      <td>92.082864</td>\n",
       "      <td>-0.037516</td>\n",
       "      <td>92.149537</td>\n",
       "    </tr>\n",
       "    <tr>\n",
       "      <th>9</th>\n",
       "      <td>0.0</td>\n",
       "      <td>0.0</td>\n",
       "      <td>0.0</td>\n",
       "      <td>0.71875</td>\n",
       "      <td>0.28125</td>\n",
       "      <td>182.848441</td>\n",
       "      <td>118.166108</td>\n",
       "      <td>117.771095</td>\n",
       "      <td>-0.107932</td>\n",
       "      <td>0.013757</td>\n",
       "      <td>...</td>\n",
       "      <td>181.534600</td>\n",
       "      <td>-0.259874</td>\n",
       "      <td>0.015717</td>\n",
       "      <td>-0.056969</td>\n",
       "      <td>94.268240</td>\n",
       "      <td>-0.031112</td>\n",
       "      <td>0.049143</td>\n",
       "      <td>94.224925</td>\n",
       "      <td>0.088150</td>\n",
       "      <td>94.406855</td>\n",
       "    </tr>\n",
       "  </tbody>\n",
       "</table>\n",
       "<p>10 rows × 26 columns</p>\n",
       "</div>"
      ],
      "text/plain": [
       "   conc_Fe  conc_Ni  conc_Cr  conc_Co  conc_Cu         C11         C12  \\\n",
       "0      0.0      0.0      0.0  0.00000  1.00000  171.550807  116.387656   \n",
       "1      0.0      0.0      0.0  0.96875  0.03125  168.206377  117.342596   \n",
       "2      0.0      0.0      0.0  0.93750  0.06250  166.234934  118.955277   \n",
       "3      0.0      0.0      0.0  0.90625  0.09375  169.830494  120.111975   \n",
       "4      0.0      0.0      0.0  0.87500  0.12500  174.056252  122.159376   \n",
       "5      0.0      0.0      0.0  0.84375  0.15625  173.195113  119.169463   \n",
       "6      0.0      0.0      0.0  0.81250  0.18750  173.773891  118.746816   \n",
       "7      0.0      0.0      0.0  0.21875  0.78125  179.926530  121.664557   \n",
       "8      0.0      0.0      0.0  0.75000  0.25000  185.043314  122.506874   \n",
       "9      0.0      0.0      0.0  0.71875  0.28125  182.848441  118.166108   \n",
       "\n",
       "          C13       C14       C15  ...         C33       C34       C35  \\\n",
       "0  116.387656  0.000000  0.000000  ...  171.550807  0.000000  0.000000   \n",
       "1  117.342596  0.000000  0.000000  ...  168.206377  0.000000  0.000000   \n",
       "2  118.955277  0.000000  0.000000  ...  170.331774  0.000000  0.000000   \n",
       "3  120.096717  0.000000  0.000000  ...  172.345130  0.000000  0.000000   \n",
       "4  121.950598 -0.041975  0.063666  ...  175.446023  0.066813  0.069999   \n",
       "5  119.283620  0.000000  0.000000  ...  173.498799  0.000000  0.000000   \n",
       "6  118.670301 -0.116886  0.143338  ...  176.919928  0.018437  0.141167   \n",
       "7  120.893544 -0.027509  0.080308  ...  180.484478  0.016485  0.102654   \n",
       "8  122.279133 -0.043876 -0.149721  ...  184.883812 -0.003535 -0.158749   \n",
       "9  117.771095 -0.107932  0.013757  ...  181.534600 -0.259874  0.015717   \n",
       "\n",
       "        C36        C44       C45       C46        C55       C56        C66  \n",
       "0  0.000000  76.350076  0.000000  0.000000  76.350076  0.000000  76.350076  \n",
       "1  0.000000  78.135186  0.000000  0.000000  78.135186  0.000000  78.135186  \n",
       "2  0.000000  79.999227  0.000000  0.000000  79.969331  0.000000  79.969330  \n",
       "3  0.143809  81.911329  0.020541  0.000000  81.911328  0.000000  81.880256  \n",
       "4  0.031596  83.997544 -0.026272  0.062038  83.784203 -0.003053  83.893679  \n",
       "5  0.196381  86.033710 -0.000852  0.000000  85.816518  0.000000  85.782744  \n",
       "6  0.097407  87.694192  0.033029 -0.013658  87.852351  0.034397  87.941296  \n",
       "7  0.064639  90.210761  0.038960 -0.121167  89.268558 -0.012724  90.131909  \n",
       "8  0.039594  91.908759  0.041296 -0.019674  92.082864 -0.037516  92.149537  \n",
       "9 -0.056969  94.268240 -0.031112  0.049143  94.224925  0.088150  94.406855  \n",
       "\n",
       "[10 rows x 26 columns]"
      ]
     },
     "execution_count": 20,
     "metadata": {},
     "output_type": "execute_result"
    }
   ],
   "source": [
    "df"
   ]
  },
  {
   "cell_type": "code",
   "execution_count": null,
   "metadata": {},
   "outputs": [],
   "source": []
  }
 ],
 "metadata": {
  "kernelspec": {
   "display_name": "Python 3 (ipykernel)",
   "language": "python",
   "name": "python3"
  },
  "language_info": {
   "codemirror_mode": {
    "name": "ipython",
    "version": 3
   },
   "file_extension": ".py",
   "mimetype": "text/x-python",
   "name": "python",
   "nbconvert_exporter": "python",
   "pygments_lexer": "ipython3",
   "version": "3.10.8"
  }
 },
 "nbformat": 4,
 "nbformat_minor": 4
}
