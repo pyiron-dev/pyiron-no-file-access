{
 "cells": [
  {
   "cell_type": "code",
   "execution_count": 1,
   "metadata": {},
   "outputs": [],
   "source": [
    "import os"
   ]
  },
  {
   "cell_type": "code",
   "execution_count": 2,
   "metadata": {},
   "outputs": [],
   "source": [
    "import importlib"
   ]
  },
  {
   "cell_type": "code",
   "execution_count": 3,
   "metadata": {},
   "outputs": [
    {
     "data": {
      "application/vnd.jupyter.widget-view+json": {
       "model_id": "a9b2dd6a7bae408ca832901dcf20f25a",
       "version_major": 2,
       "version_minor": 0
      },
      "text/plain": []
     },
     "metadata": {},
     "output_type": "display_data"
    }
   ],
   "source": [
    "import pyiron_gpl"
   ]
  },
  {
   "cell_type": "code",
   "execution_count": 4,
   "metadata": {},
   "outputs": [],
   "source": [
    "import numpy as np"
   ]
  },
  {
   "cell_type": "code",
   "execution_count": 5,
   "metadata": {},
   "outputs": [],
   "source": [
    "from tqdm import tqdm"
   ]
  },
  {
   "cell_type": "code",
   "execution_count": 6,
   "metadata": {},
   "outputs": [],
   "source": [
    "from pyiron_base import state, GenericMaster"
   ]
  },
  {
   "cell_type": "code",
   "execution_count": 7,
   "metadata": {},
   "outputs": [],
   "source": [
    "from pyiron_atomistics import Project"
   ]
  },
  {
   "cell_type": "code",
   "execution_count": 8,
   "metadata": {},
   "outputs": [],
   "source": [
    "def body_order(n=32, b=5):\n",
    "    if b == 2:\n",
    "        return [[i ,n-i] for i in range(n+1)]\n",
    "    else:\n",
    "        lst = []\n",
    "        for i in range(n+1):\n",
    "            for j in body_order(n=n-i, b=b-1):\n",
    "                lst.append([i] + j)\n",
    "        return lst"
   ]
  },
  {
   "cell_type": "code",
   "execution_count": 9,
   "metadata": {},
   "outputs": [
    {
     "data": {
      "text/plain": [
       "{'user': 'pyiron',\n",
       " 'resource_paths': ['/Users/jan/pyiron/resources',\n",
       "  '/Users/jan/miniforge3/share/pyiron'],\n",
       " 'project_paths': ['/Users/jan/PycharmProjects/pyiron_mpie/',\n",
       "  '/Users/jan/pyiron/projects/',\n",
       "  '/Users/jan/PycharmProjects/pyiron_atomistics/',\n",
       "  '/Users/jan/PycharmProjects/pyiron_base/'],\n",
       " 'connection_timeout': 0,\n",
       " 'sql_connection_string': None,\n",
       " 'sql_table_name': 'jobs_pyiron',\n",
       " 'sql_view_connection_string': None,\n",
       " 'sql_view_table_name': None,\n",
       " 'sql_view_user': None,\n",
       " 'sql_view_user_key': None,\n",
       " 'sql_file': '/Users/jan/pyiron/pyiron.db',\n",
       " 'sql_host': None,\n",
       " 'sql_type': 'SQLite',\n",
       " 'sql_user_key': None,\n",
       " 'sql_database': None,\n",
       " 'project_check_enabled': False,\n",
       " 'disable_database': False,\n",
       " 'credentials_file': None,\n",
       " 'write_work_dir_warnings': True,\n",
       " 'config_file_permissions_warning': True}"
      ]
     },
     "execution_count": 9,
     "metadata": {},
     "output_type": "execute_result"
    }
   ],
   "source": [
    "state.settings.configuration"
   ]
  },
  {
   "cell_type": "code",
   "execution_count": 10,
   "metadata": {},
   "outputs": [],
   "source": [
    "project = Project('workflow')"
   ]
  },
  {
   "cell_type": "code",
   "execution_count": 11,
   "metadata": {},
   "outputs": [],
   "source": [
    "project.remove_jobs(recursive=True, silently=True)"
   ]
  },
  {
   "cell_type": "code",
   "execution_count": 12,
   "metadata": {},
   "outputs": [],
   "source": [
    "structure = project.create.structure.ase.bulk(\"Al\", cubic=True).repeat([2,2,2])"
   ]
  },
  {
   "cell_type": "code",
   "execution_count": 13,
   "metadata": {},
   "outputs": [],
   "source": [
    "element_lst = [\"Fe\", \"Ni\", \"Cr\", \"Co\", \"Cu\"]"
   ]
  },
  {
   "cell_type": "code",
   "execution_count": 14,
   "metadata": {},
   "outputs": [],
   "source": [
    "number_atoms = len(structure)"
   ]
  },
  {
   "cell_type": "code",
   "execution_count": 15,
   "metadata": {},
   "outputs": [],
   "source": [
    "number_species = len(element_lst)"
   ]
  },
  {
   "cell_type": "code",
   "execution_count": 16,
   "metadata": {},
   "outputs": [],
   "source": [
    "cores = 1"
   ]
  },
  {
   "cell_type": "code",
   "execution_count": 17,
   "metadata": {},
   "outputs": [],
   "source": [
    "potential = '2021--Deluigi-O-R--Fe-Ni-Cr-Co-Cu--LAMMPS--ipr1'"
   ]
  },
  {
   "cell_type": "code",
   "execution_count": 18,
   "metadata": {},
   "outputs": [],
   "source": [
    "lst_32 = body_order(n=number_atoms, b=number_species)[:10]"
   ]
  },
  {
   "cell_type": "code",
   "execution_count": 19,
   "metadata": {},
   "outputs": [],
   "source": [
    "structure_collect_lst, elastic_collect_lst = [], []"
   ]
  },
  {
   "cell_type": "code",
   "execution_count": 20,
   "metadata": {},
   "outputs": [
    {
     "name": "stderr",
     "output_type": "stream",
     "text": [
      "\r",
      "  0%|                                                    | 0/10 [00:00<?, ?it/s]"
     ]
    },
    {
     "name": "stdout",
     "output_type": "stream",
     "text": [
      "The job lmp_mini_0 was saved and received the ID: 47\n",
      "The job elastic_0 was saved and received the ID: 48\n",
      "The job elastic_0_lmp_elastic_0 was saved and received the ID: 49\n"
     ]
    },
    {
     "name": "stderr",
     "output_type": "stream",
     "text": [
      "/Users/jan/PycharmProjects/pyiron_atomistics/pyiron_atomistics/lammps/interactive.py:491: UserWarning: Warning: setting upper trangular matrix might slow down the calculation\n",
      "  warnings.warn(\n",
      " 10%|████▍                                       | 1/10 [00:06<00:58,  6.52s/it]"
     ]
    },
    {
     "data": {
      "text/html": [
       "<pre style=\"white-space:pre;overflow-x:auto;line-height:normal;font-family:Menlo,'DejaVu Sans Mono',consolas,'Courier New',monospace\"></pre>\n"
      ],
      "text/plain": []
     },
     "metadata": {},
     "output_type": "display_data"
    },
    {
     "data": {
      "text/html": [
       "<pre style=\"white-space:pre;overflow-x:auto;line-height:normal;font-family:Menlo,'DejaVu Sans Mono',consolas,'Courier New',monospace\"></pre>\n"
      ],
      "text/plain": []
     },
     "metadata": {},
     "output_type": "display_data"
    },
    {
     "name": "stdout",
     "output_type": "stream",
     "text": [
      "The job sqs_1 was saved and received the ID: 50\n",
      "The job lmp_mini_1 was saved and received the ID: 51\n",
      "The job elastic_1 was saved and received the ID: 52\n",
      "The job elastic_1_lmp_elastic_1 was saved and received the ID: 53\n"
     ]
    },
    {
     "name": "stderr",
     "output_type": "stream",
     "text": [
      "/Users/jan/PycharmProjects/pyiron_atomistics/pyiron_atomistics/lammps/interactive.py:491: UserWarning: Warning: setting upper trangular matrix might slow down the calculation\n",
      "  warnings.warn(\n",
      " 20%|████████▊                                   | 2/10 [00:12<00:51,  6.43s/it]"
     ]
    },
    {
     "name": "stdout",
     "output_type": "stream",
     "text": [
      "The job sqs_2 was saved and received the ID: 54\n",
      "The job lmp_mini_2 was saved and received the ID: 55\n",
      "The job elastic_2 was saved and received the ID: 56\n",
      "The job elastic_2_lmp_elastic_2 was saved and received the ID: 57\n"
     ]
    },
    {
     "name": "stderr",
     "output_type": "stream",
     "text": [
      "/Users/jan/PycharmProjects/pyiron_atomistics/pyiron_atomistics/lammps/interactive.py:491: UserWarning: Warning: setting upper trangular matrix might slow down the calculation\n",
      "  warnings.warn(\n",
      " 30%|█████████████▏                              | 3/10 [00:21<00:50,  7.25s/it]"
     ]
    },
    {
     "name": "stdout",
     "output_type": "stream",
     "text": [
      "The job sqs_3 was saved and received the ID: 58\n",
      "The job lmp_mini_3 was saved and received the ID: 59\n",
      "The job elastic_3 was saved and received the ID: 60\n",
      "The job elastic_3_lmp_elastic_3 was saved and received the ID: 61\n"
     ]
    },
    {
     "name": "stderr",
     "output_type": "stream",
     "text": [
      "/Users/jan/PycharmProjects/pyiron_atomistics/pyiron_atomistics/lammps/interactive.py:491: UserWarning: Warning: setting upper trangular matrix might slow down the calculation\n",
      "  warnings.warn(\n",
      " 40%|█████████████████▌                          | 4/10 [00:31<00:51,  8.66s/it]"
     ]
    },
    {
     "name": "stdout",
     "output_type": "stream",
     "text": [
      "The job sqs_4 was saved and received the ID: 62\n",
      "The job lmp_mini_4 was saved and received the ID: 63\n",
      "The job elastic_4 was saved and received the ID: 64\n",
      "The job elastic_4_lmp_elastic_4 was saved and received the ID: 65\n"
     ]
    },
    {
     "name": "stderr",
     "output_type": "stream",
     "text": [
      "/Users/jan/PycharmProjects/pyiron_atomistics/pyiron_atomistics/lammps/interactive.py:491: UserWarning: Warning: setting upper trangular matrix might slow down the calculation\n",
      "  warnings.warn(\n",
      " 50%|██████████████████████                      | 5/10 [00:40<00:43,  8.79s/it]"
     ]
    },
    {
     "name": "stdout",
     "output_type": "stream",
     "text": [
      "The job sqs_5 was saved and received the ID: 66\n",
      "The job lmp_mini_5 was saved and received the ID: 67\n",
      "The job elastic_5 was saved and received the ID: 68\n",
      "The job elastic_5_lmp_elastic_5 was saved and received the ID: 69\n"
     ]
    },
    {
     "name": "stderr",
     "output_type": "stream",
     "text": [
      "/Users/jan/PycharmProjects/pyiron_atomistics/pyiron_atomistics/lammps/interactive.py:491: UserWarning: Warning: setting upper trangular matrix might slow down the calculation\n",
      "  warnings.warn(\n",
      " 60%|██████████████████████████▍                 | 6/10 [00:51<00:37,  9.36s/it]"
     ]
    },
    {
     "name": "stdout",
     "output_type": "stream",
     "text": [
      "The job sqs_6 was saved and received the ID: 70\n",
      "The job lmp_mini_6 was saved and received the ID: 71\n",
      "The job elastic_6 was saved and received the ID: 72\n",
      "The job elastic_6_lmp_elastic_6 was saved and received the ID: 73\n"
     ]
    },
    {
     "name": "stderr",
     "output_type": "stream",
     "text": [
      "/Users/jan/PycharmProjects/pyiron_atomistics/pyiron_atomistics/lammps/interactive.py:491: UserWarning: Warning: setting upper trangular matrix might slow down the calculation\n",
      "  warnings.warn(\n",
      " 70%|██████████████████████████████▊             | 7/10 [01:00<00:28,  9.42s/it]"
     ]
    },
    {
     "name": "stdout",
     "output_type": "stream",
     "text": [
      "The job sqs_7 was saved and received the ID: 74\n",
      "The job lmp_mini_7 was saved and received the ID: 75\n",
      "The job elastic_7 was saved and received the ID: 76\n",
      "The job elastic_7_lmp_elastic_7 was saved and received the ID: 77\n"
     ]
    },
    {
     "name": "stderr",
     "output_type": "stream",
     "text": [
      "/Users/jan/PycharmProjects/pyiron_atomistics/pyiron_atomistics/lammps/interactive.py:491: UserWarning: Warning: setting upper trangular matrix might slow down the calculation\n",
      "  warnings.warn(\n",
      " 80%|███████████████████████████████████▏        | 8/10 [01:13<00:20, 10.29s/it]"
     ]
    },
    {
     "name": "stdout",
     "output_type": "stream",
     "text": [
      "The job sqs_8 was saved and received the ID: 78\n",
      "The job lmp_mini_8 was saved and received the ID: 79\n",
      "The job elastic_8 was saved and received the ID: 80\n",
      "The job elastic_8_lmp_elastic_8 was saved and received the ID: 81\n"
     ]
    },
    {
     "name": "stderr",
     "output_type": "stream",
     "text": [
      "/Users/jan/PycharmProjects/pyiron_atomistics/pyiron_atomistics/lammps/interactive.py:491: UserWarning: Warning: setting upper trangular matrix might slow down the calculation\n",
      "  warnings.warn(\n",
      " 90%|███████████████████████████████████████▌    | 9/10 [01:21<00:09,  9.64s/it]"
     ]
    },
    {
     "name": "stdout",
     "output_type": "stream",
     "text": [
      "The job sqs_9 was saved and received the ID: 82\n",
      "The job lmp_mini_9 was saved and received the ID: 83\n",
      "The job elastic_9 was saved and received the ID: 84\n",
      "The job elastic_9_lmp_elastic_9 was saved and received the ID: 85\n"
     ]
    },
    {
     "name": "stderr",
     "output_type": "stream",
     "text": [
      "/Users/jan/PycharmProjects/pyiron_atomistics/pyiron_atomistics/lammps/interactive.py:491: UserWarning: Warning: setting upper trangular matrix might slow down the calculation\n",
      "  warnings.warn(\n",
      "100%|███████████████████████████████████████████| 10/10 [01:29<00:00,  8.94s/it]\n"
     ]
    }
   ],
   "source": [
    "for l, conc_lst in enumerate(tqdm(lst_32)):\n",
    "    # Generate structure \n",
    "    if sum(np.array(conc_lst)==0) != 4:\n",
    "        mole_fraction = {\n",
    "            el: conc/number_atoms\n",
    "            for el, conc in zip(element_lst, conc_lst)\n",
    "            if conc > 0\n",
    "        }\n",
    "        job = project.create_job(project.job_type.SQSJob, \"sqs_\" + str(l))\n",
    "        # job._interactive_disable_log_file = True\n",
    "        job.structure = structure\n",
    "        job.input['mole_fractions'] = mole_fraction\n",
    "        job.input['iterations'] = 1e6\n",
    "        job.server.cores = cores\n",
    "        job.run()\n",
    "        structure_next = job._lst_of_struct[-1]\n",
    "    else:\n",
    "        structure_next = structure.copy()\n",
    "        structure_next.symbols[:] = np.array(element_lst)[np.array(conc_lst)!=0][0] \n",
    "    structure_collect_lst.append(structure_next)\n",
    "    \n",
    "    # Minimize strucute \n",
    "    lmp_mini1 = project.create_job(project.job_type.Lammps, \"lmp_mini_\" + str(l), delete_existing_job=True)\n",
    "    lmp_mini1.structure = structure_next\n",
    "    lmp_mini1.potential = potential\n",
    "    lmp_mini1.calc_minimize(pressure=0.0)\n",
    "    # lmp_mini1.server.run_mode.interactive = True\n",
    "    lmp_mini1._interactive_disable_log_file = True  # disable lammps.log \n",
    "    lmp_mini1.run()\n",
    "    lmp_mini1.interactive_close()\n",
    "\n",
    "    # Elastic constants \n",
    "    lmp_elastic = project.create_job(project.job_type.Lammps, \"lmp_elastic_\" + str(l), delete_existing_job=True)\n",
    "    lmp_elastic.structure = lmp_mini1.get_structure()\n",
    "    lmp_elastic.potential = potential\n",
    "    lmp_elastic.interactive_enforce_structure_reset = True \n",
    "    lmp_elastic.server.run_mode.interactive = True\n",
    "    # lmp_elastic._interactive_disable_log_file = True  # disable lammps.log\n",
    "    elastic = lmp_elastic.create_job(project.job_type.ElasticMatrixJob, \"elastic_\" + str(l), delete_existing_job=True)\n",
    "    # elastic._interactive_disable_log_file = True  # disable lammps.log\n",
    "    elastic.run()\n",
    "    \n",
    "    elastic_collect_lst.append(elastic._data[\"C\"])"
   ]
  },
  {
   "cell_type": "code",
   "execution_count": 21,
   "metadata": {},
   "outputs": [
    {
     "data": {
      "text/plain": [
       "[array([[171.550807  , 116.38765601, 116.38765601,   0.        ,\n",
       "           0.        ,   0.        ],\n",
       "        [116.38765601, 171.550807  , 116.38765601,   0.        ,\n",
       "           0.        ,   0.        ],\n",
       "        [116.38765601, 116.38765601, 171.550807  ,   0.        ,\n",
       "           0.        ,   0.        ],\n",
       "        [  0.        ,   0.        ,   0.        ,  76.35007615,\n",
       "           0.        ,   0.        ],\n",
       "        [  0.        ,   0.        ,   0.        ,   0.        ,\n",
       "          76.35007615,   0.        ],\n",
       "        [  0.        ,   0.        ,   0.        ,   0.        ,\n",
       "           0.        ,  76.35007615]]),\n",
       " array([[168.20637662, 117.34259605, 117.34259605,   0.        ,\n",
       "           0.        ,   0.        ],\n",
       "        [117.34259605, 168.20637662, 117.34259605,   0.        ,\n",
       "           0.        ,   0.        ],\n",
       "        [117.34259605, 117.34259605, 168.20637662,   0.        ,\n",
       "           0.        ,   0.        ],\n",
       "        [  0.        ,   0.        ,   0.        ,  78.1351861 ,\n",
       "           0.        ,   0.        ],\n",
       "        [  0.        ,   0.        ,   0.        ,   0.        ,\n",
       "          78.1351861 ,   0.        ],\n",
       "        [  0.        ,   0.        ,   0.        ,   0.        ,\n",
       "           0.        ,  78.1351861 ]]),\n",
       " array([[166.96359512, 118.95527725, 118.96465137,   0.        ,\n",
       "           0.        ,   0.        ],\n",
       "        [118.95527725, 169.60311291, 120.66604015,   0.        ,\n",
       "           0.        ,   0.        ],\n",
       "        [118.96465137, 120.66604015, 170.33177416,   0.        ,\n",
       "           0.        ,   0.        ],\n",
       "        [  0.        ,   0.        ,   0.        ,  79.96933114,\n",
       "           0.        ,   0.        ],\n",
       "        [  0.        ,   0.        ,   0.        ,   0.        ,\n",
       "          79.99922864,   0.        ],\n",
       "        [  0.        ,   0.        ,   0.        ,   0.        ,\n",
       "           0.        ,  79.9693309 ]]),\n",
       " array([[1.70715419e+02, 1.19995795e+02, 1.20099354e+02, 0.00000000e+00,\n",
       "         0.00000000e+00, 4.54773001e-01],\n",
       "        [1.19995795e+02, 1.71454932e+02, 2.84847779e+02, 0.00000000e+00,\n",
       "         0.00000000e+00, 3.36690637e-01],\n",
       "        [1.20099354e+02, 2.84847779e+02, 1.71454932e+02, 0.00000000e+00,\n",
       "         0.00000000e+00, 1.39046768e-01],\n",
       "        [0.00000000e+00, 0.00000000e+00, 0.00000000e+00, 8.18802561e+01,\n",
       "         4.53998873e-02, 0.00000000e+00],\n",
       "        [0.00000000e+00, 0.00000000e+00, 0.00000000e+00, 4.53998873e-02,\n",
       "         8.19113290e+01, 0.00000000e+00],\n",
       "        [4.54773001e-01, 3.36690637e-01, 1.39046768e-01, 0.00000000e+00,\n",
       "         0.00000000e+00, 8.19113316e+01]]),\n",
       " array([[ 1.74056252e+02,  1.22159376e+02,  1.21950598e+02,\n",
       "         -4.19751941e-02,  6.36693996e-02,  5.39668041e-02],\n",
       "        [ 1.22159376e+02,  1.76520281e+02,  1.22084416e+02,\n",
       "          7.23279998e-02, -1.06444804e-01,  5.50743209e-02],\n",
       "        [ 1.21950598e+02,  1.22084416e+02,  1.75446023e+02,\n",
       "          6.68130187e-02,  6.99999395e-02,  3.15954953e-02],\n",
       "        [-4.19751941e-02,  7.23279998e-02,  6.68130187e-02,\n",
       "          8.39975448e+01, -2.62699740e-02,  6.20385909e-02],\n",
       "        [ 6.36693996e-02, -1.06444804e-01,  6.99999395e-02,\n",
       "         -2.62699740e-02,  8.37841996e+01, -3.04911939e-03],\n",
       "        [ 5.39668041e-02,  5.50743209e-02,  3.15954953e-02,\n",
       "          6.20385909e-02, -3.04911939e-03,  8.38936759e+01]]),\n",
       " array([[ 1.73360112e+02,  1.18074645e+02,  1.18632044e+02,\n",
       "         -1.98322304e-03,  3.87674291e-02,  1.17861292e-01],\n",
       "        [ 1.18074645e+02,  1.72441363e+02,  1.18639781e+02,\n",
       "          1.23951504e-01,  1.31625946e-02,  1.19976505e-01],\n",
       "        [ 1.18632044e+02,  1.18639781e+02,  1.74705972e+02,\n",
       "          1.15321389e-01,  2.26168090e-02, -1.24368176e-01],\n",
       "        [-1.98322304e-03,  1.23951504e-01,  1.15321389e-01,\n",
       "          8.59474368e+01,  1.11484188e-01, -1.76189918e-03],\n",
       "        [ 3.87674291e-02,  1.31625946e-02,  2.26168090e-02,\n",
       "          1.11484188e-01,  8.60189694e+01, -1.87375259e-02],\n",
       "        [ 1.17861292e-01,  1.19976505e-01, -1.24368176e-01,\n",
       "         -1.76189918e-03, -1.87375259e-02,  8.55857585e+01]]),\n",
       " array([[ 1.76871781e+02,  1.18985473e+02,  1.18937193e+02,\n",
       "          5.72241668e-03,  2.91998569e-02, -3.81028720e-03],\n",
       "        [ 1.18985473e+02,  1.77002410e+02,  1.18946111e+02,\n",
       "          7.15186684e-02, -6.82538042e-02, -7.86864710e-03],\n",
       "        [ 1.18937193e+02,  1.18946111e+02,  1.74848589e+02,\n",
       "          6.18975227e-02,  2.54962354e-02, -1.58886441e-01],\n",
       "        [ 5.72241668e-03,  7.15186684e-02,  6.18975227e-02,\n",
       "          8.78981142e+01,  8.23902648e-02, -3.56107555e-02],\n",
       "        [ 2.91998569e-02, -6.82538042e-02,  2.54962354e-02,\n",
       "          8.23902648e-02,  8.79373149e+01, -2.78264006e-02],\n",
       "        [-3.81028720e-03, -7.86864710e-03, -1.58886441e-01,\n",
       "         -3.56107555e-02, -2.78264006e-02,  8.75817997e+01]]),\n",
       " array([[ 1.86458695e+02,  1.25761789e+02,  1.25627931e+02,\n",
       "         -3.43617416e-02, -4.25432525e-02, -6.86915840e-03],\n",
       "        [ 1.25761789e+02,  1.85269772e+02,  1.25423354e+02,\n",
       "         -1.11047974e-02, -1.62844296e-01, -5.61650781e-03],\n",
       "        [ 1.25627931e+02,  1.25423354e+02,  1.84058412e+02,\n",
       "         -1.21838110e-02, -4.00253425e-02, -4.76023105e-02],\n",
       "        [-3.43617416e-02, -1.11047974e-02, -1.21838110e-02,\n",
       "          8.99503256e+01, -4.97884052e-03, -2.20312944e-02],\n",
       "        [-4.25432525e-02, -1.62844296e-01, -4.00253425e-02,\n",
       "         -4.97884052e-03,  9.01889314e+01, -2.67573783e-03],\n",
       "        [-6.86915840e-03, -5.61650781e-03, -4.76023105e-02,\n",
       "         -2.20312944e-02, -2.67573783e-03,  8.96123072e+01]]),\n",
       " array([[ 1.78696912e+02,  1.16430490e+02,  1.16396062e+02,\n",
       "         -1.26326123e-01,  1.78612806e-01,  1.78125499e-01],\n",
       "        [ 1.16430490e+02,  1.77667882e+02,  1.15860019e+02,\n",
       "         -1.15325902e-01,  7.57412255e-02,  1.70698944e-01],\n",
       "        [ 1.16396062e+02,  1.15860019e+02,  1.78393569e+02,\n",
       "         -9.75460075e-02,  1.99514741e-01, -9.28255523e-02],\n",
       "        [-1.26326123e-01, -1.15325902e-01, -9.75460075e-02,\n",
       "          9.22669404e+01, -9.80805387e-02, -8.08536173e-02],\n",
       "        [ 1.78612806e-01,  7.57412255e-02,  1.99514741e-01,\n",
       "         -9.80805387e-02,  9.20251787e+01,  6.48385880e-03],\n",
       "        [ 1.78125499e-01,  1.70698944e-01, -9.28255523e-02,\n",
       "         -8.08536173e-02,  6.48385880e-03,  9.21344506e+01]]),\n",
       " array([[ 1.83349199e+02,  1.19465991e+02,  1.19442164e+02,\n",
       "          0.00000000e+00,  0.00000000e+00,  2.53476879e-01],\n",
       "        [ 1.19465991e+02,  1.84036429e+02,  3.08535487e+02,\n",
       "          0.00000000e+00,  0.00000000e+00,  2.78635344e-01],\n",
       "        [ 1.19442164e+02,  3.08535487e+02,  1.84036429e+02,\n",
       "          0.00000000e+00,  0.00000000e+00,  1.33311061e-01],\n",
       "        [ 0.00000000e+00,  0.00000000e+00,  0.00000000e+00,\n",
       "          9.41523585e+01, -3.72276875e-02,  0.00000000e+00],\n",
       "        [ 0.00000000e+00,  0.00000000e+00,  0.00000000e+00,\n",
       "         -3.72276875e-02,  9.43739496e+01,  0.00000000e+00],\n",
       "        [ 2.53476879e-01,  2.78635344e-01,  1.33311061e-01,\n",
       "          0.00000000e+00,  0.00000000e+00,  9.43739535e+01]])]"
      ]
     },
     "execution_count": 21,
     "metadata": {},
     "output_type": "execute_result"
    }
   ],
   "source": [
    "elastic_collect_lst"
   ]
  },
  {
   "cell_type": "code",
   "execution_count": 22,
   "metadata": {},
   "outputs": [
    {
     "data": {
      "text/plain": [
       "[32, 32, 32, 32, 32, 32, 32, 32, 32, 32]"
      ]
     },
     "execution_count": 22,
     "metadata": {},
     "output_type": "execute_result"
    }
   ],
   "source": [
    "[len(struct) for struct in structure_collect_lst]"
   ]
  }
 ],
 "metadata": {
  "kernelspec": {
   "display_name": "Python 3 (ipykernel)",
   "language": "python",
   "name": "python3"
  },
  "language_info": {
   "codemirror_mode": {
    "name": "ipython",
    "version": 3
   },
   "file_extension": ".py",
   "mimetype": "text/x-python",
   "name": "python",
   "nbconvert_exporter": "python",
   "pygments_lexer": "ipython3",
   "version": "3.10.9"
  }
 },
 "nbformat": 4,
 "nbformat_minor": 4
}
