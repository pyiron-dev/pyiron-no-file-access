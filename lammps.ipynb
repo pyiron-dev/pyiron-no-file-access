{
 "cells": [
  {
   "cell_type": "code",
   "execution_count": 1,
   "id": "34704424",
   "metadata": {},
   "outputs": [],
   "source": [
    "import os"
   ]
  },
  {
   "cell_type": "code",
   "execution_count": 2,
   "id": "a39230ae",
   "metadata": {},
   "outputs": [],
   "source": [
    "import importlib"
   ]
  },
  {
   "cell_type": "code",
   "execution_count": 3,
   "id": "b47c64ea",
   "metadata": {},
   "outputs": [],
   "source": [
    "from pyiron_base import state"
   ]
  },
  {
   "cell_type": "code",
   "execution_count": 4,
   "id": "a92ca3b4",
   "metadata": {},
   "outputs": [
    {
     "data": {
      "application/vnd.jupyter.widget-view+json": {
       "model_id": "24b6d6a53ff44938b908e2bc14d0e76a",
       "version_major": 2,
       "version_minor": 0
      },
      "text/plain": []
     },
     "metadata": {},
     "output_type": "display_data"
    }
   ],
   "source": [
    "from pyiron_atomistics import Project"
   ]
  },
  {
   "cell_type": "code",
   "execution_count": 5,
   "id": "fab3666f",
   "metadata": {},
   "outputs": [],
   "source": [
    "from pyiron_atomistics.lammps.interactive import LammpsInteractive"
   ]
  },
  {
   "cell_type": "code",
   "execution_count": 6,
   "id": "48e3c3e1",
   "metadata": {},
   "outputs": [],
   "source": [
    "class LammpsInteractiveWithoutOutput(LammpsInteractive):\n",
    "    def __init__(self, project, job_name):\n",
    "        super(LammpsInteractiveWithoutOutput, self).__init__(project, job_name)\n",
    "        self._interactive_disable_log_file = False\n",
    "    \n",
    "    def to_hdf(self, hdf=None, group_name=None):\n",
    "        \"\"\"\n",
    "\n",
    "        Args:\n",
    "            hdf:\n",
    "            group_name:\n",
    "\n",
    "        Returns:\n",
    "\n",
    "        \"\"\"\n",
    "        if not self._interactive_disable_log_file:\n",
    "            super(LammpsInteractiveWithoutOutput, self).to_hdf(hdf=hdf, group_name=group_name)\n",
    "    \n",
    "    def interactive_flush(self, path=\"interactive\", include_last_step=False):\n",
    "        if not self._interactive_disable_log_file:\n",
    "            super(LammpsInteractiveWithoutOutput, self).interactive_flush(path=path, include_last_step=include_last_step)\n",
    "\n",
    "    def interactive_initialize_interface(self):\n",
    "        if not self._interactive_disable_log_file:\n",
    "            self._create_working_directory()\n",
    "        if self.server.run_mode.interactive and self.server.cores == 1:\n",
    "            lammps = getattr(importlib.import_module(\"lammps\"), \"lammps\")\n",
    "            if self._log_file is None:\n",
    "                self._log_file = os.path.join(self.working_directory, \"log.lammps\")\n",
    "            if not self._interactive_disable_log_file:\n",
    "                self._interactive_library = lammps(\n",
    "                    cmdargs=[\"-screen\", \"none\", \"-log\", self._log_file]\n",
    "                )\n",
    "            else:\n",
    "                self._interactive_library = lammps(\n",
    "                    cmdargs=[\"-screen\", \"none\", \"-log\", \"none\"]\n",
    "                )\n",
    "        else:\n",
    "            self._interactive_library = LammpsLibrary(\n",
    "                cores=self.server.cores, working_directory=self.working_directory\n",
    "            )\n",
    "        if not all(self.structure.pbc):\n",
    "            self.input.control[\"boundary\"] = \" \".join(\n",
    "                [\"p\" if coord else \"f\" for coord in self.structure.pbc]\n",
    "            )\n",
    "        self._reset_interactive_run_command()\n",
    "        self.interactive_structure_setter(self.structure)\n",
    "        \n",
    "    def interactive_close(self):\n",
    "        if not self._interactive_disable_log_file:\n",
    "            super(LammpsInteractiveWithoutOutput).interactive_close()\n",
    "            \n",
    "    def refresh_job_status(self):\n",
    "        if not self._interactive_disable_log_file:\n",
    "            super(LammpsInteractiveWithoutOutput).refresh_job_status()"
   ]
  },
  {
   "cell_type": "code",
   "execution_count": 7,
   "id": "9d678dc6",
   "metadata": {},
   "outputs": [
    {
     "data": {
      "text/plain": [
       "{'user': 'pyiron',\n",
       " 'resource_paths': ['/Users/janssen/pyiron/resources',\n",
       "  '/Users/janssen/mambaforge/share/pyiron'],\n",
       " 'project_paths': [],\n",
       " 'connection_timeout': 60,\n",
       " 'sql_connection_string': None,\n",
       " 'sql_table_name': 'jobs_pyiron',\n",
       " 'sql_view_connection_string': None,\n",
       " 'sql_view_table_name': None,\n",
       " 'sql_view_user': None,\n",
       " 'sql_view_user_key': None,\n",
       " 'sql_file': '/Users/janssen/pyiron.db',\n",
       " 'sql_host': None,\n",
       " 'sql_type': 'SQLite',\n",
       " 'sql_user_key': None,\n",
       " 'sql_database': None,\n",
       " 'project_check_enabled': False,\n",
       " 'disable_database': True,\n",
       " 'credentials_file': None,\n",
       " 'write_work_dir_warnings': True,\n",
       " 'config_file_permissions_warning': True}"
      ]
     },
     "execution_count": 7,
     "metadata": {},
     "output_type": "execute_result"
    }
   ],
   "source": [
    "state.settings.configuration"
   ]
  },
  {
   "cell_type": "code",
   "execution_count": 8,
   "id": "3823609f",
   "metadata": {},
   "outputs": [],
   "source": [
    "project = Project(\"elastic\")"
   ]
  },
  {
   "cell_type": "code",
   "execution_count": 9,
   "id": "72a1bb2a",
   "metadata": {},
   "outputs": [],
   "source": [
    "project.remove_jobs(recursive=True, silently=True)"
   ]
  },
  {
   "cell_type": "code",
   "execution_count": 10,
   "id": "895334aa",
   "metadata": {},
   "outputs": [],
   "source": [
    "potential = '2021--Deluigi-O-R--Fe-Ni-Cr-Co-Cu--LAMMPS--ipr1'"
   ]
  },
  {
   "cell_type": "code",
   "execution_count": 11,
   "id": "8d5786ba",
   "metadata": {},
   "outputs": [
    {
     "data": {
      "text/plain": [
       "Fe: [0. 0. 0.]\n",
       "Fe: [1.435 1.435 1.435]\n",
       "pbc: [ True  True  True]\n",
       "cell: \n",
       "Cell([2.87, 2.87, 2.87])"
      ]
     },
     "execution_count": 11,
     "metadata": {},
     "output_type": "execute_result"
    }
   ],
   "source": [
    "structure = project.create.structure.ase.bulk(\"Fe\", cubic=True)\n",
    "structure"
   ]
  },
  {
   "cell_type": "code",
   "execution_count": 12,
   "id": "9ca328b4",
   "metadata": {},
   "outputs": [
    {
     "name": "stdout",
     "output_type": "stream",
     "text": [
      "The job lmp_mini was saved and received the ID: lmp_mini\n"
     ]
    },
    {
     "name": "stderr",
     "output_type": "stream",
     "text": [
      "/Users/janssen/PycharmProjects/pyiron_atomistics/pyiron_atomistics/lammps/interactive.py:491: UserWarning: Warning: setting upper trangular matrix might slow down the calculation\n",
      "  warnings.warn(\n",
      "/Users/janssen/PycharmProjects/pyiron_atomistics/pyiron_atomistics/lammps/interactive.py:121: UserWarning: Warning: setting upper trangular matrix might slow down the calculation\n",
      "  warnings.warn(\n"
     ]
    }
   ],
   "source": [
    "lmp_mini1 = project.create_job(LammpsInteractiveWithoutOutput, \"lmp_mini\", delete_existing_job=True)\n",
    "lmp_mini1.structure = structure\n",
    "lmp_mini1.potential = potential\n",
    "lmp_mini1.calc_minimize(pressure=0.0)\n",
    "lmp_mini1.server.run_mode.interactive = True\n",
    "lmp_mini1._interactive_disable_log_file = True  # disable lammps.log \n",
    "lmp_mini1.run()\n",
    "lmp_mini1.interactive_close()"
   ]
  },
  {
   "cell_type": "code",
   "execution_count": 13,
   "id": "77458f11",
   "metadata": {},
   "outputs": [
    {
     "data": {
      "text/plain": [
       "Fe: [0.00482899 0.00482899 0.00482899]\n",
       "Fe: [1.435 1.435 1.435]\n",
       "pbc: [ True  True  True]\n",
       "cell: \n",
       "Cell([[2.8603420110170252, 1.7514543441293517e-16, 1.7514543441293517e-16], [0.0, 2.8603420110170252, 1.7514543441293512e-16], [0.0, 0.0, 2.8603420110170252]])"
      ]
     },
     "execution_count": 13,
     "metadata": {},
     "output_type": "execute_result"
    }
   ],
   "source": [
    "lmp_mini1.get_structure()"
   ]
  },
  {
   "cell_type": "code",
   "execution_count": null,
   "id": "ecf22063",
   "metadata": {},
   "outputs": [],
   "source": []
  }
 ],
 "metadata": {
  "kernelspec": {
   "display_name": "Python 3 (ipykernel)",
   "language": "python",
   "name": "python3"
  },
  "language_info": {
   "codemirror_mode": {
    "name": "ipython",
    "version": 3
   },
   "file_extension": ".py",
   "mimetype": "text/x-python",
   "name": "python",
   "nbconvert_exporter": "python",
   "pygments_lexer": "ipython3",
   "version": "3.10.8"
  }
 },
 "nbformat": 4,
 "nbformat_minor": 5
}
